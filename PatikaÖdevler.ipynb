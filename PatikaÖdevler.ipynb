{
  "nbformat": 4,
  "nbformat_minor": 0,
  "metadata": {
    "colab": {
      "provenance": [],
      "authorship_tag": "ABX9TyPujGZ+S639q3w7k6I2TEl9",
      "include_colab_link": true
    },
    "kernelspec": {
      "name": "python3",
      "display_name": "Python 3"
    },
    "language_info": {
      "name": "python"
    }
  },
  "cells": [
    {
      "cell_type": "markdown",
      "metadata": {
        "id": "view-in-github",
        "colab_type": "text"
      },
      "source": [
        "<a href=\"https://colab.research.google.com/github/eceirem/Patika/blob/main/Patika%C3%96devler.ipynb\" target=\"_parent\"><img src=\"https://colab.research.google.com/assets/colab-badge.svg\" alt=\"Open In Colab\"/></a>"
      ]
    },
    {
      "cell_type": "code",
      "source": [
        "# girilen sayının pozitif, negatif veya sıfır olduğunu yazan koşul\n",
        "number = int(input(\"Please enter a number: \"))\n",
        "if number < 0:\n",
        "  print(\"negative\")\n",
        "elif number >= 0:\n",
        "  print(\"positive\")"
      ],
      "metadata": {
        "colab": {
          "base_uri": "https://localhost:8080/"
        },
        "id": "U-trOX-cedXu",
        "outputId": "a0c3c48b-2b15-4f30-90b0-1ef3512ac5b7"
      },
      "execution_count": null,
      "outputs": [
        {
          "output_type": "stream",
          "name": "stdout",
          "text": [
            "Please enter a number: 12\n",
            "positive\n"
          ]
        }
      ]
    },
    {
      "cell_type": "code",
      "source": [
        "# girilen sayının tek mi çift mi olduğunu yazan koşul\n",
        "number = int(input(\"Please enter a number: \"))\n",
        "if number%2 == 0: #çift\n",
        "  print(\"even\")\n",
        "else: #tek\n",
        "  print(\"odd\")"
      ],
      "metadata": {
        "colab": {
          "base_uri": "https://localhost:8080/"
        },
        "id": "LZVnmRSTekKr",
        "outputId": "8afe288a-a478-4cca-d3cd-34e615cede9b"
      },
      "execution_count": null,
      "outputs": [
        {
          "output_type": "stream",
          "name": "stdout",
          "text": [
            "Please enter a number: 2\n",
            "even\n"
          ]
        }
      ]
    },
    {
      "cell_type": "code",
      "source": [
        "# Girilen nota göre harf aralığını yazan koşul (80-100 A, 60-80 B vs.)\n",
        "note = int(input(\"Please enter a number: \"))\n",
        "print(\"Your mark is:\")\n",
        "if note > 80:\n",
        "  print(\"A\")\n",
        "elif note < 80 and note > 60:\n",
        "  print(\"B\")\n",
        "elif note < 60 and note > 40:\n",
        "  print(\"C\")\n",
        "else:\n",
        "  print(\"D\")\n"
      ],
      "metadata": {
        "colab": {
          "base_uri": "https://localhost:8080/"
        },
        "id": "BgtPtr4se74U",
        "outputId": "6c12e763-74e4-4e64-c2f6-b0d7c6d95a3c"
      },
      "execution_count": null,
      "outputs": [
        {
          "output_type": "stream",
          "name": "stdout",
          "text": [
            "Please enter a number: 78\n",
            "Your mark is:\n",
            "B\n"
          ]
        }
      ]
    },
    {
      "cell_type": "code",
      "source": [
        "# girilen ismin karakter sayısı 5'ten büyükse \"uzun bir isminiz var\" değilse ismini yazsın\n",
        "name = input(\"Please enter your name: \")\n",
        "counter = 0\n",
        "for i in name: #isim bitene kadar çalışır bu döngü, istersem range(len(name)) de diyebilirim.\n",
        "  counter += 1\n",
        "if counter >= 5:\n",
        "  print(\"uzun bir isminiz var.\")\n",
        "else:\n",
        "  print(\"isminiz kısaymış kolay ezberlenir :)\")"
      ],
      "metadata": {
        "colab": {
          "base_uri": "https://localhost:8080/"
        },
        "id": "eCzXBMU3fOx5",
        "outputId": "90ac4d40-e4e5-4008-a7c4-d558117f19f8"
      },
      "execution_count": null,
      "outputs": [
        {
          "output_type": "stream",
          "name": "stdout",
          "text": [
            "Please enter your name: ece\n",
            "isminiz kısaymış kolay ezberlenir :)\n"
          ]
        }
      ]
    },
    {
      "cell_type": "code",
      "source": [
        "# girilen sayının asal olup olmadığını bulan kod dizisi.\n",
        "number = int(input(\"Please enter a number: \"))\n",
        "isPrime = True #asal olduğunu varsayalım\n",
        "for i in range(2,number): #bir sayının 2den kendisine kadar olan sayılara bölünüp bölünmediğine bakabilirim.\n",
        "#input = 2 için bu döngü çalışmaz ve böylelikle asallığı bozulmaz.\n",
        "  if number%i == 0:\n",
        "    isPrime = False\n",
        "if isPrime: #asal ise buraya girer\n",
        "  print(\"Asal sayıdır.\")\n",
        "else:\n",
        "  print(\"Asal sayı değildir.\")"
      ],
      "metadata": {
        "colab": {
          "base_uri": "https://localhost:8080/"
        },
        "id": "6fxh5mblf8Fs",
        "outputId": "7e197544-4fcf-4383-a8bf-ebc1a25e094f"
      },
      "execution_count": null,
      "outputs": [
        {
          "output_type": "stream",
          "name": "stdout",
          "text": [
            "Please enter a number: 9\n",
            "Asal sayı değildir.\n"
          ]
        }
      ]
    },
    {
      "cell_type": "code",
      "source": [
        "# her bir nota 30 puan eklenecek, eğer 100 u geçerse notu 100 yazacak.\n",
        "notes = [49,62,56,90,87]\n",
        "for i in range(len(notes)):\n",
        "  if notes[i] + 30 >= 100:\n",
        "    notes[i] = 100\n",
        "  else:\n",
        "    notes[i] += 30\n",
        "print(notes)"
      ],
      "metadata": {
        "colab": {
          "base_uri": "https://localhost:8080/"
        },
        "id": "iKmCCvUXg2qd",
        "outputId": "468c4ee4-1610-49ac-ece8-b794dad02f11"
      },
      "execution_count": null,
      "outputs": [
        {
          "output_type": "stream",
          "name": "stdout",
          "text": [
            "[79, 92, 86, 100, 100]\n"
          ]
        }
      ]
    },
    {
      "cell_type": "code",
      "source": [
        "#notlar = [45,85,75,50] içinde 75 değerinin indisini yazdıran döngü\n",
        "notlar = [45,85,75,50]\n",
        "for i in range(len(notlar)):\n",
        "  if notlar[i] == 75:\n",
        "    print(f\" 75 is  on {i}. index\")"
      ],
      "metadata": {
        "id": "i0Kn5iuJhZ2C",
        "colab": {
          "base_uri": "https://localhost:8080/"
        },
        "outputId": "4cfb5bc5-12af-42f1-fdce-36a64c27d4b0"
      },
      "execution_count": 2,
      "outputs": [
        {
          "output_type": "stream",
          "name": "stdout",
          "text": [
            " 75 is  on 2. index\n"
          ]
        }
      ]
    },
    {
      "cell_type": "code",
      "source": [
        "#girilen sayının faktöriyelini hesaplayalım. (for ve while ile)\n",
        "#for\n",
        "number = int(input())\n",
        "fact = 1\n",
        "for i in range(1,number+1):\n",
        "  fact*=i\n",
        "print(f\"Factorial({number})={fact}\")\n",
        "#while\n",
        "fact = 1\n",
        "counter = 1 #0 ile çarpılmasın\n",
        "while counter < number+1: #kendisi ile de çarpılması lazım\n",
        "  fact *= counter\n",
        "  counter +=1\n",
        "print(f\"{number}!={fact}\")"
      ],
      "metadata": {
        "colab": {
          "base_uri": "https://localhost:8080/"
        },
        "id": "qIYMrQClLFo0",
        "outputId": "221b109d-7d39-4175-de44-036c3a8771a2"
      },
      "execution_count": 8,
      "outputs": [
        {
          "output_type": "stream",
          "name": "stdout",
          "text": [
            "6\n",
            "Factorial(6)=720\n",
            "6!=720\n"
          ]
        }
      ]
    },
    {
      "cell_type": "code",
      "source": [
        "#kullancıdan pozitif tam sayı bekleyen ve negatif geldikçe tekrar sorsun (for ile)\n",
        "for _ in iter(int, 10):  # int fonksiyonu hiçbir zaman 1 dönmeyecek, yani döngü sonsuz gibi çalışır\n",
        "    number = int(input(\"Pozitif bir tam sayı girin: \"))\n",
        "    if number >= 0:\n",
        "        print(\"Girdiğiniz sayı:\", number)\n",
        "        break"
      ],
      "metadata": {
        "id": "lsj7VCWFL8QX",
        "outputId": "f3a6d023-c307-4771-9876-248825ff23c6",
        "colab": {
          "base_uri": "https://localhost:8080/",
          "height": 193
        }
      },
      "execution_count": 19,
      "outputs": [
        {
          "output_type": "error",
          "ename": "TypeError",
          "evalue": "iter(v, w): v must be callable",
          "traceback": [
            "\u001b[0;31m---------------------------------------------------------------------------\u001b[0m",
            "\u001b[0;31mTypeError\u001b[0m                                 Traceback (most recent call last)",
            "\u001b[0;32m<ipython-input-19-256b386d8904>\u001b[0m in \u001b[0;36m<cell line: 0>\u001b[0;34m()\u001b[0m\n\u001b[1;32m      1\u001b[0m \u001b[0;31m#kullancıdan pozitif tam sayı bekleyen ve negatif geldikçe tekrar sorsun (for ile)\u001b[0m\u001b[0;34m\u001b[0m\u001b[0;34m\u001b[0m\u001b[0m\n\u001b[0;32m----> 2\u001b[0;31m \u001b[0;32mfor\u001b[0m \u001b[0m_\u001b[0m \u001b[0;32min\u001b[0m \u001b[0miter\u001b[0m\u001b[0;34m(\u001b[0m\u001b[0mint\u001b[0m\u001b[0;34m(\u001b[0m\u001b[0;34m)\u001b[0m\u001b[0;34m,\u001b[0m \u001b[0;36m10\u001b[0m\u001b[0;34m)\u001b[0m\u001b[0;34m:\u001b[0m  \u001b[0;31m# int fonksiyonu hiçbir zaman 1 dönmeyecek, yani döngü sonsuz gibi çalışır\u001b[0m\u001b[0;34m\u001b[0m\u001b[0;34m\u001b[0m\u001b[0m\n\u001b[0m\u001b[1;32m      3\u001b[0m     \u001b[0mnumber\u001b[0m \u001b[0;34m=\u001b[0m \u001b[0mint\u001b[0m\u001b[0;34m(\u001b[0m\u001b[0minput\u001b[0m\u001b[0;34m(\u001b[0m\u001b[0;34m\"Pozitif bir tam sayı girin: \"\u001b[0m\u001b[0;34m)\u001b[0m\u001b[0;34m)\u001b[0m\u001b[0;34m\u001b[0m\u001b[0;34m\u001b[0m\u001b[0m\n\u001b[1;32m      4\u001b[0m \u001b[0;34m\u001b[0m\u001b[0m\n",
            "\u001b[0;31mTypeError\u001b[0m: iter(v, w): v must be callable"
          ]
        }
      ]
    },
    {
      "cell_type": "code",
      "source": [],
      "metadata": {
        "id": "yU5saSP2L0Pc"
      },
      "execution_count": 11,
      "outputs": []
    }
  ]
}