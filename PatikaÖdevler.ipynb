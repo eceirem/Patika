{
  "nbformat": 4,
  "nbformat_minor": 0,
  "metadata": {
    "colab": {
      "provenance": [],
      "authorship_tag": "ABX9TyNZ1QpNVOhyv13ogG9NYEhH",
      "include_colab_link": true
    },
    "kernelspec": {
      "name": "python3",
      "display_name": "Python 3"
    },
    "language_info": {
      "name": "python"
    }
  },
  "cells": [
    {
      "cell_type": "markdown",
      "metadata": {
        "id": "view-in-github",
        "colab_type": "text"
      },
      "source": [
        "<a href=\"https://colab.research.google.com/github/eceirem/Patika/blob/main/Patika%C3%96devler.ipynb\" target=\"_parent\"><img src=\"https://colab.research.google.com/assets/colab-badge.svg\" alt=\"Open In Colab\"/></a>"
      ]
    },
    {
      "cell_type": "code",
      "execution_count": null,
      "metadata": {
        "id": "CiKNv00Xd-Vc"
      },
      "outputs": [],
      "source": [
        "# girilen sayının pozitif, negatif veya sıfır olduğunu yazan koşul\n",
        "# girilen sayının tek mi çift mi olduğunu yazan koşul\n",
        "# Girilen nota göre harf aralığını yazan koşul (80-100 A, 60-80 B vs.)\n",
        "# girilen ismin karakter sayısı 5'ten büyükse \"uzun bir isminiz var\" değilse ismini yazsın\n",
        "# girilen sayının asal olup olmadığını bulan kod dizisi.\n",
        "# her bir nota 30 puan eklenecek, eğer 100 u geçerse notu 100 yazacak."
      ]
    },
    {
      "cell_type": "code",
      "source": [
        "# girilen sayının pozitif, negatif veya sıfır olduğunu yazan koşul\n",
        "number = int(input(\"Please enter a number: \"))\n",
        "if number < 0:\n",
        "  print(\"negative\")\n",
        "elif number >= 0:\n",
        "  print(\"positive\")"
      ],
      "metadata": {
        "colab": {
          "base_uri": "https://localhost:8080/"
        },
        "id": "U-trOX-cedXu",
        "outputId": "a0c3c48b-2b15-4f30-90b0-1ef3512ac5b7"
      },
      "execution_count": null,
      "outputs": [
        {
          "output_type": "stream",
          "name": "stdout",
          "text": [
            "Please enter a number: 12\n",
            "positive\n"
          ]
        }
      ]
    },
    {
      "cell_type": "code",
      "source": [
        "# girilen sayının tek mi çift mi olduğunu yazan koşul\n",
        "number = int(input(\"Please enter a number: \"))\n",
        "if number%2 == 0: #çift\n",
        "  print(\"even\")\n",
        "else: #tek\n",
        "  print(\"odd\")"
      ],
      "metadata": {
        "colab": {
          "base_uri": "https://localhost:8080/"
        },
        "id": "LZVnmRSTekKr",
        "outputId": "8afe288a-a478-4cca-d3cd-34e615cede9b"
      },
      "execution_count": null,
      "outputs": [
        {
          "output_type": "stream",
          "name": "stdout",
          "text": [
            "Please enter a number: 2\n",
            "even\n"
          ]
        }
      ]
    },
    {
      "cell_type": "code",
      "source": [
        "# Girilen nota göre harf aralığını yazan koşul (80-100 A, 60-80 B vs.)\n",
        "note = int(input(\"Please enter a number: \"))\n",
        "print(\"Your mark is:\")\n",
        "if note > 80:\n",
        "  print(\"A\")\n",
        "elif note < 80 and note > 60:\n",
        "  print(\"B\")\n",
        "elif note < 60 and note > 40:\n",
        "  print(\"C\")\n",
        "else:\n",
        "  print(\"D\")\n"
      ],
      "metadata": {
        "colab": {
          "base_uri": "https://localhost:8080/"
        },
        "id": "BgtPtr4se74U",
        "outputId": "6c12e763-74e4-4e64-c2f6-b0d7c6d95a3c"
      },
      "execution_count": null,
      "outputs": [
        {
          "output_type": "stream",
          "name": "stdout",
          "text": [
            "Please enter a number: 78\n",
            "Your mark is:\n",
            "B\n"
          ]
        }
      ]
    },
    {
      "cell_type": "code",
      "source": [
        "# girilen ismin karakter sayısı 5'ten büyükse \"uzun bir isminiz var\" değilse ismini yazsın\n",
        "name = input(\"Please enter your name: \")\n",
        "counter = 0\n",
        "for i in name: #isim bitene kadar çalışır bu döngü, istersem range(len(name)) de diyebilirim.\n",
        "  counter += 1\n",
        "if counter >= 5:\n",
        "  print(\"uzun bir isminiz var.\")\n",
        "else:\n",
        "  print(\"isminiz kısaymış kolay ezberlenir :)\")"
      ],
      "metadata": {
        "colab": {
          "base_uri": "https://localhost:8080/"
        },
        "id": "eCzXBMU3fOx5",
        "outputId": "90ac4d40-e4e5-4008-a7c4-d558117f19f8"
      },
      "execution_count": null,
      "outputs": [
        {
          "output_type": "stream",
          "name": "stdout",
          "text": [
            "Please enter your name: ece\n",
            "isminiz kısaymış kolay ezberlenir :)\n"
          ]
        }
      ]
    },
    {
      "cell_type": "code",
      "source": [
        "# girilen sayının asal olup olmadığını bulan kod dizisi.\n",
        "number = int(input(\"Please enter a number: \"))\n",
        "isPrime = True #asal olduğunu varsayalım\n",
        "for i in range(2,number): #bir sayının 2den kendisine kadar olan sayılara bölünüp bölünmediğine bakabilirim.\n",
        "#input = 2 için bu döngü çalışmaz ve böylelikle asallığı bozulmaz.\n",
        "  if number%i == 0:\n",
        "    isPrime = False\n",
        "if isPrime: #asal ise buraya girer\n",
        "  print(\"Asal sayıdır.\")\n",
        "else:\n",
        "  print(\"Asal sayı değildir.\")"
      ],
      "metadata": {
        "colab": {
          "base_uri": "https://localhost:8080/"
        },
        "id": "6fxh5mblf8Fs",
        "outputId": "7e197544-4fcf-4383-a8bf-ebc1a25e094f"
      },
      "execution_count": null,
      "outputs": [
        {
          "output_type": "stream",
          "name": "stdout",
          "text": [
            "Please enter a number: 9\n",
            "Asal sayı değildir.\n"
          ]
        }
      ]
    },
    {
      "cell_type": "code",
      "source": [
        "# her bir nota 30 puan eklenecek, eğer 100 u geçerse notu 100 yazacak.\n",
        "notes = [49,62,56,90,87]\n",
        "for i in range(len(notes)):\n",
        "  if notes[i] + 30 >= 100:\n",
        "    notes[i] = 100\n",
        "  else:\n",
        "    notes[i] += 30\n",
        "print(notes)"
      ],
      "metadata": {
        "colab": {
          "base_uri": "https://localhost:8080/"
        },
        "id": "iKmCCvUXg2qd",
        "outputId": "468c4ee4-1610-49ac-ece8-b794dad02f11"
      },
      "execution_count": null,
      "outputs": [
        {
          "output_type": "stream",
          "name": "stdout",
          "text": [
            "[79, 92, 86, 100, 100]\n"
          ]
        }
      ]
    },
    {
      "cell_type": "code",
      "source": [],
      "metadata": {
        "id": "i0Kn5iuJhZ2C"
      },
      "execution_count": null,
      "outputs": []
    }
  ]
}