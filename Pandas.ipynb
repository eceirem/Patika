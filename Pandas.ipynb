{
  "cells": [
    {
      "cell_type": "markdown",
      "metadata": {
        "id": "hn3zPTFxHpm-"
      },
      "source": [
        "## PANDAS\n",
        "\n",
        "It’s simple to use Pandas in order to export your array as well.\n",
        "If you are new to NumPy, you may want to create a Pandas dataframe from the values in your array and\n",
        "then write the data frame to a CSV file with Pandas.\n",
        "\n",
        "#https://pandas.pydata.org/docs/user_guide/index.html\n",
        "#https://pandas.pydata.org/docs/user_guide/cookbook.html#cookbook"
      ]
    },
    {
      "cell_type": "raw",
      "metadata": {
        "id": "KZysj0snHpm-"
      },
      "source": [
        "#### Kütüphane Çağırma:\n",
        "##### Not: Kütüphane yüklü değilse !pip install pandas komutu ile bilgisayara indirilmelidir."
      ]
    },
    {
      "cell_type": "code",
      "execution_count": null,
      "metadata": {
        "id": "OkpaTz7cHpm-",
        "tags": []
      },
      "outputs": [],
      "source": [
        "!pip install pandas"
      ]
    },
    {
      "cell_type": "code",
      "execution_count": null,
      "metadata": {
        "id": "cRj-YkJ1Hpm-",
        "tags": []
      },
      "outputs": [],
      "source": [
        "import pandas as pd"
      ]
    },
    {
      "cell_type": "code",
      "execution_count": null,
      "metadata": {
        "id": "qPdrOUYGHpm_",
        "outputId": "0a0e924e-eb14-4b8b-996d-84b06ea5e134",
        "tags": []
      },
      "outputs": [
        {
          "name": "stdout",
          "output_type": "stream",
          "text": [
            "/opt/app-root/src/6.Hafta_Python_Handson_Modelleme/#1Warm-up-session\n"
          ]
        }
      ],
      "source": [
        "import os\n",
        "path = os.getcwd()\n",
        "print(path)"
      ]
    },
    {
      "cell_type": "code",
      "execution_count": null,
      "metadata": {
        "id": "NsL6HQFFHpm_",
        "tags": []
      },
      "outputs": [],
      "source": [
        "#SERIES"
      ]
    },
    {
      "cell_type": "code",
      "source": [
        "series_sample=pd.Series([4, 5, -16, 3])\n",
        "series_sample"
      ],
      "metadata": {
        "colab": {
          "base_uri": "https://localhost:8080/",
          "height": 209
        },
        "id": "pWuEg9kuYGoB",
        "outputId": "ff394a89-7eba-4b4c-91d9-b2a981df21e9"
      },
      "execution_count": null,
      "outputs": [
        {
          "output_type": "execute_result",
          "data": {
            "text/plain": [
              "0     4\n",
              "1     5\n",
              "2   -16\n",
              "3     3\n",
              "dtype: int64"
            ],
            "text/html": [
              "<div>\n",
              "<style scoped>\n",
              "    .dataframe tbody tr th:only-of-type {\n",
              "        vertical-align: middle;\n",
              "    }\n",
              "\n",
              "    .dataframe tbody tr th {\n",
              "        vertical-align: top;\n",
              "    }\n",
              "\n",
              "    .dataframe thead th {\n",
              "        text-align: right;\n",
              "    }\n",
              "</style>\n",
              "<table border=\"1\" class=\"dataframe\">\n",
              "  <thead>\n",
              "    <tr style=\"text-align: right;\">\n",
              "      <th></th>\n",
              "      <th>0</th>\n",
              "    </tr>\n",
              "  </thead>\n",
              "  <tbody>\n",
              "    <tr>\n",
              "      <th>0</th>\n",
              "      <td>4</td>\n",
              "    </tr>\n",
              "    <tr>\n",
              "      <th>1</th>\n",
              "      <td>5</td>\n",
              "    </tr>\n",
              "    <tr>\n",
              "      <th>2</th>\n",
              "      <td>-16</td>\n",
              "    </tr>\n",
              "    <tr>\n",
              "      <th>3</th>\n",
              "      <td>3</td>\n",
              "    </tr>\n",
              "  </tbody>\n",
              "</table>\n",
              "</div><br><label><b>dtype:</b> int64</label>"
            ]
          },
          "metadata": {},
          "execution_count": 4
        }
      ]
    },
    {
      "cell_type": "code",
      "execution_count": null,
      "metadata": {
        "id": "NI1ZFpXkHpm_",
        "tags": []
      },
      "outputs": [],
      "source": [
        "series_sample=pd.Series([4, 5, -16, 3], index=['x', 'y', 'z', 'w'])"
      ]
    },
    {
      "cell_type": "code",
      "execution_count": null,
      "metadata": {
        "id": "BnOP3knzHpnA",
        "outputId": "ad132aa8-e33e-493f-cc40-22b32c85fa43",
        "tags": []
      },
      "outputs": [
        {
          "data": {
            "text/plain": [
              "x     4\n",
              "y     5\n",
              "z   -16\n",
              "w     3\n",
              "dtype: int64"
            ]
          },
          "execution_count": 30,
          "metadata": {},
          "output_type": "execute_result"
        }
      ],
      "source": [
        "series_sample"
      ]
    },
    {
      "cell_type": "code",
      "execution_count": null,
      "metadata": {
        "id": "ecoK4y_eHpnA",
        "outputId": "c2cef64f-d07a-40c0-92b8-6daf119be4b3",
        "tags": []
      },
      "outputs": [
        {
          "data": {
            "text/plain": [
              "-16"
            ]
          },
          "execution_count": 31,
          "metadata": {},
          "output_type": "execute_result"
        }
      ],
      "source": [
        "series_sample['z']"
      ]
    },
    {
      "cell_type": "markdown",
      "metadata": {
        "id": "iNNio8DYHpnB",
        "tags": []
      },
      "source": [
        "## DATAFRAME"
      ]
    },
    {
      "cell_type": "markdown",
      "metadata": {
        "id": "H2fY_b6SHpnB"
      },
      "source": [
        "NOT:\n",
        "\n",
        "df[x] — index a column using variable x. Returns pd.Series\n",
        "\n",
        "df[[x]] — index/slice a single-column DataFrame using variable x. Returns pd.DataFrame\n",
        "\n",
        "df['x'] — index a column named 'x'. Returns pd.Series\n",
        "\n",
        "df[['x']] — index/slice a single-column DataFrame having only one column named 'x'. Returns pd.DataFrame\n",
        "\n",
        "df.x — dot accessor notation, equivalent to df['x'] (there are, however, limitations on what x can be named if dot notation is to be successfully used). Returns pd.Series\n",
        "\n",
        "With single brackets [...] you may only index a single column out as a Series. With double brackets, [[...]], you may select as many columns as you need, and these columns are returned as part of a new DataFrame.\n",
        "\n",
        "Kaynak: https://stackoverflow.com/questions/50302180/difference-between-dfx-dfx-dfx-dfx-and-df-x"
      ]
    },
    {
      "cell_type": "code",
      "execution_count": null,
      "metadata": {
        "colab": {
          "base_uri": "https://localhost:8080/"
        },
        "id": "Xx0idUL_ZZYJ",
        "outputId": "cc249d2e-bcc4-4f8e-fb61-c28e6ce584d1"
      },
      "outputs": [
        {
          "output_type": "execute_result",
          "data": {
            "text/plain": [
              "array([[ 1,  2,  3,  4],\n",
              "       [ 5,  6,  7,  8],\n",
              "       [ 9, 10, 11, 12]])"
            ]
          },
          "metadata": {},
          "execution_count": 11
        }
      ],
      "source": [
        "# 1'den 13'e kadar olan sayılar ile 3x4 lük bir array oluşturma\n",
        "m=np.arange(1,13).reshape(3,4)\n",
        "m"
      ]
    },
    {
      "cell_type": "code",
      "execution_count": null,
      "metadata": {
        "colab": {
          "base_uri": "https://localhost:8080/",
          "height": 143
        },
        "id": "3cdMAPeaZZYK",
        "outputId": "29df51ab-ace1-435e-f395-fc3334e0f28c"
      },
      "outputs": [
        {
          "output_type": "execute_result",
          "data": {
            "text/plain": [
              "   a   b   c   d\n",
              "0  1   2   3   4\n",
              "1  5   6   7   8\n",
              "2  9  10  11  12"
            ],
            "text/html": [
              "\n",
              "  <div id=\"df-7074f973-0653-4574-a7ad-ece5cdb70e72\" class=\"colab-df-container\">\n",
              "    <div>\n",
              "<style scoped>\n",
              "    .dataframe tbody tr th:only-of-type {\n",
              "        vertical-align: middle;\n",
              "    }\n",
              "\n",
              "    .dataframe tbody tr th {\n",
              "        vertical-align: top;\n",
              "    }\n",
              "\n",
              "    .dataframe thead th {\n",
              "        text-align: right;\n",
              "    }\n",
              "</style>\n",
              "<table border=\"1\" class=\"dataframe\">\n",
              "  <thead>\n",
              "    <tr style=\"text-align: right;\">\n",
              "      <th></th>\n",
              "      <th>a</th>\n",
              "      <th>b</th>\n",
              "      <th>c</th>\n",
              "      <th>d</th>\n",
              "    </tr>\n",
              "  </thead>\n",
              "  <tbody>\n",
              "    <tr>\n",
              "      <th>0</th>\n",
              "      <td>1</td>\n",
              "      <td>2</td>\n",
              "      <td>3</td>\n",
              "      <td>4</td>\n",
              "    </tr>\n",
              "    <tr>\n",
              "      <th>1</th>\n",
              "      <td>5</td>\n",
              "      <td>6</td>\n",
              "      <td>7</td>\n",
              "      <td>8</td>\n",
              "    </tr>\n",
              "    <tr>\n",
              "      <th>2</th>\n",
              "      <td>9</td>\n",
              "      <td>10</td>\n",
              "      <td>11</td>\n",
              "      <td>12</td>\n",
              "    </tr>\n",
              "  </tbody>\n",
              "</table>\n",
              "</div>\n",
              "    <div class=\"colab-df-buttons\">\n",
              "\n",
              "  <div class=\"colab-df-container\">\n",
              "    <button class=\"colab-df-convert\" onclick=\"convertToInteractive('df-7074f973-0653-4574-a7ad-ece5cdb70e72')\"\n",
              "            title=\"Convert this dataframe to an interactive table.\"\n",
              "            style=\"display:none;\">\n",
              "\n",
              "  <svg xmlns=\"http://www.w3.org/2000/svg\" height=\"24px\" viewBox=\"0 -960 960 960\">\n",
              "    <path d=\"M120-120v-720h720v720H120Zm60-500h600v-160H180v160Zm220 220h160v-160H400v160Zm0 220h160v-160H400v160ZM180-400h160v-160H180v160Zm440 0h160v-160H620v160ZM180-180h160v-160H180v160Zm440 0h160v-160H620v160Z\"/>\n",
              "  </svg>\n",
              "    </button>\n",
              "\n",
              "  <style>\n",
              "    .colab-df-container {\n",
              "      display:flex;\n",
              "      gap: 12px;\n",
              "    }\n",
              "\n",
              "    .colab-df-convert {\n",
              "      background-color: #E8F0FE;\n",
              "      border: none;\n",
              "      border-radius: 50%;\n",
              "      cursor: pointer;\n",
              "      display: none;\n",
              "      fill: #1967D2;\n",
              "      height: 32px;\n",
              "      padding: 0 0 0 0;\n",
              "      width: 32px;\n",
              "    }\n",
              "\n",
              "    .colab-df-convert:hover {\n",
              "      background-color: #E2EBFA;\n",
              "      box-shadow: 0px 1px 2px rgba(60, 64, 67, 0.3), 0px 1px 3px 1px rgba(60, 64, 67, 0.15);\n",
              "      fill: #174EA6;\n",
              "    }\n",
              "\n",
              "    .colab-df-buttons div {\n",
              "      margin-bottom: 4px;\n",
              "    }\n",
              "\n",
              "    [theme=dark] .colab-df-convert {\n",
              "      background-color: #3B4455;\n",
              "      fill: #D2E3FC;\n",
              "    }\n",
              "\n",
              "    [theme=dark] .colab-df-convert:hover {\n",
              "      background-color: #434B5C;\n",
              "      box-shadow: 0px 1px 3px 1px rgba(0, 0, 0, 0.15);\n",
              "      filter: drop-shadow(0px 1px 2px rgba(0, 0, 0, 0.3));\n",
              "      fill: #FFFFFF;\n",
              "    }\n",
              "  </style>\n",
              "\n",
              "    <script>\n",
              "      const buttonEl =\n",
              "        document.querySelector('#df-7074f973-0653-4574-a7ad-ece5cdb70e72 button.colab-df-convert');\n",
              "      buttonEl.style.display =\n",
              "        google.colab.kernel.accessAllowed ? 'block' : 'none';\n",
              "\n",
              "      async function convertToInteractive(key) {\n",
              "        const element = document.querySelector('#df-7074f973-0653-4574-a7ad-ece5cdb70e72');\n",
              "        const dataTable =\n",
              "          await google.colab.kernel.invokeFunction('convertToInteractive',\n",
              "                                                    [key], {});\n",
              "        if (!dataTable) return;\n",
              "\n",
              "        const docLinkHtml = 'Like what you see? Visit the ' +\n",
              "          '<a target=\"_blank\" href=https://colab.research.google.com/notebooks/data_table.ipynb>data table notebook</a>'\n",
              "          + ' to learn more about interactive tables.';\n",
              "        element.innerHTML = '';\n",
              "        dataTable['output_type'] = 'display_data';\n",
              "        await google.colab.output.renderOutput(dataTable, element);\n",
              "        const docLink = document.createElement('div');\n",
              "        docLink.innerHTML = docLinkHtml;\n",
              "        element.appendChild(docLink);\n",
              "      }\n",
              "    </script>\n",
              "  </div>\n",
              "\n",
              "\n",
              "    <div id=\"df-1cb620da-47fd-483e-8917-702756d400c6\">\n",
              "      <button class=\"colab-df-quickchart\" onclick=\"quickchart('df-1cb620da-47fd-483e-8917-702756d400c6')\"\n",
              "                title=\"Suggest charts\"\n",
              "                style=\"display:none;\">\n",
              "\n",
              "<svg xmlns=\"http://www.w3.org/2000/svg\" height=\"24px\"viewBox=\"0 0 24 24\"\n",
              "     width=\"24px\">\n",
              "    <g>\n",
              "        <path d=\"M19 3H5c-1.1 0-2 .9-2 2v14c0 1.1.9 2 2 2h14c1.1 0 2-.9 2-2V5c0-1.1-.9-2-2-2zM9 17H7v-7h2v7zm4 0h-2V7h2v10zm4 0h-2v-4h2v4z\"/>\n",
              "    </g>\n",
              "</svg>\n",
              "      </button>\n",
              "\n",
              "<style>\n",
              "  .colab-df-quickchart {\n",
              "      --bg-color: #E8F0FE;\n",
              "      --fill-color: #1967D2;\n",
              "      --hover-bg-color: #E2EBFA;\n",
              "      --hover-fill-color: #174EA6;\n",
              "      --disabled-fill-color: #AAA;\n",
              "      --disabled-bg-color: #DDD;\n",
              "  }\n",
              "\n",
              "  [theme=dark] .colab-df-quickchart {\n",
              "      --bg-color: #3B4455;\n",
              "      --fill-color: #D2E3FC;\n",
              "      --hover-bg-color: #434B5C;\n",
              "      --hover-fill-color: #FFFFFF;\n",
              "      --disabled-bg-color: #3B4455;\n",
              "      --disabled-fill-color: #666;\n",
              "  }\n",
              "\n",
              "  .colab-df-quickchart {\n",
              "    background-color: var(--bg-color);\n",
              "    border: none;\n",
              "    border-radius: 50%;\n",
              "    cursor: pointer;\n",
              "    display: none;\n",
              "    fill: var(--fill-color);\n",
              "    height: 32px;\n",
              "    padding: 0;\n",
              "    width: 32px;\n",
              "  }\n",
              "\n",
              "  .colab-df-quickchart:hover {\n",
              "    background-color: var(--hover-bg-color);\n",
              "    box-shadow: 0 1px 2px rgba(60, 64, 67, 0.3), 0 1px 3px 1px rgba(60, 64, 67, 0.15);\n",
              "    fill: var(--button-hover-fill-color);\n",
              "  }\n",
              "\n",
              "  .colab-df-quickchart-complete:disabled,\n",
              "  .colab-df-quickchart-complete:disabled:hover {\n",
              "    background-color: var(--disabled-bg-color);\n",
              "    fill: var(--disabled-fill-color);\n",
              "    box-shadow: none;\n",
              "  }\n",
              "\n",
              "  .colab-df-spinner {\n",
              "    border: 2px solid var(--fill-color);\n",
              "    border-color: transparent;\n",
              "    border-bottom-color: var(--fill-color);\n",
              "    animation:\n",
              "      spin 1s steps(1) infinite;\n",
              "  }\n",
              "\n",
              "  @keyframes spin {\n",
              "    0% {\n",
              "      border-color: transparent;\n",
              "      border-bottom-color: var(--fill-color);\n",
              "      border-left-color: var(--fill-color);\n",
              "    }\n",
              "    20% {\n",
              "      border-color: transparent;\n",
              "      border-left-color: var(--fill-color);\n",
              "      border-top-color: var(--fill-color);\n",
              "    }\n",
              "    30% {\n",
              "      border-color: transparent;\n",
              "      border-left-color: var(--fill-color);\n",
              "      border-top-color: var(--fill-color);\n",
              "      border-right-color: var(--fill-color);\n",
              "    }\n",
              "    40% {\n",
              "      border-color: transparent;\n",
              "      border-right-color: var(--fill-color);\n",
              "      border-top-color: var(--fill-color);\n",
              "    }\n",
              "    60% {\n",
              "      border-color: transparent;\n",
              "      border-right-color: var(--fill-color);\n",
              "    }\n",
              "    80% {\n",
              "      border-color: transparent;\n",
              "      border-right-color: var(--fill-color);\n",
              "      border-bottom-color: var(--fill-color);\n",
              "    }\n",
              "    90% {\n",
              "      border-color: transparent;\n",
              "      border-bottom-color: var(--fill-color);\n",
              "    }\n",
              "  }\n",
              "</style>\n",
              "\n",
              "      <script>\n",
              "        async function quickchart(key) {\n",
              "          const quickchartButtonEl =\n",
              "            document.querySelector('#' + key + ' button');\n",
              "          quickchartButtonEl.disabled = true;  // To prevent multiple clicks.\n",
              "          quickchartButtonEl.classList.add('colab-df-spinner');\n",
              "          try {\n",
              "            const charts = await google.colab.kernel.invokeFunction(\n",
              "                'suggestCharts', [key], {});\n",
              "          } catch (error) {\n",
              "            console.error('Error during call to suggestCharts:', error);\n",
              "          }\n",
              "          quickchartButtonEl.classList.remove('colab-df-spinner');\n",
              "          quickchartButtonEl.classList.add('colab-df-quickchart-complete');\n",
              "        }\n",
              "        (() => {\n",
              "          let quickchartButtonEl =\n",
              "            document.querySelector('#df-1cb620da-47fd-483e-8917-702756d400c6 button');\n",
              "          quickchartButtonEl.style.display =\n",
              "            google.colab.kernel.accessAllowed ? 'block' : 'none';\n",
              "        })();\n",
              "      </script>\n",
              "    </div>\n",
              "\n",
              "    </div>\n",
              "  </div>\n"
            ],
            "application/vnd.google.colaboratory.intrinsic+json": {
              "type": "dataframe",
              "summary": "{\n  \"name\": \"pd\",\n  \"rows\": 3,\n  \"fields\": [\n    {\n      \"column\": \"a\",\n      \"properties\": {\n        \"dtype\": \"number\",\n        \"std\": 4,\n        \"min\": 1,\n        \"max\": 9,\n        \"num_unique_values\": 3,\n        \"samples\": [\n          1,\n          5,\n          9\n        ],\n        \"semantic_type\": \"\",\n        \"description\": \"\"\n      }\n    },\n    {\n      \"column\": \"b\",\n      \"properties\": {\n        \"dtype\": \"number\",\n        \"std\": 4,\n        \"min\": 2,\n        \"max\": 10,\n        \"num_unique_values\": 3,\n        \"samples\": [\n          2,\n          6,\n          10\n        ],\n        \"semantic_type\": \"\",\n        \"description\": \"\"\n      }\n    },\n    {\n      \"column\": \"c\",\n      \"properties\": {\n        \"dtype\": \"number\",\n        \"std\": 4,\n        \"min\": 3,\n        \"max\": 11,\n        \"num_unique_values\": 3,\n        \"samples\": [\n          3,\n          7,\n          11\n        ],\n        \"semantic_type\": \"\",\n        \"description\": \"\"\n      }\n    },\n    {\n      \"column\": \"d\",\n      \"properties\": {\n        \"dtype\": \"number\",\n        \"std\": 4,\n        \"min\": 4,\n        \"max\": 12,\n        \"num_unique_values\": 3,\n        \"samples\": [\n          4,\n          8,\n          12\n        ],\n        \"semantic_type\": \"\",\n        \"description\": \"\"\n      }\n    }\n  ]\n}"
            }
          },
          "metadata": {},
          "execution_count": 12
        }
      ],
      "source": [
        "pd.DataFrame(m,columns=[\"a\",\"b\",\"c\",\"d\"])"
      ]
    },
    {
      "cell_type": "code",
      "execution_count": null,
      "metadata": {
        "id": "_daX0OvdHpnB",
        "tags": []
      },
      "outputs": [],
      "source": [
        "dataset_manuel = {'Country': ['Belgium',  'India',  'Brazil'],\n",
        "\n",
        "'Capital': ['Brussels',  'New Delhi',  'Brasilia'],\n",
        "\n",
        "'Population': [11190846, 1303171035, 207847528]}"
      ]
    },
    {
      "cell_type": "code",
      "execution_count": null,
      "metadata": {
        "id": "OQygw9YWHpnB",
        "tags": []
      },
      "outputs": [],
      "source": [
        "df_manuel = pd.DataFrame(dataset_manuel,columns=['Country',  'Capital',  'Population'])"
      ]
    },
    {
      "cell_type": "code",
      "execution_count": null,
      "metadata": {
        "id": "9Cj1RUM_HpnB",
        "outputId": "acbf3823-15aa-4fbd-db32-63a2b7c041e1",
        "tags": []
      },
      "outputs": [
        {
          "data": {
            "text/html": [
              "<div>\n",
              "<style scoped>\n",
              "    .dataframe tbody tr th:only-of-type {\n",
              "        vertical-align: middle;\n",
              "    }\n",
              "\n",
              "    .dataframe tbody tr th {\n",
              "        vertical-align: top;\n",
              "    }\n",
              "\n",
              "    .dataframe thead th {\n",
              "        text-align: right;\n",
              "    }\n",
              "</style>\n",
              "<table border=\"1\" class=\"dataframe\">\n",
              "  <thead>\n",
              "    <tr style=\"text-align: right;\">\n",
              "      <th></th>\n",
              "      <th>Country</th>\n",
              "      <th>Capital</th>\n",
              "      <th>Population</th>\n",
              "    </tr>\n",
              "  </thead>\n",
              "  <tbody>\n",
              "    <tr>\n",
              "      <th>0</th>\n",
              "      <td>Belgium</td>\n",
              "      <td>Brussels</td>\n",
              "      <td>11190846</td>\n",
              "    </tr>\n",
              "    <tr>\n",
              "      <th>1</th>\n",
              "      <td>India</td>\n",
              "      <td>New Delhi</td>\n",
              "      <td>1303171035</td>\n",
              "    </tr>\n",
              "    <tr>\n",
              "      <th>2</th>\n",
              "      <td>Brazil</td>\n",
              "      <td>Brasilia</td>\n",
              "      <td>207847528</td>\n",
              "    </tr>\n",
              "  </tbody>\n",
              "</table>\n",
              "</div>"
            ],
            "text/plain": [
              "   Country    Capital  Population\n",
              "0  Belgium   Brussels    11190846\n",
              "1    India  New Delhi  1303171035\n",
              "2   Brazil   Brasilia   207847528"
            ]
          },
          "execution_count": 39,
          "metadata": {},
          "output_type": "execute_result"
        }
      ],
      "source": [
        "df_manuel"
      ]
    },
    {
      "cell_type": "code",
      "execution_count": null,
      "metadata": {
        "id": "J6FKyLfMHpnC",
        "tags": []
      },
      "outputs": [],
      "source": [
        "#a row in dictionary\n",
        "new_row1 = {'Country':'Turkey', 'Capital':'Ankara', 'Population':85454307}"
      ]
    },
    {
      "cell_type": "code",
      "execution_count": null,
      "metadata": {
        "id": "FyubjFRgHpnC",
        "outputId": "e91c38c7-69f8-4038-9d74-2d54049452c7",
        "tags": []
      },
      "outputs": [
        {
          "data": {
            "text/plain": [
              "{'Country': 'Turkey', 'Capital': 'Ankara', 'Population': 85454307}"
            ]
          },
          "execution_count": 41,
          "metadata": {},
          "output_type": "execute_result"
        }
      ],
      "source": [
        "new_row1"
      ]
    },
    {
      "cell_type": "code",
      "execution_count": null,
      "metadata": {
        "id": "0A2AJaEAHpnC",
        "tags": []
      },
      "outputs": [],
      "source": [
        "#adding manuel new row dictionary to dataframe\n",
        "next_index= len(df_manuel)\n",
        "df_manuel.loc[next_index]=new_row1"
      ]
    },
    {
      "cell_type": "code",
      "execution_count": null,
      "metadata": {
        "id": "dGgC1_ihHpnC",
        "outputId": "2b7e3665-2c67-4e45-b521-0e2e3c204075",
        "tags": []
      },
      "outputs": [
        {
          "data": {
            "text/html": [
              "<div>\n",
              "<style scoped>\n",
              "    .dataframe tbody tr th:only-of-type {\n",
              "        vertical-align: middle;\n",
              "    }\n",
              "\n",
              "    .dataframe tbody tr th {\n",
              "        vertical-align: top;\n",
              "    }\n",
              "\n",
              "    .dataframe thead th {\n",
              "        text-align: right;\n",
              "    }\n",
              "</style>\n",
              "<table border=\"1\" class=\"dataframe\">\n",
              "  <thead>\n",
              "    <tr style=\"text-align: right;\">\n",
              "      <th></th>\n",
              "      <th>Country</th>\n",
              "      <th>Capital</th>\n",
              "      <th>Population</th>\n",
              "    </tr>\n",
              "  </thead>\n",
              "  <tbody>\n",
              "    <tr>\n",
              "      <th>0</th>\n",
              "      <td>Belgium</td>\n",
              "      <td>Brussels</td>\n",
              "      <td>11190846</td>\n",
              "    </tr>\n",
              "    <tr>\n",
              "      <th>1</th>\n",
              "      <td>India</td>\n",
              "      <td>New Delhi</td>\n",
              "      <td>1303171035</td>\n",
              "    </tr>\n",
              "    <tr>\n",
              "      <th>2</th>\n",
              "      <td>Brazil</td>\n",
              "      <td>Brasilia</td>\n",
              "      <td>207847528</td>\n",
              "    </tr>\n",
              "    <tr>\n",
              "      <th>3</th>\n",
              "      <td>Turkey</td>\n",
              "      <td>Ankara</td>\n",
              "      <td>85454307</td>\n",
              "    </tr>\n",
              "  </tbody>\n",
              "</table>\n",
              "</div>"
            ],
            "text/plain": [
              "   Country    Capital  Population\n",
              "0  Belgium   Brussels    11190846\n",
              "1    India  New Delhi  1303171035\n",
              "2   Brazil   Brasilia   207847528\n",
              "3   Turkey     Ankara    85454307"
            ]
          },
          "execution_count": 43,
          "metadata": {},
          "output_type": "execute_result"
        }
      ],
      "source": [
        "df_manuel"
      ]
    },
    {
      "cell_type": "code",
      "execution_count": null,
      "metadata": {
        "id": "x6Xwp1WsHpnD"
      },
      "outputs": [],
      "source": [
        "# Bazı Hızlı Pandas Fonksiyonları:"
      ]
    },
    {
      "cell_type": "code",
      "execution_count": null,
      "metadata": {
        "id": "HU-HFpN_HpnE",
        "outputId": "a69acd5b-8575-4a6e-8fbc-712ca3c050b8",
        "scrolled": true,
        "tags": []
      },
      "outputs": [
        {
          "data": {
            "text/plain": [
              "207847528"
            ]
          },
          "execution_count": 52,
          "metadata": {},
          "output_type": "execute_result"
        }
      ],
      "source": [
        "median(df_manuel['Population'])"
      ]
    },
    {
      "cell_type": "code",
      "execution_count": null,
      "metadata": {
        "id": "NVqWp6rcHpnE",
        "outputId": "82b55cbc-b697-4f31-8c9b-a1e5966b8a98",
        "tags": []
      },
      "outputs": [
        {
          "data": {
            "text/plain": [
              "1654463716"
            ]
          },
          "execution_count": 53,
          "metadata": {},
          "output_type": "execute_result"
        }
      ],
      "source": [
        "df_manuel['Population'].sum()"
      ]
    },
    {
      "cell_type": "code",
      "execution_count": null,
      "metadata": {
        "id": "C0IDcu88HpnE",
        "outputId": "65e3fd67-1ec8-4dbf-d123-a2bc651e0187",
        "tags": []
      },
      "outputs": [
        {
          "data": {
            "text/plain": [
              "330892743.2"
            ]
          },
          "execution_count": 54,
          "metadata": {},
          "output_type": "execute_result"
        }
      ],
      "source": [
        "df_manuel['Population'].mean()"
      ]
    },
    {
      "cell_type": "code",
      "execution_count": null,
      "metadata": {
        "id": "MIsD0zF2HpnE",
        "outputId": "fcf1ffdd-f4d4-4293-88b2-b18b28daef19",
        "tags": []
      },
      "outputs": [
        {
          "data": {
            "text/plain": [
              "85454307.0"
            ]
          },
          "execution_count": 55,
          "metadata": {},
          "output_type": "execute_result"
        }
      ],
      "source": [
        "df_manuel['Population'].median()"
      ]
    },
    {
      "cell_type": "code",
      "execution_count": null,
      "metadata": {
        "id": "gQMZxiq1HpnE",
        "outputId": "9364569f-faac-4ad1-e7b2-cf18283a58fa",
        "tags": []
      },
      "outputs": [
        {
          "data": {
            "text/plain": [
              "11190846"
            ]
          },
          "execution_count": 56,
          "metadata": {},
          "output_type": "execute_result"
        }
      ],
      "source": [
        "df_manuel['Population'].min()"
      ]
    },
    {
      "cell_type": "raw",
      "metadata": {
        "id": "4Da2nisLHpnE"
      },
      "source": [
        "### pandas ile birçok veri kaynağıdan farklı metotlarla veri almak münkündür:\n",
        "    - pd.read_excel\n",
        "    - pd.read_csv\n",
        "    - pd.read_sql"
      ]
    },
    {
      "cell_type": "markdown",
      "metadata": {
        "id": "p-_iBWmwHpnF"
      },
      "source": [
        "## Veri seti ile çalışma\n",
        "\n",
        "@allison_horst https://github.com/allisonhorst/penguins\n",
        "\n",
        "<td><img src=\"https://github.com/nevcihan/COE_Python/blob/main/pict5.png?raw=1\" width=\"250\"/><td>\n",
        "\n",
        "<table><tr>\n",
        "    \n",
        "<td><img src=\"https://github.com/nevcihan/COE_Python/blob/main/pict4.png?raw=1\" width=\"250\"/><td>\n",
        "    \n",
        "<td><img src=\"https://github.com/nevcihan/COE_Python/blob/main/pict3.png?raw=1\" width=\"250\"/><td>\n",
        "    \n",
        "</tr></table>"
      ]
    },
    {
      "cell_type": "code",
      "execution_count": null,
      "metadata": {
        "id": "W3ATyr-iHpnF",
        "tags": []
      },
      "outputs": [],
      "source": [
        "# csv uzantılı verisetini pandas ile okuma:\n",
        "penguins_features = pd.read_csv(\"penguins_features.csv\")"
      ]
    },
    {
      "cell_type": "code",
      "execution_count": null,
      "metadata": {
        "id": "lJEGSFcXHpnF",
        "tags": []
      },
      "outputs": [],
      "source": [
        "#dataset.drop('Index', inplace=True, axis=1)"
      ]
    },
    {
      "cell_type": "code",
      "execution_count": null,
      "metadata": {
        "id": "OKWIzUMAHpnF",
        "tags": []
      },
      "outputs": [],
      "source": [
        "# Verisetinin Boyutu:\n",
        "#Yöntem-1:"
      ]
    },
    {
      "cell_type": "code",
      "execution_count": null,
      "metadata": {
        "id": "TCHGOzNkHpnF",
        "outputId": "2b5df0a8-e99d-4764-a957-bab5df8b04f7",
        "tags": []
      },
      "outputs": [
        {
          "data": {
            "text/plain": [
              "344"
            ]
          },
          "execution_count": 61,
          "metadata": {},
          "output_type": "execute_result"
        }
      ],
      "source": [
        "num_rows = penguins_features.shape[0]\n",
        "num_rows"
      ]
    },
    {
      "cell_type": "code",
      "execution_count": null,
      "metadata": {
        "id": "ozQWqi8cHpnG",
        "outputId": "c7e74ee4-cf4b-46f4-e06b-1bb2b814e355",
        "tags": []
      },
      "outputs": [
        {
          "data": {
            "text/plain": [
              "9"
            ]
          },
          "execution_count": 62,
          "metadata": {},
          "output_type": "execute_result"
        }
      ],
      "source": [
        "num_columns = penguins_features.shape[1]\n",
        "num_columns"
      ]
    },
    {
      "cell_type": "code",
      "execution_count": null,
      "metadata": {
        "id": "cywp_IROHpnG",
        "tags": []
      },
      "outputs": [],
      "source": [
        "#Yöntem-2:"
      ]
    },
    {
      "cell_type": "code",
      "execution_count": null,
      "metadata": {
        "id": "a4xA4ixuHpnG",
        "outputId": "76cee781-883a-4357-945b-94103554b711",
        "tags": []
      },
      "outputs": [
        {
          "data": {
            "text/plain": [
              "(344, 9)"
            ]
          },
          "execution_count": 63,
          "metadata": {},
          "output_type": "execute_result"
        }
      ],
      "source": [
        "penguins_features.shape"
      ]
    },
    {
      "cell_type": "code",
      "execution_count": null,
      "metadata": {
        "id": "nNy7RJ_KHpnG",
        "tags": []
      },
      "outputs": [],
      "source": [
        "# Verisetindeki Değişken Türleri:"
      ]
    },
    {
      "cell_type": "code",
      "execution_count": null,
      "metadata": {
        "id": "mmzywBBTHpnH",
        "tags": []
      },
      "outputs": [],
      "source": [
        "#Yöntem-1:"
      ]
    },
    {
      "cell_type": "code",
      "execution_count": null,
      "metadata": {
        "id": "fhHJhfgsHpnH",
        "outputId": "cad1e19f-26ce-4101-ed09-6190045cb825",
        "tags": []
      },
      "outputs": [
        {
          "data": {
            "text/plain": [
              "Species                 object\n",
              "Stage                   object\n",
              "Clutch Completion       object\n",
              "Culmen Length (mm)     float64\n",
              "Culmen Depth (mm)      float64\n",
              "Flipper Length (mm)    float64\n",
              "Body Mass (g)          float64\n",
              "Sex                     object\n",
              "sample_id                int64\n",
              "dtype: object"
            ]
          },
          "execution_count": 64,
          "metadata": {},
          "output_type": "execute_result"
        }
      ],
      "source": [
        "penguins_features.dtypes"
      ]
    },
    {
      "cell_type": "code",
      "execution_count": null,
      "metadata": {
        "id": "eW4cibrTHpnH",
        "tags": []
      },
      "outputs": [],
      "source": [
        "#Yöntem-2:"
      ]
    },
    {
      "cell_type": "code",
      "execution_count": null,
      "metadata": {
        "id": "SK_VuW_XHpnI",
        "outputId": "f5062ecf-8936-4677-d736-e96a8f6d2121",
        "tags": []
      },
      "outputs": [
        {
          "name": "stdout",
          "output_type": "stream",
          "text": [
            "<class 'pandas.core.frame.DataFrame'>\n",
            "RangeIndex: 344 entries, 0 to 343\n",
            "Data columns (total 9 columns):\n",
            " #   Column               Non-Null Count  Dtype  \n",
            "---  ------               --------------  -----  \n",
            " 0   Species              344 non-null    object \n",
            " 1   Stage                344 non-null    object \n",
            " 2   Clutch Completion    344 non-null    object \n",
            " 3   Culmen Length (mm)   342 non-null    float64\n",
            " 4   Culmen Depth (mm)    342 non-null    float64\n",
            " 5   Flipper Length (mm)  342 non-null    float64\n",
            " 6   Body Mass (g)        342 non-null    float64\n",
            " 7   Sex                  334 non-null    object \n",
            " 8   sample_id            344 non-null    int64  \n",
            "dtypes: float64(4), int64(1), object(4)\n",
            "memory usage: 24.3+ KB\n"
          ]
        }
      ],
      "source": [
        "penguins_features.info()"
      ]
    },
    {
      "cell_type": "code",
      "execution_count": null,
      "metadata": {
        "id": "IlT_thbpHpnI",
        "tags": []
      },
      "outputs": [],
      "source": [
        "# Temel Veriseti Gösterimleri:"
      ]
    },
    {
      "cell_type": "code",
      "execution_count": null,
      "metadata": {
        "id": "N80Fvq3GHpnI",
        "outputId": "496fecf7-e645-487f-f18e-6176acd73fb6",
        "tags": []
      },
      "outputs": [
        {
          "data": {
            "text/html": [
              "<div>\n",
              "<style scoped>\n",
              "    .dataframe tbody tr th:only-of-type {\n",
              "        vertical-align: middle;\n",
              "    }\n",
              "\n",
              "    .dataframe tbody tr th {\n",
              "        vertical-align: top;\n",
              "    }\n",
              "\n",
              "    .dataframe thead th {\n",
              "        text-align: right;\n",
              "    }\n",
              "</style>\n",
              "<table border=\"1\" class=\"dataframe\">\n",
              "  <thead>\n",
              "    <tr style=\"text-align: right;\">\n",
              "      <th></th>\n",
              "      <th>Species</th>\n",
              "      <th>Stage</th>\n",
              "      <th>Clutch Completion</th>\n",
              "      <th>Culmen Length (mm)</th>\n",
              "      <th>Culmen Depth (mm)</th>\n",
              "      <th>Flipper Length (mm)</th>\n",
              "      <th>Body Mass (g)</th>\n",
              "      <th>Sex</th>\n",
              "      <th>sample_id</th>\n",
              "    </tr>\n",
              "  </thead>\n",
              "  <tbody>\n",
              "    <tr>\n",
              "      <th>0</th>\n",
              "      <td>Adelie Penguin (Pygoscelis adeliae)</td>\n",
              "      <td>Adult, 1 Egg Stage</td>\n",
              "      <td>Yes</td>\n",
              "      <td>39.1</td>\n",
              "      <td>18.7</td>\n",
              "      <td>181.0</td>\n",
              "      <td>3750.0</td>\n",
              "      <td>MALE</td>\n",
              "      <td>1</td>\n",
              "    </tr>\n",
              "    <tr>\n",
              "      <th>1</th>\n",
              "      <td>Adelie Penguin (Pygoscelis adeliae)</td>\n",
              "      <td>Adult, 1 Egg Stage</td>\n",
              "      <td>Yes</td>\n",
              "      <td>39.5</td>\n",
              "      <td>17.4</td>\n",
              "      <td>186.0</td>\n",
              "      <td>3800.0</td>\n",
              "      <td>FEMALE</td>\n",
              "      <td>2</td>\n",
              "    </tr>\n",
              "    <tr>\n",
              "      <th>2</th>\n",
              "      <td>Adelie Penguin (Pygoscelis adeliae)</td>\n",
              "      <td>Adult, 1 Egg Stage</td>\n",
              "      <td>Yes</td>\n",
              "      <td>40.3</td>\n",
              "      <td>18.0</td>\n",
              "      <td>195.0</td>\n",
              "      <td>3250.0</td>\n",
              "      <td>FEMALE</td>\n",
              "      <td>3</td>\n",
              "    </tr>\n",
              "    <tr>\n",
              "      <th>3</th>\n",
              "      <td>Adelie Penguin (Pygoscelis adeliae)</td>\n",
              "      <td>Adult, 1 Egg Stage</td>\n",
              "      <td>Yes</td>\n",
              "      <td>NaN</td>\n",
              "      <td>NaN</td>\n",
              "      <td>NaN</td>\n",
              "      <td>NaN</td>\n",
              "      <td>NaN</td>\n",
              "      <td>4</td>\n",
              "    </tr>\n",
              "    <tr>\n",
              "      <th>4</th>\n",
              "      <td>Adelie Penguin (Pygoscelis adeliae)</td>\n",
              "      <td>Adult, 1 Egg Stage</td>\n",
              "      <td>Yes</td>\n",
              "      <td>36.7</td>\n",
              "      <td>19.3</td>\n",
              "      <td>193.0</td>\n",
              "      <td>3450.0</td>\n",
              "      <td>FEMALE</td>\n",
              "      <td>5</td>\n",
              "    </tr>\n",
              "  </tbody>\n",
              "</table>\n",
              "</div>"
            ],
            "text/plain": [
              "                               Species               Stage Clutch Completion  \\\n",
              "0  Adelie Penguin (Pygoscelis adeliae)  Adult, 1 Egg Stage               Yes   \n",
              "1  Adelie Penguin (Pygoscelis adeliae)  Adult, 1 Egg Stage               Yes   \n",
              "2  Adelie Penguin (Pygoscelis adeliae)  Adult, 1 Egg Stage               Yes   \n",
              "3  Adelie Penguin (Pygoscelis adeliae)  Adult, 1 Egg Stage               Yes   \n",
              "4  Adelie Penguin (Pygoscelis adeliae)  Adult, 1 Egg Stage               Yes   \n",
              "\n",
              "   Culmen Length (mm)  Culmen Depth (mm)  Flipper Length (mm)  Body Mass (g)  \\\n",
              "0                39.1               18.7                181.0         3750.0   \n",
              "1                39.5               17.4                186.0         3800.0   \n",
              "2                40.3               18.0                195.0         3250.0   \n",
              "3                 NaN                NaN                  NaN            NaN   \n",
              "4                36.7               19.3                193.0         3450.0   \n",
              "\n",
              "      Sex  sample_id  \n",
              "0    MALE          1  \n",
              "1  FEMALE          2  \n",
              "2  FEMALE          3  \n",
              "3     NaN          4  \n",
              "4  FEMALE          5  "
            ]
          },
          "execution_count": 66,
          "metadata": {},
          "output_type": "execute_result"
        }
      ],
      "source": [
        "penguins_features.head()"
      ]
    },
    {
      "cell_type": "code",
      "execution_count": null,
      "metadata": {
        "id": "4tj6M75tHpnI",
        "outputId": "e208c421-b523-4c98-9fa9-bbd4bea3f062",
        "tags": []
      },
      "outputs": [
        {
          "data": {
            "text/html": [
              "<div>\n",
              "<style scoped>\n",
              "    .dataframe tbody tr th:only-of-type {\n",
              "        vertical-align: middle;\n",
              "    }\n",
              "\n",
              "    .dataframe tbody tr th {\n",
              "        vertical-align: top;\n",
              "    }\n",
              "\n",
              "    .dataframe thead th {\n",
              "        text-align: right;\n",
              "    }\n",
              "</style>\n",
              "<table border=\"1\" class=\"dataframe\">\n",
              "  <thead>\n",
              "    <tr style=\"text-align: right;\">\n",
              "      <th></th>\n",
              "      <th>Species</th>\n",
              "      <th>Stage</th>\n",
              "      <th>Clutch Completion</th>\n",
              "      <th>Culmen Length (mm)</th>\n",
              "      <th>Culmen Depth (mm)</th>\n",
              "      <th>Flipper Length (mm)</th>\n",
              "      <th>Body Mass (g)</th>\n",
              "      <th>Sex</th>\n",
              "      <th>sample_id</th>\n",
              "    </tr>\n",
              "  </thead>\n",
              "  <tbody>\n",
              "    <tr>\n",
              "      <th>0</th>\n",
              "      <td>Adelie Penguin (Pygoscelis adeliae)</td>\n",
              "      <td>Adult, 1 Egg Stage</td>\n",
              "      <td>Yes</td>\n",
              "      <td>39.1</td>\n",
              "      <td>18.7</td>\n",
              "      <td>181.0</td>\n",
              "      <td>3750.0</td>\n",
              "      <td>MALE</td>\n",
              "      <td>1</td>\n",
              "    </tr>\n",
              "    <tr>\n",
              "      <th>1</th>\n",
              "      <td>Adelie Penguin (Pygoscelis adeliae)</td>\n",
              "      <td>Adult, 1 Egg Stage</td>\n",
              "      <td>Yes</td>\n",
              "      <td>39.5</td>\n",
              "      <td>17.4</td>\n",
              "      <td>186.0</td>\n",
              "      <td>3800.0</td>\n",
              "      <td>FEMALE</td>\n",
              "      <td>2</td>\n",
              "    </tr>\n",
              "    <tr>\n",
              "      <th>2</th>\n",
              "      <td>Adelie Penguin (Pygoscelis adeliae)</td>\n",
              "      <td>Adult, 1 Egg Stage</td>\n",
              "      <td>Yes</td>\n",
              "      <td>40.3</td>\n",
              "      <td>18.0</td>\n",
              "      <td>195.0</td>\n",
              "      <td>3250.0</td>\n",
              "      <td>FEMALE</td>\n",
              "      <td>3</td>\n",
              "    </tr>\n",
              "  </tbody>\n",
              "</table>\n",
              "</div>"
            ],
            "text/plain": [
              "                               Species               Stage Clutch Completion  \\\n",
              "0  Adelie Penguin (Pygoscelis adeliae)  Adult, 1 Egg Stage               Yes   \n",
              "1  Adelie Penguin (Pygoscelis adeliae)  Adult, 1 Egg Stage               Yes   \n",
              "2  Adelie Penguin (Pygoscelis adeliae)  Adult, 1 Egg Stage               Yes   \n",
              "\n",
              "   Culmen Length (mm)  Culmen Depth (mm)  Flipper Length (mm)  Body Mass (g)  \\\n",
              "0                39.1               18.7                181.0         3750.0   \n",
              "1                39.5               17.4                186.0         3800.0   \n",
              "2                40.3               18.0                195.0         3250.0   \n",
              "\n",
              "      Sex  sample_id  \n",
              "0    MALE          1  \n",
              "1  FEMALE          2  \n",
              "2  FEMALE          3  "
            ]
          },
          "execution_count": 67,
          "metadata": {},
          "output_type": "execute_result"
        }
      ],
      "source": [
        "penguins_features.head(3)"
      ]
    },
    {
      "cell_type": "code",
      "execution_count": null,
      "metadata": {
        "id": "46ecQFJCHpnJ",
        "outputId": "1ae2a332-1f26-4bff-8a4c-0636fbe6e72e",
        "tags": []
      },
      "outputs": [
        {
          "data": {
            "text/html": [
              "<div>\n",
              "<style scoped>\n",
              "    .dataframe tbody tr th:only-of-type {\n",
              "        vertical-align: middle;\n",
              "    }\n",
              "\n",
              "    .dataframe tbody tr th {\n",
              "        vertical-align: top;\n",
              "    }\n",
              "\n",
              "    .dataframe thead th {\n",
              "        text-align: right;\n",
              "    }\n",
              "</style>\n",
              "<table border=\"1\" class=\"dataframe\">\n",
              "  <thead>\n",
              "    <tr style=\"text-align: right;\">\n",
              "      <th></th>\n",
              "      <th>Species</th>\n",
              "      <th>Stage</th>\n",
              "      <th>Clutch Completion</th>\n",
              "      <th>Culmen Length (mm)</th>\n",
              "      <th>Culmen Depth (mm)</th>\n",
              "      <th>Flipper Length (mm)</th>\n",
              "      <th>Body Mass (g)</th>\n",
              "      <th>Sex</th>\n",
              "      <th>sample_id</th>\n",
              "    </tr>\n",
              "  </thead>\n",
              "  <tbody>\n",
              "    <tr>\n",
              "      <th>341</th>\n",
              "      <td>Gentoo penguin (Pygoscelis papua)</td>\n",
              "      <td>Adult, 1 Egg Stage</td>\n",
              "      <td>Yes</td>\n",
              "      <td>50.4</td>\n",
              "      <td>15.7</td>\n",
              "      <td>222.0</td>\n",
              "      <td>5750.0</td>\n",
              "      <td>MALE</td>\n",
              "      <td>342</td>\n",
              "    </tr>\n",
              "    <tr>\n",
              "      <th>342</th>\n",
              "      <td>Gentoo penguin (Pygoscelis papua)</td>\n",
              "      <td>Adult, 1 Egg Stage</td>\n",
              "      <td>Yes</td>\n",
              "      <td>45.2</td>\n",
              "      <td>14.8</td>\n",
              "      <td>212.0</td>\n",
              "      <td>5200.0</td>\n",
              "      <td>FEMALE</td>\n",
              "      <td>343</td>\n",
              "    </tr>\n",
              "    <tr>\n",
              "      <th>343</th>\n",
              "      <td>Gentoo penguin (Pygoscelis papua)</td>\n",
              "      <td>Adult, 1 Egg Stage</td>\n",
              "      <td>Yes</td>\n",
              "      <td>49.9</td>\n",
              "      <td>16.1</td>\n",
              "      <td>213.0</td>\n",
              "      <td>5400.0</td>\n",
              "      <td>MALE</td>\n",
              "      <td>344</td>\n",
              "    </tr>\n",
              "  </tbody>\n",
              "</table>\n",
              "</div>"
            ],
            "text/plain": [
              "                               Species               Stage Clutch Completion  \\\n",
              "341  Gentoo penguin (Pygoscelis papua)  Adult, 1 Egg Stage               Yes   \n",
              "342  Gentoo penguin (Pygoscelis papua)  Adult, 1 Egg Stage               Yes   \n",
              "343  Gentoo penguin (Pygoscelis papua)  Adult, 1 Egg Stage               Yes   \n",
              "\n",
              "     Culmen Length (mm)  Culmen Depth (mm)  Flipper Length (mm)  \\\n",
              "341                50.4               15.7                222.0   \n",
              "342                45.2               14.8                212.0   \n",
              "343                49.9               16.1                213.0   \n",
              "\n",
              "     Body Mass (g)     Sex  sample_id  \n",
              "341         5750.0    MALE        342  \n",
              "342         5200.0  FEMALE        343  \n",
              "343         5400.0    MALE        344  "
            ]
          },
          "execution_count": 68,
          "metadata": {},
          "output_type": "execute_result"
        }
      ],
      "source": [
        "penguins_features.tail(3)"
      ]
    },
    {
      "cell_type": "code",
      "execution_count": null,
      "metadata": {
        "id": "x9kTLtdeHpnK",
        "tags": [],
        "outputId": "712fa707-ed01-42aa-8707-9e30b4a81f82"
      },
      "outputs": [
        {
          "ename": "NameError",
          "evalue": "name 'pd' is not defined",
          "output_type": "error",
          "traceback": [
            "\u001b[0;31m---------------------------------------------------------------------------\u001b[0m",
            "\u001b[0;31mNameError\u001b[0m                                 Traceback (most recent call last)",
            "Cell \u001b[0;32mIn[1], line 1\u001b[0m\n\u001b[0;32m----> 1\u001b[0m penguins_location \u001b[38;5;241m=\u001b[39m \u001b[43mpd\u001b[49m\u001b[38;5;241m.\u001b[39mread_csv(\u001b[38;5;124m\"\u001b[39m\u001b[38;5;124mpenguins_location.csv\u001b[39m\u001b[38;5;124m\"\u001b[39m)\n",
            "\u001b[0;31mNameError\u001b[0m: name 'pd' is not defined"
          ]
        }
      ],
      "source": [
        "penguins_location = pd.read_csv(\"penguins_location.csv\")"
      ]
    },
    {
      "cell_type": "code",
      "execution_count": null,
      "metadata": {
        "id": "b8GOKOd-HpnK",
        "outputId": "b755e8a5-4b5d-402e-a513-e76df84951d5",
        "tags": []
      },
      "outputs": [
        {
          "data": {
            "text/plain": [
              "(344, 3)"
            ]
          },
          "execution_count": 70,
          "metadata": {},
          "output_type": "execute_result"
        }
      ],
      "source": [
        "penguins_location.shape"
      ]
    },
    {
      "cell_type": "code",
      "execution_count": null,
      "metadata": {
        "id": "m8zU1T8hHpnL",
        "outputId": "ce9e86b2-3c38-40b8-aaf9-708581422dfe",
        "tags": []
      },
      "outputs": [
        {
          "data": {
            "text/plain": [
              "Region       object\n",
              "Island       object\n",
              "sample_id     int64\n",
              "dtype: object"
            ]
          },
          "execution_count": 71,
          "metadata": {},
          "output_type": "execute_result"
        }
      ],
      "source": [
        "penguins_location.dtypes"
      ]
    },
    {
      "cell_type": "code",
      "execution_count": null,
      "metadata": {
        "id": "pp59fky_HpnL",
        "outputId": "b5658130-840e-4407-9308-e09aedf5c904",
        "tags": []
      },
      "outputs": [
        {
          "name": "stdout",
          "output_type": "stream",
          "text": [
            "<class 'pandas.core.frame.DataFrame'>\n",
            "RangeIndex: 344 entries, 0 to 343\n",
            "Data columns (total 3 columns):\n",
            " #   Column     Non-Null Count  Dtype \n",
            "---  ------     --------------  ----- \n",
            " 0   Region     344 non-null    object\n",
            " 1   Island     344 non-null    object\n",
            " 2   sample_id  344 non-null    int64 \n",
            "dtypes: int64(1), object(2)\n",
            "memory usage: 8.2+ KB\n"
          ]
        }
      ],
      "source": [
        "penguins_location.info()"
      ]
    },
    {
      "cell_type": "code",
      "execution_count": null,
      "metadata": {
        "id": "kAY1hs3kHpnL",
        "outputId": "c4868961-5f9d-4cd8-8278-1c027994165a",
        "tags": []
      },
      "outputs": [
        {
          "data": {
            "text/html": [
              "<div>\n",
              "<style scoped>\n",
              "    .dataframe tbody tr th:only-of-type {\n",
              "        vertical-align: middle;\n",
              "    }\n",
              "\n",
              "    .dataframe tbody tr th {\n",
              "        vertical-align: top;\n",
              "    }\n",
              "\n",
              "    .dataframe thead th {\n",
              "        text-align: right;\n",
              "    }\n",
              "</style>\n",
              "<table border=\"1\" class=\"dataframe\">\n",
              "  <thead>\n",
              "    <tr style=\"text-align: right;\">\n",
              "      <th></th>\n",
              "      <th>Region</th>\n",
              "      <th>Island</th>\n",
              "      <th>sample_id</th>\n",
              "    </tr>\n",
              "  </thead>\n",
              "  <tbody>\n",
              "    <tr>\n",
              "      <th>0</th>\n",
              "      <td>Anvers</td>\n",
              "      <td>Torgersen</td>\n",
              "      <td>1</td>\n",
              "    </tr>\n",
              "    <tr>\n",
              "      <th>1</th>\n",
              "      <td>Anvers</td>\n",
              "      <td>Torgersen</td>\n",
              "      <td>2</td>\n",
              "    </tr>\n",
              "    <tr>\n",
              "      <th>2</th>\n",
              "      <td>Anvers</td>\n",
              "      <td>Torgersen</td>\n",
              "      <td>3</td>\n",
              "    </tr>\n",
              "    <tr>\n",
              "      <th>3</th>\n",
              "      <td>Anvers</td>\n",
              "      <td>Torgersen</td>\n",
              "      <td>4</td>\n",
              "    </tr>\n",
              "    <tr>\n",
              "      <th>4</th>\n",
              "      <td>Anvers</td>\n",
              "      <td>Torgersen</td>\n",
              "      <td>5</td>\n",
              "    </tr>\n",
              "    <tr>\n",
              "      <th>...</th>\n",
              "      <td>...</td>\n",
              "      <td>...</td>\n",
              "      <td>...</td>\n",
              "    </tr>\n",
              "    <tr>\n",
              "      <th>339</th>\n",
              "      <td>Anvers</td>\n",
              "      <td>Biscoe</td>\n",
              "      <td>340</td>\n",
              "    </tr>\n",
              "    <tr>\n",
              "      <th>340</th>\n",
              "      <td>Anvers</td>\n",
              "      <td>Biscoe</td>\n",
              "      <td>341</td>\n",
              "    </tr>\n",
              "    <tr>\n",
              "      <th>341</th>\n",
              "      <td>Anvers</td>\n",
              "      <td>Biscoe</td>\n",
              "      <td>342</td>\n",
              "    </tr>\n",
              "    <tr>\n",
              "      <th>342</th>\n",
              "      <td>Anvers</td>\n",
              "      <td>Biscoe</td>\n",
              "      <td>343</td>\n",
              "    </tr>\n",
              "    <tr>\n",
              "      <th>343</th>\n",
              "      <td>Anvers</td>\n",
              "      <td>Biscoe</td>\n",
              "      <td>344</td>\n",
              "    </tr>\n",
              "  </tbody>\n",
              "</table>\n",
              "<p>344 rows × 3 columns</p>\n",
              "</div>"
            ],
            "text/plain": [
              "     Region     Island  sample_id\n",
              "0    Anvers  Torgersen          1\n",
              "1    Anvers  Torgersen          2\n",
              "2    Anvers  Torgersen          3\n",
              "3    Anvers  Torgersen          4\n",
              "4    Anvers  Torgersen          5\n",
              "..      ...        ...        ...\n",
              "339  Anvers     Biscoe        340\n",
              "340  Anvers     Biscoe        341\n",
              "341  Anvers     Biscoe        342\n",
              "342  Anvers     Biscoe        343\n",
              "343  Anvers     Biscoe        344\n",
              "\n",
              "[344 rows x 3 columns]"
            ]
          },
          "execution_count": 73,
          "metadata": {},
          "output_type": "execute_result"
        }
      ],
      "source": [
        "penguins_location.head(345)"
      ]
    },
    {
      "cell_type": "code",
      "execution_count": null,
      "metadata": {
        "id": "r1Jo92JOHpnL",
        "outputId": "d08c0601-758a-47f2-8032-bbe78570bef7",
        "tags": []
      },
      "outputs": [
        {
          "data": {
            "text/html": [
              "<div>\n",
              "<style scoped>\n",
              "    .dataframe tbody tr th:only-of-type {\n",
              "        vertical-align: middle;\n",
              "    }\n",
              "\n",
              "    .dataframe tbody tr th {\n",
              "        vertical-align: top;\n",
              "    }\n",
              "\n",
              "    .dataframe thead th {\n",
              "        text-align: right;\n",
              "    }\n",
              "</style>\n",
              "<table border=\"1\" class=\"dataframe\">\n",
              "  <thead>\n",
              "    <tr style=\"text-align: right;\">\n",
              "      <th></th>\n",
              "      <th>Region</th>\n",
              "      <th>Island</th>\n",
              "      <th>sample_id</th>\n",
              "    </tr>\n",
              "  </thead>\n",
              "  <tbody>\n",
              "    <tr>\n",
              "      <th>339</th>\n",
              "      <td>Anvers</td>\n",
              "      <td>Biscoe</td>\n",
              "      <td>340</td>\n",
              "    </tr>\n",
              "    <tr>\n",
              "      <th>340</th>\n",
              "      <td>Anvers</td>\n",
              "      <td>Biscoe</td>\n",
              "      <td>341</td>\n",
              "    </tr>\n",
              "    <tr>\n",
              "      <th>341</th>\n",
              "      <td>Anvers</td>\n",
              "      <td>Biscoe</td>\n",
              "      <td>342</td>\n",
              "    </tr>\n",
              "    <tr>\n",
              "      <th>342</th>\n",
              "      <td>Anvers</td>\n",
              "      <td>Biscoe</td>\n",
              "      <td>343</td>\n",
              "    </tr>\n",
              "    <tr>\n",
              "      <th>343</th>\n",
              "      <td>Anvers</td>\n",
              "      <td>Biscoe</td>\n",
              "      <td>344</td>\n",
              "    </tr>\n",
              "  </tbody>\n",
              "</table>\n",
              "</div>"
            ],
            "text/plain": [
              "     Region  Island  sample_id\n",
              "339  Anvers  Biscoe        340\n",
              "340  Anvers  Biscoe        341\n",
              "341  Anvers  Biscoe        342\n",
              "342  Anvers  Biscoe        343\n",
              "343  Anvers  Biscoe        344"
            ]
          },
          "execution_count": 74,
          "metadata": {},
          "output_type": "execute_result"
        }
      ],
      "source": [
        "penguins_location.tail()"
      ]
    },
    {
      "cell_type": "markdown",
      "metadata": {
        "id": "X-NypE2MHpnM",
        "tags": []
      },
      "source": [
        "### Verisetlerini Birleştirme"
      ]
    },
    {
      "cell_type": "code",
      "execution_count": null,
      "metadata": {
        "id": "DCMvC43QHpnC",
        "tags": []
      },
      "outputs": [],
      "source": [
        "#adding index to the manuel inserted row\n",
        "new_row2 = pd.Series(data={'Country':'Spain', 'Capital':'Madrid', 'Population':46800000}) #, name='x'\n",
        "new_row2 = pd.DataFrame([new_row2])"
      ]
    },
    {
      "cell_type": "code",
      "execution_count": null,
      "metadata": {
        "id": "XlbdbtcWHpnD",
        "tags": []
      },
      "outputs": [],
      "source": [
        "#adding manuel new row to dataframe\n",
        "df_manuel = pd.concat([df_manuel, new_row2], ignore_index=True)"
      ]
    },
    {
      "cell_type": "code",
      "execution_count": null,
      "metadata": {
        "id": "VDfXvA9_HpnD",
        "outputId": "e4b2d5eb-b477-4c16-8159-f2ad8084be91",
        "tags": []
      },
      "outputs": [
        {
          "data": {
            "text/html": [
              "<div>\n",
              "<style scoped>\n",
              "    .dataframe tbody tr th:only-of-type {\n",
              "        vertical-align: middle;\n",
              "    }\n",
              "\n",
              "    .dataframe tbody tr th {\n",
              "        vertical-align: top;\n",
              "    }\n",
              "\n",
              "    .dataframe thead th {\n",
              "        text-align: right;\n",
              "    }\n",
              "</style>\n",
              "<table border=\"1\" class=\"dataframe\">\n",
              "  <thead>\n",
              "    <tr style=\"text-align: right;\">\n",
              "      <th></th>\n",
              "      <th>Country</th>\n",
              "      <th>Capital</th>\n",
              "      <th>Population</th>\n",
              "    </tr>\n",
              "  </thead>\n",
              "  <tbody>\n",
              "    <tr>\n",
              "      <th>0</th>\n",
              "      <td>Belgium</td>\n",
              "      <td>Brussels</td>\n",
              "      <td>11190846</td>\n",
              "    </tr>\n",
              "    <tr>\n",
              "      <th>1</th>\n",
              "      <td>India</td>\n",
              "      <td>New Delhi</td>\n",
              "      <td>1303171035</td>\n",
              "    </tr>\n",
              "    <tr>\n",
              "      <th>2</th>\n",
              "      <td>Brazil</td>\n",
              "      <td>Brasilia</td>\n",
              "      <td>207847528</td>\n",
              "    </tr>\n",
              "    <tr>\n",
              "      <th>3</th>\n",
              "      <td>Turkey</td>\n",
              "      <td>Ankara</td>\n",
              "      <td>85454307</td>\n",
              "    </tr>\n",
              "    <tr>\n",
              "      <th>4</th>\n",
              "      <td>Spain</td>\n",
              "      <td>Madrid</td>\n",
              "      <td>46800000</td>\n",
              "    </tr>\n",
              "  </tbody>\n",
              "</table>\n",
              "</div>"
            ],
            "text/plain": [
              "   Country    Capital  Population\n",
              "0  Belgium   Brussels    11190846\n",
              "1    India  New Delhi  1303171035\n",
              "2   Brazil   Brasilia   207847528\n",
              "3   Turkey     Ankara    85454307\n",
              "4    Spain     Madrid    46800000"
            ]
          },
          "execution_count": 46,
          "metadata": {},
          "output_type": "execute_result"
        }
      ],
      "source": [
        "df_manuel"
      ]
    },
    {
      "cell_type": "code",
      "execution_count": null,
      "metadata": {
        "id": "Os9GnDaBHpnM",
        "outputId": "40a3671d-eb9a-46eb-e69a-5076a5bccafd",
        "tags": []
      },
      "outputs": [
        {
          "data": {
            "text/html": [
              "<div>\n",
              "<style scoped>\n",
              "    .dataframe tbody tr th:only-of-type {\n",
              "        vertical-align: middle;\n",
              "    }\n",
              "\n",
              "    .dataframe tbody tr th {\n",
              "        vertical-align: top;\n",
              "    }\n",
              "\n",
              "    .dataframe thead th {\n",
              "        text-align: right;\n",
              "    }\n",
              "</style>\n",
              "<table border=\"1\" class=\"dataframe\">\n",
              "  <thead>\n",
              "    <tr style=\"text-align: right;\">\n",
              "      <th></th>\n",
              "      <th>Species</th>\n",
              "      <th>Stage</th>\n",
              "      <th>Clutch Completion</th>\n",
              "      <th>Culmen Length (mm)</th>\n",
              "      <th>Culmen Depth (mm)</th>\n",
              "      <th>Flipper Length (mm)</th>\n",
              "      <th>Body Mass (g)</th>\n",
              "      <th>Sex</th>\n",
              "      <th>sample_id</th>\n",
              "      <th>Region</th>\n",
              "      <th>Island</th>\n",
              "    </tr>\n",
              "  </thead>\n",
              "  <tbody>\n",
              "    <tr>\n",
              "      <th>0</th>\n",
              "      <td>Adelie Penguin (Pygoscelis adeliae)</td>\n",
              "      <td>Adult, 1 Egg Stage</td>\n",
              "      <td>Yes</td>\n",
              "      <td>39.1</td>\n",
              "      <td>18.7</td>\n",
              "      <td>181.0</td>\n",
              "      <td>3750.0</td>\n",
              "      <td>MALE</td>\n",
              "      <td>1</td>\n",
              "      <td>Anvers</td>\n",
              "      <td>Torgersen</td>\n",
              "    </tr>\n",
              "    <tr>\n",
              "      <th>1</th>\n",
              "      <td>Adelie Penguin (Pygoscelis adeliae)</td>\n",
              "      <td>Adult, 1 Egg Stage</td>\n",
              "      <td>Yes</td>\n",
              "      <td>39.5</td>\n",
              "      <td>17.4</td>\n",
              "      <td>186.0</td>\n",
              "      <td>3800.0</td>\n",
              "      <td>FEMALE</td>\n",
              "      <td>2</td>\n",
              "      <td>Anvers</td>\n",
              "      <td>Torgersen</td>\n",
              "    </tr>\n",
              "    <tr>\n",
              "      <th>2</th>\n",
              "      <td>Adelie Penguin (Pygoscelis adeliae)</td>\n",
              "      <td>Adult, 1 Egg Stage</td>\n",
              "      <td>Yes</td>\n",
              "      <td>40.3</td>\n",
              "      <td>18.0</td>\n",
              "      <td>195.0</td>\n",
              "      <td>3250.0</td>\n",
              "      <td>FEMALE</td>\n",
              "      <td>3</td>\n",
              "      <td>Anvers</td>\n",
              "      <td>Torgersen</td>\n",
              "    </tr>\n",
              "    <tr>\n",
              "      <th>3</th>\n",
              "      <td>Adelie Penguin (Pygoscelis adeliae)</td>\n",
              "      <td>Adult, 1 Egg Stage</td>\n",
              "      <td>Yes</td>\n",
              "      <td>NaN</td>\n",
              "      <td>NaN</td>\n",
              "      <td>NaN</td>\n",
              "      <td>NaN</td>\n",
              "      <td>NaN</td>\n",
              "      <td>4</td>\n",
              "      <td>Anvers</td>\n",
              "      <td>Torgersen</td>\n",
              "    </tr>\n",
              "    <tr>\n",
              "      <th>4</th>\n",
              "      <td>Adelie Penguin (Pygoscelis adeliae)</td>\n",
              "      <td>Adult, 1 Egg Stage</td>\n",
              "      <td>Yes</td>\n",
              "      <td>36.7</td>\n",
              "      <td>19.3</td>\n",
              "      <td>193.0</td>\n",
              "      <td>3450.0</td>\n",
              "      <td>FEMALE</td>\n",
              "      <td>5</td>\n",
              "      <td>Anvers</td>\n",
              "      <td>Torgersen</td>\n",
              "    </tr>\n",
              "    <tr>\n",
              "      <th>...</th>\n",
              "      <td>...</td>\n",
              "      <td>...</td>\n",
              "      <td>...</td>\n",
              "      <td>...</td>\n",
              "      <td>...</td>\n",
              "      <td>...</td>\n",
              "      <td>...</td>\n",
              "      <td>...</td>\n",
              "      <td>...</td>\n",
              "      <td>...</td>\n",
              "      <td>...</td>\n",
              "    </tr>\n",
              "    <tr>\n",
              "      <th>339</th>\n",
              "      <td>Gentoo penguin (Pygoscelis papua)</td>\n",
              "      <td>Adult, 1 Egg Stage</td>\n",
              "      <td>No</td>\n",
              "      <td>NaN</td>\n",
              "      <td>NaN</td>\n",
              "      <td>NaN</td>\n",
              "      <td>NaN</td>\n",
              "      <td>NaN</td>\n",
              "      <td>340</td>\n",
              "      <td>Anvers</td>\n",
              "      <td>Biscoe</td>\n",
              "    </tr>\n",
              "    <tr>\n",
              "      <th>340</th>\n",
              "      <td>Gentoo penguin (Pygoscelis papua)</td>\n",
              "      <td>Adult, 1 Egg Stage</td>\n",
              "      <td>Yes</td>\n",
              "      <td>46.8</td>\n",
              "      <td>14.3</td>\n",
              "      <td>215.0</td>\n",
              "      <td>4850.0</td>\n",
              "      <td>FEMALE</td>\n",
              "      <td>341</td>\n",
              "      <td>Anvers</td>\n",
              "      <td>Biscoe</td>\n",
              "    </tr>\n",
              "    <tr>\n",
              "      <th>341</th>\n",
              "      <td>Gentoo penguin (Pygoscelis papua)</td>\n",
              "      <td>Adult, 1 Egg Stage</td>\n",
              "      <td>Yes</td>\n",
              "      <td>50.4</td>\n",
              "      <td>15.7</td>\n",
              "      <td>222.0</td>\n",
              "      <td>5750.0</td>\n",
              "      <td>MALE</td>\n",
              "      <td>342</td>\n",
              "      <td>Anvers</td>\n",
              "      <td>Biscoe</td>\n",
              "    </tr>\n",
              "    <tr>\n",
              "      <th>342</th>\n",
              "      <td>Gentoo penguin (Pygoscelis papua)</td>\n",
              "      <td>Adult, 1 Egg Stage</td>\n",
              "      <td>Yes</td>\n",
              "      <td>45.2</td>\n",
              "      <td>14.8</td>\n",
              "      <td>212.0</td>\n",
              "      <td>5200.0</td>\n",
              "      <td>FEMALE</td>\n",
              "      <td>343</td>\n",
              "      <td>Anvers</td>\n",
              "      <td>Biscoe</td>\n",
              "    </tr>\n",
              "    <tr>\n",
              "      <th>343</th>\n",
              "      <td>Gentoo penguin (Pygoscelis papua)</td>\n",
              "      <td>Adult, 1 Egg Stage</td>\n",
              "      <td>Yes</td>\n",
              "      <td>49.9</td>\n",
              "      <td>16.1</td>\n",
              "      <td>213.0</td>\n",
              "      <td>5400.0</td>\n",
              "      <td>MALE</td>\n",
              "      <td>344</td>\n",
              "      <td>Anvers</td>\n",
              "      <td>Biscoe</td>\n",
              "    </tr>\n",
              "  </tbody>\n",
              "</table>\n",
              "<p>344 rows × 11 columns</p>\n",
              "</div>"
            ],
            "text/plain": [
              "                                 Species               Stage  \\\n",
              "0    Adelie Penguin (Pygoscelis adeliae)  Adult, 1 Egg Stage   \n",
              "1    Adelie Penguin (Pygoscelis adeliae)  Adult, 1 Egg Stage   \n",
              "2    Adelie Penguin (Pygoscelis adeliae)  Adult, 1 Egg Stage   \n",
              "3    Adelie Penguin (Pygoscelis adeliae)  Adult, 1 Egg Stage   \n",
              "4    Adelie Penguin (Pygoscelis adeliae)  Adult, 1 Egg Stage   \n",
              "..                                   ...                 ...   \n",
              "339    Gentoo penguin (Pygoscelis papua)  Adult, 1 Egg Stage   \n",
              "340    Gentoo penguin (Pygoscelis papua)  Adult, 1 Egg Stage   \n",
              "341    Gentoo penguin (Pygoscelis papua)  Adult, 1 Egg Stage   \n",
              "342    Gentoo penguin (Pygoscelis papua)  Adult, 1 Egg Stage   \n",
              "343    Gentoo penguin (Pygoscelis papua)  Adult, 1 Egg Stage   \n",
              "\n",
              "    Clutch Completion  Culmen Length (mm)  Culmen Depth (mm)  \\\n",
              "0                 Yes                39.1               18.7   \n",
              "1                 Yes                39.5               17.4   \n",
              "2                 Yes                40.3               18.0   \n",
              "3                 Yes                 NaN                NaN   \n",
              "4                 Yes                36.7               19.3   \n",
              "..                ...                 ...                ...   \n",
              "339                No                 NaN                NaN   \n",
              "340               Yes                46.8               14.3   \n",
              "341               Yes                50.4               15.7   \n",
              "342               Yes                45.2               14.8   \n",
              "343               Yes                49.9               16.1   \n",
              "\n",
              "     Flipper Length (mm)  Body Mass (g)     Sex  sample_id  Region     Island  \n",
              "0                  181.0         3750.0    MALE          1  Anvers  Torgersen  \n",
              "1                  186.0         3800.0  FEMALE          2  Anvers  Torgersen  \n",
              "2                  195.0         3250.0  FEMALE          3  Anvers  Torgersen  \n",
              "3                    NaN            NaN     NaN          4  Anvers  Torgersen  \n",
              "4                  193.0         3450.0  FEMALE          5  Anvers  Torgersen  \n",
              "..                   ...            ...     ...        ...     ...        ...  \n",
              "339                  NaN            NaN     NaN        340  Anvers     Biscoe  \n",
              "340                215.0         4850.0  FEMALE        341  Anvers     Biscoe  \n",
              "341                222.0         5750.0    MALE        342  Anvers     Biscoe  \n",
              "342                212.0         5200.0  FEMALE        343  Anvers     Biscoe  \n",
              "343                213.0         5400.0    MALE        344  Anvers     Biscoe  \n",
              "\n",
              "[344 rows x 11 columns]"
            ]
          },
          "metadata": {},
          "output_type": "display_data"
        }
      ],
      "source": [
        "penguin_dataset_final = pd.merge(penguins_features, penguins_location, on='sample_id')\n",
        "display(penguin_dataset_final)"
      ]
    },
    {
      "cell_type": "code",
      "execution_count": null,
      "metadata": {
        "id": "Wwd5UnHUHpnM",
        "outputId": "8d2f1abf-8dee-4714-abac-dd0de5e71c60",
        "tags": []
      },
      "outputs": [
        {
          "data": {
            "text/plain": [
              "['Species',\n",
              " 'Stage',\n",
              " 'Clutch Completion',\n",
              " 'Culmen Length (mm)',\n",
              " 'Culmen Depth (mm)',\n",
              " 'Flipper Length (mm)',\n",
              " 'Body Mass (g)',\n",
              " 'Sex',\n",
              " 'sample_id',\n",
              " 'Region',\n",
              " 'Island']"
            ]
          },
          "execution_count": 76,
          "metadata": {},
          "output_type": "execute_result"
        }
      ],
      "source": [
        "list(penguin_dataset_final)"
      ]
    },
    {
      "cell_type": "code",
      "execution_count": null,
      "metadata": {
        "id": "yp9Ia7A_HpnM",
        "tags": []
      },
      "outputs": [],
      "source": [
        "# copy dataset"
      ]
    },
    {
      "cell_type": "code",
      "execution_count": null,
      "metadata": {
        "id": "DQ9EFXsdHpnM",
        "tags": []
      },
      "outputs": [],
      "source": [
        "#penguin_dataset = penguin_dataset_final.copy()"
      ]
    },
    {
      "cell_type": "code",
      "execution_count": null,
      "metadata": {
        "id": "CZ2MgVrCZZYa"
      },
      "outputs": [],
      "source": [
        "penguin_dataset1 = penguin_dataset_final.copy()"
      ]
    },
    {
      "cell_type": "markdown",
      "metadata": {
        "id": "yIvmUReEHpnN",
        "tags": []
      },
      "source": [
        "### Veri Seti Genel Düzenleme:"
      ]
    },
    {
      "cell_type": "code",
      "execution_count": null,
      "metadata": {
        "id": "qCZlLXlhHpnN",
        "tags": []
      },
      "outputs": [],
      "source": [
        "newcol_names={'Clutch Completion':'Clutch_comp',\n",
        "             'Culmen Length (mm)': 'Culmen_lenght_mm',\n",
        "             'Culmen Depth (mm)': 'Culmen_depth_mm',\n",
        "             'Flipper Length (mm)': 'Flipper_length_mm',\n",
        "             'Body Mass (g)': 'Body_mass_g'}"
      ]
    },
    {
      "cell_type": "code",
      "execution_count": null,
      "metadata": {
        "id": "nkTC-aPdHpnO",
        "tags": []
      },
      "outputs": [],
      "source": [
        "penguin_dataset= penguin_dataset1.rename(columns=newcol_names)"
      ]
    },
    {
      "cell_type": "code",
      "execution_count": null,
      "metadata": {
        "id": "yHugUa8gHpnO",
        "tags": []
      },
      "outputs": [],
      "source": [
        "#Alternatif olarak ->>> columns = {'body_mass_g':'weight', ...}"
      ]
    },
    {
      "cell_type": "code",
      "execution_count": null,
      "metadata": {
        "id": "42Kaly1UHpnO",
        "outputId": "128077de-a354-4f07-d73c-950316e167b8",
        "tags": []
      },
      "outputs": [
        {
          "name": "stdout",
          "output_type": "stream",
          "text": [
            "<class 'pandas.core.frame.DataFrame'>\n",
            "RangeIndex: 344 entries, 0 to 343\n",
            "Data columns (total 11 columns):\n",
            " #   Column             Non-Null Count  Dtype  \n",
            "---  ------             --------------  -----  \n",
            " 0   Species            344 non-null    object \n",
            " 1   Stage              344 non-null    object \n",
            " 2   Clutch_comp        344 non-null    object \n",
            " 3   Culmen_lenght_mm   342 non-null    float64\n",
            " 4   Culmen_depth_mm    342 non-null    float64\n",
            " 5   Flipper_length_mm  342 non-null    float64\n",
            " 6   Body_mass_g        342 non-null    float64\n",
            " 7   Sex                334 non-null    object \n",
            " 8   sample_id          344 non-null    int64  \n",
            " 9   Region             344 non-null    object \n",
            " 10  Island             344 non-null    object \n",
            "dtypes: float64(4), int64(1), object(6)\n",
            "memory usage: 29.7+ KB\n"
          ]
        }
      ],
      "source": [
        "penguin_dataset.info()"
      ]
    },
    {
      "cell_type": "markdown",
      "metadata": {
        "id": "CZ5BiN_CHpnO",
        "tags": []
      },
      "source": [
        "### Kayıp Veri (missing values) ile Uğraşma:"
      ]
    },
    {
      "cell_type": "code",
      "execution_count": null,
      "metadata": {
        "id": "lr16qu8WHpnP",
        "outputId": "7f5b021e-23b5-4ed4-d0fc-c6ddeff9f96b",
        "tags": []
      },
      "outputs": [
        {
          "data": {
            "text/plain": [
              "Species               0\n",
              "Stage                 0\n",
              "Clutch_comp           0\n",
              "Culmen_lenght_mm      2\n",
              "Culmen_depth_mm       2\n",
              "Flipper_length_mm     2\n",
              "Body_mass_g           2\n",
              "Sex                  10\n",
              "sample_id             0\n",
              "Region                0\n",
              "Island                0\n",
              "dtype: int64"
            ]
          },
          "execution_count": 84,
          "metadata": {},
          "output_type": "execute_result"
        }
      ],
      "source": [
        "penguin_dataset.isnull().sum()"
      ]
    },
    {
      "cell_type": "code",
      "execution_count": null,
      "metadata": {
        "id": "H7Z-m4jVHpnT",
        "outputId": "b0dc7c4b-61ca-422d-c1ae-f13991dce14f",
        "tags": []
      },
      "outputs": [
        {
          "data": {
            "text/plain": [
              "0"
            ]
          },
          "execution_count": 85,
          "metadata": {},
          "output_type": "execute_result"
        }
      ],
      "source": [
        "sum(penguin_dataset['Species'].isnull())"
      ]
    },
    {
      "cell_type": "code",
      "execution_count": null,
      "metadata": {
        "id": "Uw7E8p_tHpnT",
        "outputId": "dd43bbf2-79cf-4073-ea04-2c01401357f6",
        "tags": []
      },
      "outputs": [
        {
          "data": {
            "text/plain": [
              "10"
            ]
          },
          "execution_count": 86,
          "metadata": {},
          "output_type": "execute_result"
        }
      ],
      "source": [
        "sum(penguin_dataset['Sex'].isnull())"
      ]
    },
    {
      "cell_type": "code",
      "execution_count": null,
      "metadata": {
        "id": "Ykv-7tJAHpnT",
        "outputId": "aa9573cd-e8ed-4412-93ae-0d8807e88291",
        "tags": []
      },
      "outputs": [
        {
          "data": {
            "text/plain": [
              "Species              334\n",
              "Stage                334\n",
              "Clutch_comp          334\n",
              "Culmen_lenght_mm     334\n",
              "Culmen_depth_mm      334\n",
              "Flipper_length_mm    334\n",
              "Body_mass_g          334\n",
              "Sex                  334\n",
              "sample_id            334\n",
              "Region               334\n",
              "Island               334\n",
              "dtype: int64"
            ]
          },
          "execution_count": 87,
          "metadata": {},
          "output_type": "execute_result"
        }
      ],
      "source": [
        "#Missing Alternatif-1:\n",
        "\n",
        "penguin_dataset2 = penguin_dataset.dropna()\n",
        "penguin_dataset2.count()"
      ]
    },
    {
      "cell_type": "code",
      "execution_count": null,
      "metadata": {
        "id": "8YX0sxfqHpnU",
        "outputId": "c484e50e-acdd-409b-9cf6-afe91546dc48",
        "tags": []
      },
      "outputs": [
        {
          "name": "stdout",
          "output_type": "stream",
          "text": [
            "<class 'pandas.core.frame.DataFrame'>\n",
            "RangeIndex: 344 entries, 0 to 343\n",
            "Data columns (total 15 columns):\n",
            " #   Column                Non-Null Count  Dtype  \n",
            "---  ------                --------------  -----  \n",
            " 0   Species               344 non-null    object \n",
            " 1   Stage                 344 non-null    object \n",
            " 2   Clutch_comp           344 non-null    object \n",
            " 3   Culmen_lenght_mm      342 non-null    float64\n",
            " 4   Culmen_depth_mm       342 non-null    float64\n",
            " 5   Flipper_length_mm     342 non-null    float64\n",
            " 6   Body_mass_g           342 non-null    float64\n",
            " 7   Sex                   334 non-null    object \n",
            " 8   sample_id             344 non-null    int64  \n",
            " 9   Region                344 non-null    object \n",
            " 10  Island                344 non-null    object \n",
            " 11  Culmen_lenght_mm_v1   344 non-null    float64\n",
            " 12  Culmen_depth_mm_v1    344 non-null    float64\n",
            " 13  Flipper_length_mm_v1  344 non-null    float64\n",
            " 14  Body_mass_g_v1        344 non-null    float64\n",
            "dtypes: float64(8), int64(1), object(6)\n",
            "memory usage: 40.4+ KB\n"
          ]
        }
      ],
      "source": [
        "penguin_dataset.info()"
      ]
    },
    {
      "cell_type": "markdown",
      "metadata": {
        "id": "Ch7_AFl9HpnU"
      },
      "source": [
        "#Cinsiyet'te Hala boş değerler var. Ne yapacağımıza karar verelim?\n",
        "- Tamamen satır silebiliriz.\n",
        "- Mod/Median/Mean/ bir sayısal değer vb. ile doldurabiliriz.\n",
        "- Kategorik olduğu için tahminleme yapabiliriz."
      ]
    },
    {
      "cell_type": "code",
      "execution_count": null,
      "metadata": {
        "id": "IDfJXwgvHpnU",
        "outputId": "4884d6db-bc35-45b9-c139-9c9e03dfe4e7",
        "tags": []
      },
      "outputs": [
        {
          "name": "stdout",
          "output_type": "stream",
          "text": [
            "<class 'pandas.core.frame.DataFrame'>\n",
            "Index: 334 entries, 0 to 343\n",
            "Data columns (total 15 columns):\n",
            " #   Column                Non-Null Count  Dtype  \n",
            "---  ------                --------------  -----  \n",
            " 0   Species               334 non-null    object \n",
            " 1   Stage                 334 non-null    object \n",
            " 2   Clutch_comp           334 non-null    object \n",
            " 3   Culmen_lenght_mm      334 non-null    float64\n",
            " 4   Culmen_depth_mm       334 non-null    float64\n",
            " 5   Flipper_length_mm     334 non-null    float64\n",
            " 6   Body_mass_g           334 non-null    float64\n",
            " 7   Sex                   334 non-null    object \n",
            " 8   sample_id             334 non-null    int64  \n",
            " 9   Region                334 non-null    object \n",
            " 10  Island                334 non-null    object \n",
            " 11  Culmen_lenght_mm_v1   334 non-null    float64\n",
            " 12  Culmen_depth_mm_v1    334 non-null    float64\n",
            " 13  Flipper_length_mm_v1  334 non-null    float64\n",
            " 14  Body_mass_g_v1        334 non-null    float64\n",
            "dtypes: float64(8), int64(1), object(6)\n",
            "memory usage: 41.8+ KB\n"
          ]
        }
      ],
      "source": [
        "penguin_dataset3 = penguin_dataset[penguin_dataset['Sex'].notnull()]\n",
        "penguin_dataset3.info()"
      ]
    },
    {
      "cell_type": "code",
      "execution_count": null,
      "metadata": {
        "id": "SjHlK4tjHpnU",
        "tags": []
      },
      "outputs": [],
      "source": [
        "# Veri Filtreleme İşlemlerine örnek:"
      ]
    },
    {
      "cell_type": "code",
      "execution_count": null,
      "metadata": {
        "id": "bL5T5CIBHpnU",
        "tags": []
      },
      "outputs": [],
      "source": [
        "# Fazla değişkenleri Silme:"
      ]
    },
    {
      "cell_type": "code",
      "execution_count": null,
      "metadata": {
        "id": "IziATkQ0HpnV",
        "tags": []
      },
      "outputs": [],
      "source": [
        "penguin_dataset_new=penguin_dataset2.drop(['Culmen_lenght_mm_v1','Body_mass_g_v1'], axis = 1)"
      ]
    },
    {
      "cell_type": "code",
      "execution_count": null,
      "metadata": {
        "id": "MGdhAnCtHpnV",
        "outputId": "001f21c4-9fa8-4d45-b4ce-8fe2931ed16d",
        "tags": []
      },
      "outputs": [
        {
          "name": "stdout",
          "output_type": "stream",
          "text": [
            "<class 'pandas.core.frame.DataFrame'>\n",
            "Index: 334 entries, 0 to 343\n",
            "Data columns (total 11 columns):\n",
            " #   Column                Non-Null Count  Dtype  \n",
            "---  ------                --------------  -----  \n",
            " 0   Species               334 non-null    object \n",
            " 1   Stage                 334 non-null    object \n",
            " 2   Clutch_comp           334 non-null    object \n",
            " 3   Sex                   334 non-null    object \n",
            " 4   sample_id             334 non-null    int64  \n",
            " 5   Region                334 non-null    object \n",
            " 6   Island                334 non-null    object \n",
            " 7   Culmen_lenght_mm_v1   334 non-null    float64\n",
            " 8   Culmen_depth_mm_v1    334 non-null    float64\n",
            " 9   Flipper_length_mm_v1  334 non-null    float64\n",
            " 10  Body_mass_g_v1        334 non-null    float64\n",
            "dtypes: float64(4), int64(1), object(6)\n",
            "memory usage: 31.3+ KB\n"
          ]
        }
      ],
      "source": [
        "penguin_dataset_new.info()"
      ]
    },
    {
      "cell_type": "code",
      "execution_count": null,
      "metadata": {
        "id": "KeehUTGZHpnV",
        "outputId": "54dd892a-eae1-4806-f245-017250381229",
        "tags": []
      },
      "outputs": [
        {
          "data": {
            "text/html": [
              "<div>\n",
              "<style scoped>\n",
              "    .dataframe tbody tr th:only-of-type {\n",
              "        vertical-align: middle;\n",
              "    }\n",
              "\n",
              "    .dataframe tbody tr th {\n",
              "        vertical-align: top;\n",
              "    }\n",
              "\n",
              "    .dataframe thead th {\n",
              "        text-align: right;\n",
              "    }\n",
              "</style>\n",
              "<table border=\"1\" class=\"dataframe\">\n",
              "  <thead>\n",
              "    <tr style=\"text-align: right;\">\n",
              "      <th></th>\n",
              "      <th>Culmen_lenght_mm_v1</th>\n",
              "      <th>Culmen_depth_mm_v1</th>\n",
              "      <th>Flipper_length_mm_v1</th>\n",
              "    </tr>\n",
              "  </thead>\n",
              "  <tbody>\n",
              "    <tr>\n",
              "      <th>0</th>\n",
              "      <td>39.1</td>\n",
              "      <td>18.7</td>\n",
              "      <td>181.0</td>\n",
              "    </tr>\n",
              "    <tr>\n",
              "      <th>1</th>\n",
              "      <td>39.5</td>\n",
              "      <td>17.4</td>\n",
              "      <td>186.0</td>\n",
              "    </tr>\n",
              "    <tr>\n",
              "      <th>2</th>\n",
              "      <td>40.3</td>\n",
              "      <td>18.0</td>\n",
              "      <td>195.0</td>\n",
              "    </tr>\n",
              "    <tr>\n",
              "      <th>4</th>\n",
              "      <td>36.7</td>\n",
              "      <td>19.3</td>\n",
              "      <td>193.0</td>\n",
              "    </tr>\n",
              "    <tr>\n",
              "      <th>5</th>\n",
              "      <td>39.3</td>\n",
              "      <td>20.6</td>\n",
              "      <td>190.0</td>\n",
              "    </tr>\n",
              "  </tbody>\n",
              "</table>\n",
              "</div>"
            ],
            "text/plain": [
              "   Culmen_lenght_mm_v1  Culmen_depth_mm_v1  Flipper_length_mm_v1\n",
              "0                 39.1                18.7                 181.0\n",
              "1                 39.5                17.4                 186.0\n",
              "2                 40.3                18.0                 195.0\n",
              "4                 36.7                19.3                 193.0\n",
              "5                 39.3                20.6                 190.0"
            ]
          },
          "execution_count": 98,
          "metadata": {},
          "output_type": "execute_result"
        }
      ],
      "source": [
        "penguin_dataset_fiter1 = penguin_dataset1[['Culmen_lenght_mm_v1', 'Culmen_depth_mm_v1', 'Flipper_length_mm_v1']].copy()\n",
        "\n",
        "penguin_dataset_fiter1.head()"
      ]
    },
    {
      "cell_type": "code",
      "execution_count": null,
      "metadata": {
        "id": "mbyAz-_VHpnV",
        "outputId": "e4ef8345-95b2-40d2-c403-30d2adab5643",
        "tags": []
      },
      "outputs": [
        {
          "data": {
            "text/plain": [
              "Species                 Adelie Penguin (Pygoscelis adeliae)\n",
              "Stage                                    Adult, 1 Egg Stage\n",
              "Clutch_comp                                             Yes\n",
              "Culmen_lenght_mm                                       39.1\n",
              "Culmen_depth_mm                                        18.7\n",
              "Flipper_length_mm                                     181.0\n",
              "Body_mass_g                                          3750.0\n",
              "Sex                                                    MALE\n",
              "sample_id                                                 1\n",
              "Region                                               Anvers\n",
              "Island                                            Torgersen\n",
              "Culmen_lenght_mm_v1                                    39.1\n",
              "Culmen_depth_mm_v1                                     18.7\n",
              "Flipper_length_mm_v1                                  181.0\n",
              "Body_mass_g_v1                                       3750.0\n",
              "Name: 0, dtype: object"
            ]
          },
          "execution_count": 99,
          "metadata": {},
          "output_type": "execute_result"
        }
      ],
      "source": [
        "penguin_dataset1.iloc[0]"
      ]
    },
    {
      "cell_type": "code",
      "execution_count": null,
      "metadata": {
        "id": "nQ6nDWMJHpnV",
        "outputId": "23a61f11-4df1-4e89-bc80-6b13d745919a",
        "tags": []
      },
      "outputs": [
        {
          "data": {
            "text/html": [
              "<div>\n",
              "<style scoped>\n",
              "    .dataframe tbody tr th:only-of-type {\n",
              "        vertical-align: middle;\n",
              "    }\n",
              "\n",
              "    .dataframe tbody tr th {\n",
              "        vertical-align: top;\n",
              "    }\n",
              "\n",
              "    .dataframe thead th {\n",
              "        text-align: right;\n",
              "    }\n",
              "</style>\n",
              "<table border=\"1\" class=\"dataframe\">\n",
              "  <thead>\n",
              "    <tr style=\"text-align: right;\">\n",
              "      <th></th>\n",
              "      <th>Species</th>\n",
              "      <th>Stage</th>\n",
              "      <th>Clutch_comp</th>\n",
              "      <th>Culmen_lenght_mm</th>\n",
              "      <th>Culmen_depth_mm</th>\n",
              "      <th>Flipper_length_mm</th>\n",
              "      <th>Body_mass_g</th>\n",
              "      <th>Sex</th>\n",
              "      <th>sample_id</th>\n",
              "      <th>Region</th>\n",
              "      <th>Island</th>\n",
              "      <th>Culmen_lenght_mm_v1</th>\n",
              "      <th>Culmen_depth_mm_v1</th>\n",
              "      <th>Flipper_length_mm_v1</th>\n",
              "      <th>Body_mass_g_v1</th>\n",
              "    </tr>\n",
              "  </thead>\n",
              "  <tbody>\n",
              "    <tr>\n",
              "      <th>0</th>\n",
              "      <td>Adelie Penguin (Pygoscelis adeliae)</td>\n",
              "      <td>Adult, 1 Egg Stage</td>\n",
              "      <td>Yes</td>\n",
              "      <td>39.1</td>\n",
              "      <td>18.7</td>\n",
              "      <td>181.0</td>\n",
              "      <td>3750.0</td>\n",
              "      <td>MALE</td>\n",
              "      <td>1</td>\n",
              "      <td>Anvers</td>\n",
              "      <td>Torgersen</td>\n",
              "      <td>39.1</td>\n",
              "      <td>18.7</td>\n",
              "      <td>181.0</td>\n",
              "      <td>3750.0</td>\n",
              "    </tr>\n",
              "    <tr>\n",
              "      <th>1</th>\n",
              "      <td>Adelie Penguin (Pygoscelis adeliae)</td>\n",
              "      <td>Adult, 1 Egg Stage</td>\n",
              "      <td>Yes</td>\n",
              "      <td>39.5</td>\n",
              "      <td>17.4</td>\n",
              "      <td>186.0</td>\n",
              "      <td>3800.0</td>\n",
              "      <td>FEMALE</td>\n",
              "      <td>2</td>\n",
              "      <td>Anvers</td>\n",
              "      <td>Torgersen</td>\n",
              "      <td>39.5</td>\n",
              "      <td>17.4</td>\n",
              "      <td>186.0</td>\n",
              "      <td>3800.0</td>\n",
              "    </tr>\n",
              "    <tr>\n",
              "      <th>2</th>\n",
              "      <td>Adelie Penguin (Pygoscelis adeliae)</td>\n",
              "      <td>Adult, 1 Egg Stage</td>\n",
              "      <td>Yes</td>\n",
              "      <td>40.3</td>\n",
              "      <td>18.0</td>\n",
              "      <td>195.0</td>\n",
              "      <td>3250.0</td>\n",
              "      <td>FEMALE</td>\n",
              "      <td>3</td>\n",
              "      <td>Anvers</td>\n",
              "      <td>Torgersen</td>\n",
              "      <td>40.3</td>\n",
              "      <td>18.0</td>\n",
              "      <td>195.0</td>\n",
              "      <td>3250.0</td>\n",
              "    </tr>\n",
              "    <tr>\n",
              "      <th>4</th>\n",
              "      <td>Adelie Penguin (Pygoscelis adeliae)</td>\n",
              "      <td>Adult, 1 Egg Stage</td>\n",
              "      <td>Yes</td>\n",
              "      <td>36.7</td>\n",
              "      <td>19.3</td>\n",
              "      <td>193.0</td>\n",
              "      <td>3450.0</td>\n",
              "      <td>FEMALE</td>\n",
              "      <td>5</td>\n",
              "      <td>Anvers</td>\n",
              "      <td>Torgersen</td>\n",
              "      <td>36.7</td>\n",
              "      <td>19.3</td>\n",
              "      <td>193.0</td>\n",
              "      <td>3450.0</td>\n",
              "    </tr>\n",
              "    <tr>\n",
              "      <th>5</th>\n",
              "      <td>Adelie Penguin (Pygoscelis adeliae)</td>\n",
              "      <td>Adult, 1 Egg Stage</td>\n",
              "      <td>Yes</td>\n",
              "      <td>39.3</td>\n",
              "      <td>20.6</td>\n",
              "      <td>190.0</td>\n",
              "      <td>3650.0</td>\n",
              "      <td>MALE</td>\n",
              "      <td>6</td>\n",
              "      <td>Anvers</td>\n",
              "      <td>Torgersen</td>\n",
              "      <td>39.3</td>\n",
              "      <td>20.6</td>\n",
              "      <td>190.0</td>\n",
              "      <td>3650.0</td>\n",
              "    </tr>\n",
              "    <tr>\n",
              "      <th>6</th>\n",
              "      <td>Adelie Penguin (Pygoscelis adeliae)</td>\n",
              "      <td>Adult, 1 Egg Stage</td>\n",
              "      <td>No</td>\n",
              "      <td>38.9</td>\n",
              "      <td>17.8</td>\n",
              "      <td>181.0</td>\n",
              "      <td>3625.0</td>\n",
              "      <td>FEMALE</td>\n",
              "      <td>7</td>\n",
              "      <td>Anvers</td>\n",
              "      <td>Torgersen</td>\n",
              "      <td>38.9</td>\n",
              "      <td>17.8</td>\n",
              "      <td>181.0</td>\n",
              "      <td>3625.0</td>\n",
              "    </tr>\n",
              "    <tr>\n",
              "      <th>7</th>\n",
              "      <td>Adelie Penguin (Pygoscelis adeliae)</td>\n",
              "      <td>Adult, 1 Egg Stage</td>\n",
              "      <td>No</td>\n",
              "      <td>39.2</td>\n",
              "      <td>19.6</td>\n",
              "      <td>195.0</td>\n",
              "      <td>4675.0</td>\n",
              "      <td>MALE</td>\n",
              "      <td>8</td>\n",
              "      <td>Anvers</td>\n",
              "      <td>Torgersen</td>\n",
              "      <td>39.2</td>\n",
              "      <td>19.6</td>\n",
              "      <td>195.0</td>\n",
              "      <td>4675.0</td>\n",
              "    </tr>\n",
              "    <tr>\n",
              "      <th>12</th>\n",
              "      <td>Adelie Penguin (Pygoscelis adeliae)</td>\n",
              "      <td>Adult, 1 Egg Stage</td>\n",
              "      <td>Yes</td>\n",
              "      <td>41.1</td>\n",
              "      <td>17.6</td>\n",
              "      <td>182.0</td>\n",
              "      <td>3200.0</td>\n",
              "      <td>FEMALE</td>\n",
              "      <td>13</td>\n",
              "      <td>Anvers</td>\n",
              "      <td>Torgersen</td>\n",
              "      <td>41.1</td>\n",
              "      <td>17.6</td>\n",
              "      <td>182.0</td>\n",
              "      <td>3200.0</td>\n",
              "    </tr>\n",
              "  </tbody>\n",
              "</table>\n",
              "</div>"
            ],
            "text/plain": [
              "                                Species               Stage Clutch_comp  \\\n",
              "0   Adelie Penguin (Pygoscelis adeliae)  Adult, 1 Egg Stage         Yes   \n",
              "1   Adelie Penguin (Pygoscelis adeliae)  Adult, 1 Egg Stage         Yes   \n",
              "2   Adelie Penguin (Pygoscelis adeliae)  Adult, 1 Egg Stage         Yes   \n",
              "4   Adelie Penguin (Pygoscelis adeliae)  Adult, 1 Egg Stage         Yes   \n",
              "5   Adelie Penguin (Pygoscelis adeliae)  Adult, 1 Egg Stage         Yes   \n",
              "6   Adelie Penguin (Pygoscelis adeliae)  Adult, 1 Egg Stage          No   \n",
              "7   Adelie Penguin (Pygoscelis adeliae)  Adult, 1 Egg Stage          No   \n",
              "12  Adelie Penguin (Pygoscelis adeliae)  Adult, 1 Egg Stage         Yes   \n",
              "\n",
              "    Culmen_lenght_mm  Culmen_depth_mm  Flipper_length_mm  Body_mass_g     Sex  \\\n",
              "0               39.1             18.7              181.0       3750.0    MALE   \n",
              "1               39.5             17.4              186.0       3800.0  FEMALE   \n",
              "2               40.3             18.0              195.0       3250.0  FEMALE   \n",
              "4               36.7             19.3              193.0       3450.0  FEMALE   \n",
              "5               39.3             20.6              190.0       3650.0    MALE   \n",
              "6               38.9             17.8              181.0       3625.0  FEMALE   \n",
              "7               39.2             19.6              195.0       4675.0    MALE   \n",
              "12              41.1             17.6              182.0       3200.0  FEMALE   \n",
              "\n",
              "    sample_id  Region     Island  Culmen_lenght_mm_v1  Culmen_depth_mm_v1  \\\n",
              "0           1  Anvers  Torgersen                 39.1                18.7   \n",
              "1           2  Anvers  Torgersen                 39.5                17.4   \n",
              "2           3  Anvers  Torgersen                 40.3                18.0   \n",
              "4           5  Anvers  Torgersen                 36.7                19.3   \n",
              "5           6  Anvers  Torgersen                 39.3                20.6   \n",
              "6           7  Anvers  Torgersen                 38.9                17.8   \n",
              "7           8  Anvers  Torgersen                 39.2                19.6   \n",
              "12         13  Anvers  Torgersen                 41.1                17.6   \n",
              "\n",
              "    Flipper_length_mm_v1  Body_mass_g_v1  \n",
              "0                  181.0          3750.0  \n",
              "1                  186.0          3800.0  \n",
              "2                  195.0          3250.0  \n",
              "4                  193.0          3450.0  \n",
              "5                  190.0          3650.0  \n",
              "6                  181.0          3625.0  \n",
              "7                  195.0          4675.0  \n",
              "12                 182.0          3200.0  "
            ]
          },
          "execution_count": 100,
          "metadata": {},
          "output_type": "execute_result"
        }
      ],
      "source": [
        "penguin_dataset1.iloc[0:8]"
      ]
    },
    {
      "cell_type": "code",
      "execution_count": null,
      "metadata": {
        "id": "E8TYnDSoHpnV",
        "outputId": "598882c1-6c59-4621-c152-fa401bd794d3",
        "tags": []
      },
      "outputs": [
        {
          "data": {
            "text/html": [
              "<div>\n",
              "<style scoped>\n",
              "    .dataframe tbody tr th:only-of-type {\n",
              "        vertical-align: middle;\n",
              "    }\n",
              "\n",
              "    .dataframe tbody tr th {\n",
              "        vertical-align: top;\n",
              "    }\n",
              "\n",
              "    .dataframe thead th {\n",
              "        text-align: right;\n",
              "    }\n",
              "</style>\n",
              "<table border=\"1\" class=\"dataframe\">\n",
              "  <thead>\n",
              "    <tr style=\"text-align: right;\">\n",
              "      <th></th>\n",
              "      <th>Island</th>\n",
              "    </tr>\n",
              "  </thead>\n",
              "  <tbody>\n",
              "    <tr>\n",
              "      <th>0</th>\n",
              "      <td>Torgersen</td>\n",
              "    </tr>\n",
              "    <tr>\n",
              "      <th>1</th>\n",
              "      <td>Torgersen</td>\n",
              "    </tr>\n",
              "    <tr>\n",
              "      <th>2</th>\n",
              "      <td>Torgersen</td>\n",
              "    </tr>\n",
              "    <tr>\n",
              "      <th>4</th>\n",
              "      <td>Torgersen</td>\n",
              "    </tr>\n",
              "    <tr>\n",
              "      <th>5</th>\n",
              "      <td>Torgersen</td>\n",
              "    </tr>\n",
              "    <tr>\n",
              "      <th>...</th>\n",
              "      <td>...</td>\n",
              "    </tr>\n",
              "    <tr>\n",
              "      <th>338</th>\n",
              "      <td>Biscoe</td>\n",
              "    </tr>\n",
              "    <tr>\n",
              "      <th>340</th>\n",
              "      <td>Biscoe</td>\n",
              "    </tr>\n",
              "    <tr>\n",
              "      <th>341</th>\n",
              "      <td>Biscoe</td>\n",
              "    </tr>\n",
              "    <tr>\n",
              "      <th>342</th>\n",
              "      <td>Biscoe</td>\n",
              "    </tr>\n",
              "    <tr>\n",
              "      <th>343</th>\n",
              "      <td>Biscoe</td>\n",
              "    </tr>\n",
              "  </tbody>\n",
              "</table>\n",
              "<p>334 rows × 1 columns</p>\n",
              "</div>"
            ],
            "text/plain": [
              "        Island\n",
              "0    Torgersen\n",
              "1    Torgersen\n",
              "2    Torgersen\n",
              "4    Torgersen\n",
              "5    Torgersen\n",
              "..         ...\n",
              "338     Biscoe\n",
              "340     Biscoe\n",
              "341     Biscoe\n",
              "342     Biscoe\n",
              "343     Biscoe\n",
              "\n",
              "[334 rows x 1 columns]"
            ]
          },
          "execution_count": 101,
          "metadata": {},
          "output_type": "execute_result"
        }
      ],
      "source": [
        "penguin_dataset1.loc[:, ['Island']]"
      ]
    },
    {
      "cell_type": "code",
      "execution_count": null,
      "metadata": {
        "id": "T0rKSggXHpnV",
        "outputId": "87e64821-86e6-4912-817e-e45f76d5d39b",
        "tags": []
      },
      "outputs": [
        {
          "data": {
            "text/html": [
              "<div>\n",
              "<style scoped>\n",
              "    .dataframe tbody tr th:only-of-type {\n",
              "        vertical-align: middle;\n",
              "    }\n",
              "\n",
              "    .dataframe tbody tr th {\n",
              "        vertical-align: top;\n",
              "    }\n",
              "\n",
              "    .dataframe thead th {\n",
              "        text-align: right;\n",
              "    }\n",
              "</style>\n",
              "<table border=\"1\" class=\"dataframe\">\n",
              "  <thead>\n",
              "    <tr style=\"text-align: right;\">\n",
              "      <th></th>\n",
              "      <th>Region</th>\n",
              "      <th>Island</th>\n",
              "    </tr>\n",
              "  </thead>\n",
              "  <tbody>\n",
              "    <tr>\n",
              "      <th>0</th>\n",
              "      <td>Anvers</td>\n",
              "      <td>Torgersen</td>\n",
              "    </tr>\n",
              "    <tr>\n",
              "      <th>1</th>\n",
              "      <td>Anvers</td>\n",
              "      <td>Torgersen</td>\n",
              "    </tr>\n",
              "    <tr>\n",
              "      <th>2</th>\n",
              "      <td>Anvers</td>\n",
              "      <td>Torgersen</td>\n",
              "    </tr>\n",
              "    <tr>\n",
              "      <th>4</th>\n",
              "      <td>Anvers</td>\n",
              "      <td>Torgersen</td>\n",
              "    </tr>\n",
              "    <tr>\n",
              "      <th>5</th>\n",
              "      <td>Anvers</td>\n",
              "      <td>Torgersen</td>\n",
              "    </tr>\n",
              "    <tr>\n",
              "      <th>...</th>\n",
              "      <td>...</td>\n",
              "      <td>...</td>\n",
              "    </tr>\n",
              "    <tr>\n",
              "      <th>338</th>\n",
              "      <td>Anvers</td>\n",
              "      <td>Biscoe</td>\n",
              "    </tr>\n",
              "    <tr>\n",
              "      <th>340</th>\n",
              "      <td>Anvers</td>\n",
              "      <td>Biscoe</td>\n",
              "    </tr>\n",
              "    <tr>\n",
              "      <th>341</th>\n",
              "      <td>Anvers</td>\n",
              "      <td>Biscoe</td>\n",
              "    </tr>\n",
              "    <tr>\n",
              "      <th>342</th>\n",
              "      <td>Anvers</td>\n",
              "      <td>Biscoe</td>\n",
              "    </tr>\n",
              "    <tr>\n",
              "      <th>343</th>\n",
              "      <td>Anvers</td>\n",
              "      <td>Biscoe</td>\n",
              "    </tr>\n",
              "  </tbody>\n",
              "</table>\n",
              "<p>334 rows × 2 columns</p>\n",
              "</div>"
            ],
            "text/plain": [
              "     Region     Island\n",
              "0    Anvers  Torgersen\n",
              "1    Anvers  Torgersen\n",
              "2    Anvers  Torgersen\n",
              "4    Anvers  Torgersen\n",
              "5    Anvers  Torgersen\n",
              "..      ...        ...\n",
              "338  Anvers     Biscoe\n",
              "340  Anvers     Biscoe\n",
              "341  Anvers     Biscoe\n",
              "342  Anvers     Biscoe\n",
              "343  Anvers     Biscoe\n",
              "\n",
              "[334 rows x 2 columns]"
            ]
          },
          "execution_count": 102,
          "metadata": {},
          "output_type": "execute_result"
        }
      ],
      "source": [
        "penguin_dataset1.loc[:, ['Region', 'Island']]"
      ]
    },
    {
      "cell_type": "code",
      "execution_count": null,
      "metadata": {
        "id": "q-gB6ZpMHpnV",
        "outputId": "9234f918-b144-4d66-863f-68355d630034",
        "tags": []
      },
      "outputs": [
        {
          "data": {
            "text/html": [
              "<div>\n",
              "<style scoped>\n",
              "    .dataframe tbody tr th:only-of-type {\n",
              "        vertical-align: middle;\n",
              "    }\n",
              "\n",
              "    .dataframe tbody tr th {\n",
              "        vertical-align: top;\n",
              "    }\n",
              "\n",
              "    .dataframe thead th {\n",
              "        text-align: right;\n",
              "    }\n",
              "</style>\n",
              "<table border=\"1\" class=\"dataframe\">\n",
              "  <thead>\n",
              "    <tr style=\"text-align: right;\">\n",
              "      <th></th>\n",
              "      <th>Region</th>\n",
              "      <th>Island</th>\n",
              "    </tr>\n",
              "  </thead>\n",
              "  <tbody>\n",
              "    <tr>\n",
              "      <th>0</th>\n",
              "      <td>Anvers</td>\n",
              "      <td>Torgersen</td>\n",
              "    </tr>\n",
              "    <tr>\n",
              "      <th>1</th>\n",
              "      <td>Anvers</td>\n",
              "      <td>Torgersen</td>\n",
              "    </tr>\n",
              "    <tr>\n",
              "      <th>2</th>\n",
              "      <td>Anvers</td>\n",
              "      <td>Torgersen</td>\n",
              "    </tr>\n",
              "    <tr>\n",
              "      <th>4</th>\n",
              "      <td>Anvers</td>\n",
              "      <td>Torgersen</td>\n",
              "    </tr>\n",
              "  </tbody>\n",
              "</table>\n",
              "</div>"
            ],
            "text/plain": [
              "   Region     Island\n",
              "0  Anvers  Torgersen\n",
              "1  Anvers  Torgersen\n",
              "2  Anvers  Torgersen\n",
              "4  Anvers  Torgersen"
            ]
          },
          "execution_count": 103,
          "metadata": {},
          "output_type": "execute_result"
        }
      ],
      "source": [
        "penguin_dataset1.loc[0:4, ['Region', 'Island']]"
      ]
    },
    {
      "cell_type": "code",
      "execution_count": null,
      "metadata": {
        "id": "6kXORtbXHpnW",
        "outputId": "8c329ade-d706-437a-c877-1cd1ffb33caa",
        "tags": []
      },
      "outputs": [
        {
          "data": {
            "text/html": [
              "<div>\n",
              "<style scoped>\n",
              "    .dataframe tbody tr th:only-of-type {\n",
              "        vertical-align: middle;\n",
              "    }\n",
              "\n",
              "    .dataframe tbody tr th {\n",
              "        vertical-align: top;\n",
              "    }\n",
              "\n",
              "    .dataframe thead th {\n",
              "        text-align: right;\n",
              "    }\n",
              "</style>\n",
              "<table border=\"1\" class=\"dataframe\">\n",
              "  <thead>\n",
              "    <tr style=\"text-align: right;\">\n",
              "      <th></th>\n",
              "      <th>Species</th>\n",
              "      <th>Stage</th>\n",
              "      <th>Clutch_comp</th>\n",
              "      <th>Culmen_lenght_mm</th>\n",
              "      <th>Culmen_depth_mm</th>\n",
              "      <th>Flipper_length_mm</th>\n",
              "      <th>Body_mass_g</th>\n",
              "      <th>Sex</th>\n",
              "      <th>sample_id</th>\n",
              "      <th>Region</th>\n",
              "      <th>Island</th>\n",
              "      <th>Culmen_lenght_mm_v1</th>\n",
              "      <th>Culmen_depth_mm_v1</th>\n",
              "      <th>Flipper_length_mm_v1</th>\n",
              "      <th>Body_mass_g_v1</th>\n",
              "    </tr>\n",
              "  </thead>\n",
              "  <tbody>\n",
              "    <tr>\n",
              "      <th>20</th>\n",
              "      <td>Adelie Penguin (Pygoscelis adeliae)</td>\n",
              "      <td>Adult, 1 Egg Stage</td>\n",
              "      <td>Yes</td>\n",
              "      <td>37.8</td>\n",
              "      <td>18.3</td>\n",
              "      <td>174.0</td>\n",
              "      <td>3400.0</td>\n",
              "      <td>FEMALE</td>\n",
              "      <td>21</td>\n",
              "      <td>Anvers</td>\n",
              "      <td>Biscoe</td>\n",
              "      <td>37.8</td>\n",
              "      <td>18.3</td>\n",
              "      <td>174.0</td>\n",
              "      <td>3400.0</td>\n",
              "    </tr>\n",
              "    <tr>\n",
              "      <th>21</th>\n",
              "      <td>Adelie Penguin (Pygoscelis adeliae)</td>\n",
              "      <td>Adult, 1 Egg Stage</td>\n",
              "      <td>Yes</td>\n",
              "      <td>37.7</td>\n",
              "      <td>18.7</td>\n",
              "      <td>180.0</td>\n",
              "      <td>3600.0</td>\n",
              "      <td>MALE</td>\n",
              "      <td>22</td>\n",
              "      <td>Anvers</td>\n",
              "      <td>Biscoe</td>\n",
              "      <td>37.7</td>\n",
              "      <td>18.7</td>\n",
              "      <td>180.0</td>\n",
              "      <td>3600.0</td>\n",
              "    </tr>\n",
              "    <tr>\n",
              "      <th>22</th>\n",
              "      <td>Adelie Penguin (Pygoscelis adeliae)</td>\n",
              "      <td>Adult, 1 Egg Stage</td>\n",
              "      <td>Yes</td>\n",
              "      <td>35.9</td>\n",
              "      <td>19.2</td>\n",
              "      <td>189.0</td>\n",
              "      <td>3800.0</td>\n",
              "      <td>FEMALE</td>\n",
              "      <td>23</td>\n",
              "      <td>Anvers</td>\n",
              "      <td>Biscoe</td>\n",
              "      <td>35.9</td>\n",
              "      <td>19.2</td>\n",
              "      <td>189.0</td>\n",
              "      <td>3800.0</td>\n",
              "    </tr>\n",
              "    <tr>\n",
              "      <th>23</th>\n",
              "      <td>Adelie Penguin (Pygoscelis adeliae)</td>\n",
              "      <td>Adult, 1 Egg Stage</td>\n",
              "      <td>Yes</td>\n",
              "      <td>38.2</td>\n",
              "      <td>18.1</td>\n",
              "      <td>185.0</td>\n",
              "      <td>3950.0</td>\n",
              "      <td>MALE</td>\n",
              "      <td>24</td>\n",
              "      <td>Anvers</td>\n",
              "      <td>Biscoe</td>\n",
              "      <td>38.2</td>\n",
              "      <td>18.1</td>\n",
              "      <td>185.0</td>\n",
              "      <td>3950.0</td>\n",
              "    </tr>\n",
              "    <tr>\n",
              "      <th>24</th>\n",
              "      <td>Adelie Penguin (Pygoscelis adeliae)</td>\n",
              "      <td>Adult, 1 Egg Stage</td>\n",
              "      <td>Yes</td>\n",
              "      <td>38.8</td>\n",
              "      <td>17.2</td>\n",
              "      <td>180.0</td>\n",
              "      <td>3800.0</td>\n",
              "      <td>MALE</td>\n",
              "      <td>25</td>\n",
              "      <td>Anvers</td>\n",
              "      <td>Biscoe</td>\n",
              "      <td>38.8</td>\n",
              "      <td>17.2</td>\n",
              "      <td>180.0</td>\n",
              "      <td>3800.0</td>\n",
              "    </tr>\n",
              "    <tr>\n",
              "      <th>...</th>\n",
              "      <td>...</td>\n",
              "      <td>...</td>\n",
              "      <td>...</td>\n",
              "      <td>...</td>\n",
              "      <td>...</td>\n",
              "      <td>...</td>\n",
              "      <td>...</td>\n",
              "      <td>...</td>\n",
              "      <td>...</td>\n",
              "      <td>...</td>\n",
              "      <td>...</td>\n",
              "      <td>...</td>\n",
              "      <td>...</td>\n",
              "      <td>...</td>\n",
              "      <td>...</td>\n",
              "    </tr>\n",
              "    <tr>\n",
              "      <th>338</th>\n",
              "      <td>Gentoo penguin (Pygoscelis papua)</td>\n",
              "      <td>Adult, 1 Egg Stage</td>\n",
              "      <td>No</td>\n",
              "      <td>47.2</td>\n",
              "      <td>13.7</td>\n",
              "      <td>214.0</td>\n",
              "      <td>4925.0</td>\n",
              "      <td>FEMALE</td>\n",
              "      <td>339</td>\n",
              "      <td>Anvers</td>\n",
              "      <td>Biscoe</td>\n",
              "      <td>47.2</td>\n",
              "      <td>13.7</td>\n",
              "      <td>214.0</td>\n",
              "      <td>4925.0</td>\n",
              "    </tr>\n",
              "    <tr>\n",
              "      <th>340</th>\n",
              "      <td>Gentoo penguin (Pygoscelis papua)</td>\n",
              "      <td>Adult, 1 Egg Stage</td>\n",
              "      <td>Yes</td>\n",
              "      <td>46.8</td>\n",
              "      <td>14.3</td>\n",
              "      <td>215.0</td>\n",
              "      <td>4850.0</td>\n",
              "      <td>FEMALE</td>\n",
              "      <td>341</td>\n",
              "      <td>Anvers</td>\n",
              "      <td>Biscoe</td>\n",
              "      <td>46.8</td>\n",
              "      <td>14.3</td>\n",
              "      <td>215.0</td>\n",
              "      <td>4850.0</td>\n",
              "    </tr>\n",
              "    <tr>\n",
              "      <th>341</th>\n",
              "      <td>Gentoo penguin (Pygoscelis papua)</td>\n",
              "      <td>Adult, 1 Egg Stage</td>\n",
              "      <td>Yes</td>\n",
              "      <td>50.4</td>\n",
              "      <td>15.7</td>\n",
              "      <td>222.0</td>\n",
              "      <td>5750.0</td>\n",
              "      <td>MALE</td>\n",
              "      <td>342</td>\n",
              "      <td>Anvers</td>\n",
              "      <td>Biscoe</td>\n",
              "      <td>50.4</td>\n",
              "      <td>15.7</td>\n",
              "      <td>222.0</td>\n",
              "      <td>5750.0</td>\n",
              "    </tr>\n",
              "    <tr>\n",
              "      <th>342</th>\n",
              "      <td>Gentoo penguin (Pygoscelis papua)</td>\n",
              "      <td>Adult, 1 Egg Stage</td>\n",
              "      <td>Yes</td>\n",
              "      <td>45.2</td>\n",
              "      <td>14.8</td>\n",
              "      <td>212.0</td>\n",
              "      <td>5200.0</td>\n",
              "      <td>FEMALE</td>\n",
              "      <td>343</td>\n",
              "      <td>Anvers</td>\n",
              "      <td>Biscoe</td>\n",
              "      <td>45.2</td>\n",
              "      <td>14.8</td>\n",
              "      <td>212.0</td>\n",
              "      <td>5200.0</td>\n",
              "    </tr>\n",
              "    <tr>\n",
              "      <th>343</th>\n",
              "      <td>Gentoo penguin (Pygoscelis papua)</td>\n",
              "      <td>Adult, 1 Egg Stage</td>\n",
              "      <td>Yes</td>\n",
              "      <td>49.9</td>\n",
              "      <td>16.1</td>\n",
              "      <td>213.0</td>\n",
              "      <td>5400.0</td>\n",
              "      <td>MALE</td>\n",
              "      <td>344</td>\n",
              "      <td>Anvers</td>\n",
              "      <td>Biscoe</td>\n",
              "      <td>49.9</td>\n",
              "      <td>16.1</td>\n",
              "      <td>213.0</td>\n",
              "      <td>5400.0</td>\n",
              "    </tr>\n",
              "  </tbody>\n",
              "</table>\n",
              "<p>164 rows × 15 columns</p>\n",
              "</div>"
            ],
            "text/plain": [
              "                                 Species               Stage Clutch_comp  \\\n",
              "20   Adelie Penguin (Pygoscelis adeliae)  Adult, 1 Egg Stage         Yes   \n",
              "21   Adelie Penguin (Pygoscelis adeliae)  Adult, 1 Egg Stage         Yes   \n",
              "22   Adelie Penguin (Pygoscelis adeliae)  Adult, 1 Egg Stage         Yes   \n",
              "23   Adelie Penguin (Pygoscelis adeliae)  Adult, 1 Egg Stage         Yes   \n",
              "24   Adelie Penguin (Pygoscelis adeliae)  Adult, 1 Egg Stage         Yes   \n",
              "..                                   ...                 ...         ...   \n",
              "338    Gentoo penguin (Pygoscelis papua)  Adult, 1 Egg Stage          No   \n",
              "340    Gentoo penguin (Pygoscelis papua)  Adult, 1 Egg Stage         Yes   \n",
              "341    Gentoo penguin (Pygoscelis papua)  Adult, 1 Egg Stage         Yes   \n",
              "342    Gentoo penguin (Pygoscelis papua)  Adult, 1 Egg Stage         Yes   \n",
              "343    Gentoo penguin (Pygoscelis papua)  Adult, 1 Egg Stage         Yes   \n",
              "\n",
              "     Culmen_lenght_mm  Culmen_depth_mm  Flipper_length_mm  Body_mass_g  \\\n",
              "20               37.8             18.3              174.0       3400.0   \n",
              "21               37.7             18.7              180.0       3600.0   \n",
              "22               35.9             19.2              189.0       3800.0   \n",
              "23               38.2             18.1              185.0       3950.0   \n",
              "24               38.8             17.2              180.0       3800.0   \n",
              "..                ...              ...                ...          ...   \n",
              "338              47.2             13.7              214.0       4925.0   \n",
              "340              46.8             14.3              215.0       4850.0   \n",
              "341              50.4             15.7              222.0       5750.0   \n",
              "342              45.2             14.8              212.0       5200.0   \n",
              "343              49.9             16.1              213.0       5400.0   \n",
              "\n",
              "        Sex  sample_id  Region  Island  Culmen_lenght_mm_v1  \\\n",
              "20   FEMALE         21  Anvers  Biscoe                 37.8   \n",
              "21     MALE         22  Anvers  Biscoe                 37.7   \n",
              "22   FEMALE         23  Anvers  Biscoe                 35.9   \n",
              "23     MALE         24  Anvers  Biscoe                 38.2   \n",
              "24     MALE         25  Anvers  Biscoe                 38.8   \n",
              "..      ...        ...     ...     ...                  ...   \n",
              "338  FEMALE        339  Anvers  Biscoe                 47.2   \n",
              "340  FEMALE        341  Anvers  Biscoe                 46.8   \n",
              "341    MALE        342  Anvers  Biscoe                 50.4   \n",
              "342  FEMALE        343  Anvers  Biscoe                 45.2   \n",
              "343    MALE        344  Anvers  Biscoe                 49.9   \n",
              "\n",
              "     Culmen_depth_mm_v1  Flipper_length_mm_v1  Body_mass_g_v1  \n",
              "20                 18.3                 174.0          3400.0  \n",
              "21                 18.7                 180.0          3600.0  \n",
              "22                 19.2                 189.0          3800.0  \n",
              "23                 18.1                 185.0          3950.0  \n",
              "24                 17.2                 180.0          3800.0  \n",
              "..                  ...                   ...             ...  \n",
              "338                13.7                 214.0          4925.0  \n",
              "340                14.3                 215.0          4850.0  \n",
              "341                15.7                 222.0          5750.0  \n",
              "342                14.8                 212.0          5200.0  \n",
              "343                16.1                 213.0          5400.0  \n",
              "\n",
              "[164 rows x 15 columns]"
            ]
          },
          "execution_count": 104,
          "metadata": {},
          "output_type": "execute_result"
        }
      ],
      "source": [
        "penguin_dataset1.loc[penguin_dataset1['Island'] == 'Biscoe']"
      ]
    },
    {
      "cell_type": "code",
      "execution_count": null,
      "metadata": {
        "id": "ZpPf4wjbHpnW",
        "outputId": "643d6fa2-fd1c-4d75-ff99-fed7a073ba51",
        "tags": []
      },
      "outputs": [
        {
          "data": {
            "text/html": [
              "<div>\n",
              "<style scoped>\n",
              "    .dataframe tbody tr th:only-of-type {\n",
              "        vertical-align: middle;\n",
              "    }\n",
              "\n",
              "    .dataframe tbody tr th {\n",
              "        vertical-align: top;\n",
              "    }\n",
              "\n",
              "    .dataframe thead th {\n",
              "        text-align: right;\n",
              "    }\n",
              "</style>\n",
              "<table border=\"1\" class=\"dataframe\">\n",
              "  <thead>\n",
              "    <tr style=\"text-align: right;\">\n",
              "      <th></th>\n",
              "      <th>Species</th>\n",
              "      <th>Stage</th>\n",
              "      <th>Clutch_comp</th>\n",
              "      <th>Sex</th>\n",
              "      <th>sample_id</th>\n",
              "      <th>Region</th>\n",
              "      <th>Island</th>\n",
              "      <th>Culmen_lenght_mm_v1</th>\n",
              "      <th>Culmen_depth_mm_v1</th>\n",
              "      <th>Flipper_length_mm_v1</th>\n",
              "      <th>Body_mass_g_v1</th>\n",
              "    </tr>\n",
              "  </thead>\n",
              "  <tbody>\n",
              "    <tr>\n",
              "      <th>24</th>\n",
              "      <td>Adelie Penguin (Pygoscelis adeliae)</td>\n",
              "      <td>Adult, 1 Egg Stage</td>\n",
              "      <td>Yes</td>\n",
              "      <td>MALE</td>\n",
              "      <td>25</td>\n",
              "      <td>Anvers</td>\n",
              "      <td>Biscoe</td>\n",
              "      <td>38.8</td>\n",
              "      <td>17.2</td>\n",
              "      <td>180.0</td>\n",
              "      <td>3800.0</td>\n",
              "    </tr>\n",
              "    <tr>\n",
              "      <th>36</th>\n",
              "      <td>Adelie Penguin (Pygoscelis adeliae)</td>\n",
              "      <td>Adult, 1 Egg Stage</td>\n",
              "      <td>Yes</td>\n",
              "      <td>MALE</td>\n",
              "      <td>37</td>\n",
              "      <td>Anvers</td>\n",
              "      <td>Dream</td>\n",
              "      <td>38.8</td>\n",
              "      <td>20.0</td>\n",
              "      <td>190.0</td>\n",
              "      <td>3950.0</td>\n",
              "    </tr>\n",
              "    <tr>\n",
              "      <th>126</th>\n",
              "      <td>Adelie Penguin (Pygoscelis adeliae)</td>\n",
              "      <td>Adult, 1 Egg Stage</td>\n",
              "      <td>Yes</td>\n",
              "      <td>FEMALE</td>\n",
              "      <td>127</td>\n",
              "      <td>Anvers</td>\n",
              "      <td>Torgersen</td>\n",
              "      <td>38.8</td>\n",
              "      <td>17.6</td>\n",
              "      <td>191.0</td>\n",
              "      <td>3275.0</td>\n",
              "    </tr>\n",
              "  </tbody>\n",
              "</table>\n",
              "</div>"
            ],
            "text/plain": [
              "                                 Species               Stage Clutch_comp  \\\n",
              "24   Adelie Penguin (Pygoscelis adeliae)  Adult, 1 Egg Stage         Yes   \n",
              "36   Adelie Penguin (Pygoscelis adeliae)  Adult, 1 Egg Stage         Yes   \n",
              "126  Adelie Penguin (Pygoscelis adeliae)  Adult, 1 Egg Stage         Yes   \n",
              "\n",
              "        Sex  sample_id  Region     Island  Culmen_lenght_mm_v1  \\\n",
              "24     MALE         25  Anvers     Biscoe                 38.8   \n",
              "36     MALE         37  Anvers      Dream                 38.8   \n",
              "126  FEMALE        127  Anvers  Torgersen                 38.8   \n",
              "\n",
              "     Culmen_depth_mm_v1  Flipper_length_mm_v1  Body_mass_g_v1  \n",
              "24                 17.2                 180.0          3800.0  \n",
              "36                 20.0                 190.0          3950.0  \n",
              "126                17.6                 191.0          3275.0  "
            ]
          },
          "execution_count": 106,
          "metadata": {},
          "output_type": "execute_result"
        }
      ],
      "source": [
        "penguin_dataset[penguin_dataset1['Culmen_lenght_mm_v1'] == 38.8]"
      ]
    },
    {
      "cell_type": "code",
      "execution_count": null,
      "metadata": {
        "id": "VbN6bXhCHpnX",
        "tags": []
      },
      "outputs": [],
      "source": [
        "# Veri Sıralama:"
      ]
    },
    {
      "cell_type": "code",
      "execution_count": null,
      "metadata": {
        "id": "wCUk60ZwHpnX",
        "outputId": "7a77c9a6-5c94-4107-eb80-aa6b9b71f904",
        "tags": []
      },
      "outputs": [
        {
          "data": {
            "text/plain": [
              "0    2700.0\n",
              "1    2850.0\n",
              "2    2850.0\n",
              "3    2900.0\n",
              "4    2900.0\n",
              "5    2900.0\n",
              "6    2900.0\n",
              "7    2925.0\n",
              "8    3000.0\n",
              "9    3000.0\n",
              "Name: Body_mass_g_v1, dtype: float64"
            ]
          },
          "execution_count": 108,
          "metadata": {},
          "output_type": "execute_result"
        }
      ],
      "source": [
        "sorted_mass1 = penguin_dataset1['Body_mass_g_v1'].sort_values().reset_index(drop=True)\n",
        "\n",
        "sorted_mass1.head(10)"
      ]
    },
    {
      "cell_type": "code",
      "execution_count": null,
      "metadata": {
        "id": "58Go4GMHHpnX",
        "outputId": "b9bd04d0-04d6-4d2a-8612-67a41f477eea",
        "tags": []
      },
      "outputs": [
        {
          "data": {
            "text/html": [
              "<div>\n",
              "<style scoped>\n",
              "    .dataframe tbody tr th:only-of-type {\n",
              "        vertical-align: middle;\n",
              "    }\n",
              "\n",
              "    .dataframe tbody tr th {\n",
              "        vertical-align: top;\n",
              "    }\n",
              "\n",
              "    .dataframe thead th {\n",
              "        text-align: right;\n",
              "    }\n",
              "</style>\n",
              "<table border=\"1\" class=\"dataframe\">\n",
              "  <thead>\n",
              "    <tr style=\"text-align: right;\">\n",
              "      <th></th>\n",
              "      <th>Species</th>\n",
              "      <th>Stage</th>\n",
              "      <th>Clutch_comp</th>\n",
              "      <th>Sex</th>\n",
              "      <th>sample_id</th>\n",
              "      <th>Region</th>\n",
              "      <th>Island</th>\n",
              "      <th>Culmen_lenght_mm_v1</th>\n",
              "      <th>Culmen_depth_mm_v1</th>\n",
              "      <th>Flipper_length_mm_v1</th>\n",
              "      <th>Body_mass_g_v1</th>\n",
              "    </tr>\n",
              "  </thead>\n",
              "  <tbody>\n",
              "    <tr>\n",
              "      <th>331</th>\n",
              "      <td>Gentoo penguin (Pygoscelis papua)</td>\n",
              "      <td>Adult, 1 Egg Stage</td>\n",
              "      <td>Yes</td>\n",
              "      <td>MALE</td>\n",
              "      <td>332</td>\n",
              "      <td>Anvers</td>\n",
              "      <td>Biscoe</td>\n",
              "      <td>49.8</td>\n",
              "      <td>15.9</td>\n",
              "      <td>229.0</td>\n",
              "      <td>5950.0</td>\n",
              "    </tr>\n",
              "    <tr>\n",
              "      <th>337</th>\n",
              "      <td>Gentoo penguin (Pygoscelis papua)</td>\n",
              "      <td>Adult, 1 Egg Stage</td>\n",
              "      <td>Yes</td>\n",
              "      <td>MALE</td>\n",
              "      <td>338</td>\n",
              "      <td>Anvers</td>\n",
              "      <td>Biscoe</td>\n",
              "      <td>48.8</td>\n",
              "      <td>16.2</td>\n",
              "      <td>222.0</td>\n",
              "      <td>6000.0</td>\n",
              "    </tr>\n",
              "    <tr>\n",
              "      <th>297</th>\n",
              "      <td>Gentoo penguin (Pygoscelis papua)</td>\n",
              "      <td>Adult, 1 Egg Stage</td>\n",
              "      <td>Yes</td>\n",
              "      <td>MALE</td>\n",
              "      <td>298</td>\n",
              "      <td>Anvers</td>\n",
              "      <td>Biscoe</td>\n",
              "      <td>51.1</td>\n",
              "      <td>16.3</td>\n",
              "      <td>220.0</td>\n",
              "      <td>6000.0</td>\n",
              "    </tr>\n",
              "    <tr>\n",
              "      <th>253</th>\n",
              "      <td>Gentoo penguin (Pygoscelis papua)</td>\n",
              "      <td>Adult, 1 Egg Stage</td>\n",
              "      <td>Yes</td>\n",
              "      <td>MALE</td>\n",
              "      <td>254</td>\n",
              "      <td>Anvers</td>\n",
              "      <td>Biscoe</td>\n",
              "      <td>59.6</td>\n",
              "      <td>17.0</td>\n",
              "      <td>230.0</td>\n",
              "      <td>6050.0</td>\n",
              "    </tr>\n",
              "    <tr>\n",
              "      <th>237</th>\n",
              "      <td>Gentoo penguin (Pygoscelis papua)</td>\n",
              "      <td>Adult, 1 Egg Stage</td>\n",
              "      <td>Yes</td>\n",
              "      <td>MALE</td>\n",
              "      <td>238</td>\n",
              "      <td>Anvers</td>\n",
              "      <td>Biscoe</td>\n",
              "      <td>49.2</td>\n",
              "      <td>15.2</td>\n",
              "      <td>221.0</td>\n",
              "      <td>6300.0</td>\n",
              "    </tr>\n",
              "  </tbody>\n",
              "</table>\n",
              "</div>"
            ],
            "text/plain": [
              "                               Species               Stage Clutch_comp   Sex  \\\n",
              "331  Gentoo penguin (Pygoscelis papua)  Adult, 1 Egg Stage         Yes  MALE   \n",
              "337  Gentoo penguin (Pygoscelis papua)  Adult, 1 Egg Stage         Yes  MALE   \n",
              "297  Gentoo penguin (Pygoscelis papua)  Adult, 1 Egg Stage         Yes  MALE   \n",
              "253  Gentoo penguin (Pygoscelis papua)  Adult, 1 Egg Stage         Yes  MALE   \n",
              "237  Gentoo penguin (Pygoscelis papua)  Adult, 1 Egg Stage         Yes  MALE   \n",
              "\n",
              "     sample_id  Region  Island  Culmen_lenght_mm_v1  Culmen_depth_mm_v1  \\\n",
              "331        332  Anvers  Biscoe                 49.8                15.9   \n",
              "337        338  Anvers  Biscoe                 48.8                16.2   \n",
              "297        298  Anvers  Biscoe                 51.1                16.3   \n",
              "253        254  Anvers  Biscoe                 59.6                17.0   \n",
              "237        238  Anvers  Biscoe                 49.2                15.2   \n",
              "\n",
              "     Flipper_length_mm_v1  Body_mass_g_v1  \n",
              "331                 229.0          5950.0  \n",
              "337                 222.0          6000.0  \n",
              "297                 220.0          6000.0  \n",
              "253                 230.0          6050.0  \n",
              "237                 221.0          6300.0  "
            ]
          },
          "execution_count": 109,
          "metadata": {},
          "output_type": "execute_result"
        }
      ],
      "source": [
        "sorted_mass2 = penguin_dataset.sort_values('Body_mass_g_v1')\n",
        "\n",
        "sorted_mass2.tail()"
      ]
    },
    {
      "cell_type": "markdown",
      "metadata": {
        "id": "L6p2USNYHpnY",
        "tags": []
      },
      "source": [
        "### Veri Gruplama:"
      ]
    },
    {
      "cell_type": "code",
      "execution_count": null,
      "metadata": {
        "id": "yzPI-cwfHpnY",
        "outputId": "a4a042e2-e22b-4e29-95ff-020bc45d8c74",
        "tags": []
      },
      "outputs": [
        {
          "data": {
            "text/plain": [
              "Species\n",
              "Adelie Penguin (Pygoscelis adeliae)          3706.164384\n",
              "Chinstrap penguin (Pygoscelis antarctica)    3733.088235\n",
              "Gentoo penguin (Pygoscelis papua)            5090.625000\n",
              "Name: Body_mass_g_v1, dtype: float64"
            ]
          },
          "execution_count": 110,
          "metadata": {},
          "output_type": "execute_result"
        }
      ],
      "source": [
        "penguin_dataset.groupby('Species')['Body_mass_g_v1'].mean()"
      ]
    },
    {
      "cell_type": "code",
      "execution_count": null,
      "metadata": {
        "id": "RgbJb3oYHpnY",
        "outputId": "9347441b-026f-4634-ca47-07e475b43029",
        "tags": []
      },
      "outputs": [
        {
          "data": {
            "text/html": [
              "<div>\n",
              "<style scoped>\n",
              "    .dataframe tbody tr th:only-of-type {\n",
              "        vertical-align: middle;\n",
              "    }\n",
              "\n",
              "    .dataframe tbody tr th {\n",
              "        vertical-align: top;\n",
              "    }\n",
              "\n",
              "    .dataframe thead th {\n",
              "        text-align: right;\n",
              "    }\n",
              "</style>\n",
              "<table border=\"1\" class=\"dataframe\">\n",
              "  <thead>\n",
              "    <tr style=\"text-align: right;\">\n",
              "      <th></th>\n",
              "      <th>Species</th>\n",
              "      <th>Stage</th>\n",
              "      <th>Clutch_comp</th>\n",
              "      <th>Sex</th>\n",
              "      <th>sample_id</th>\n",
              "      <th>Region</th>\n",
              "      <th>Island</th>\n",
              "      <th>Culmen_lenght_mm_v1</th>\n",
              "      <th>Culmen_depth_mm_v1</th>\n",
              "      <th>Flipper_length_mm_v1</th>\n",
              "      <th>Body_mass_g_v1</th>\n",
              "    </tr>\n",
              "  </thead>\n",
              "  <tbody>\n",
              "    <tr>\n",
              "      <th>0</th>\n",
              "      <td>Adelie Penguin (Pygoscelis adeliae)</td>\n",
              "      <td>146</td>\n",
              "      <td>146</td>\n",
              "      <td>146</td>\n",
              "      <td>146</td>\n",
              "      <td>146</td>\n",
              "      <td>146</td>\n",
              "      <td>146</td>\n",
              "      <td>146</td>\n",
              "      <td>146</td>\n",
              "      <td>146</td>\n",
              "    </tr>\n",
              "    <tr>\n",
              "      <th>1</th>\n",
              "      <td>Chinstrap penguin (Pygoscelis antarctica)</td>\n",
              "      <td>68</td>\n",
              "      <td>68</td>\n",
              "      <td>68</td>\n",
              "      <td>68</td>\n",
              "      <td>68</td>\n",
              "      <td>68</td>\n",
              "      <td>68</td>\n",
              "      <td>68</td>\n",
              "      <td>68</td>\n",
              "      <td>68</td>\n",
              "    </tr>\n",
              "    <tr>\n",
              "      <th>2</th>\n",
              "      <td>Gentoo penguin (Pygoscelis papua)</td>\n",
              "      <td>120</td>\n",
              "      <td>120</td>\n",
              "      <td>120</td>\n",
              "      <td>120</td>\n",
              "      <td>120</td>\n",
              "      <td>120</td>\n",
              "      <td>120</td>\n",
              "      <td>120</td>\n",
              "      <td>120</td>\n",
              "      <td>120</td>\n",
              "    </tr>\n",
              "  </tbody>\n",
              "</table>\n",
              "</div>"
            ],
            "text/plain": [
              "                                     Species  Stage  Clutch_comp  Sex  \\\n",
              "0        Adelie Penguin (Pygoscelis adeliae)    146          146  146   \n",
              "1  Chinstrap penguin (Pygoscelis antarctica)     68           68   68   \n",
              "2          Gentoo penguin (Pygoscelis papua)    120          120  120   \n",
              "\n",
              "   sample_id  Region  Island  Culmen_lenght_mm_v1  Culmen_depth_mm_v1  \\\n",
              "0        146     146     146                  146                 146   \n",
              "1         68      68      68                   68                  68   \n",
              "2        120     120     120                  120                 120   \n",
              "\n",
              "   Flipper_length_mm_v1  Body_mass_g_v1  \n",
              "0                   146             146  \n",
              "1                    68              68  \n",
              "2                   120             120  "
            ]
          },
          "execution_count": 111,
          "metadata": {},
          "output_type": "execute_result"
        }
      ],
      "source": [
        "Species_group = penguin_dataset.groupby('Species', as_index=False).count()\n",
        "Species_group"
      ]
    },
    {
      "cell_type": "code",
      "execution_count": null,
      "metadata": {
        "id": "lJiJARPnHpnY",
        "outputId": "301658c3-71d4-4f65-ba0a-3d0836650bd1",
        "tags": []
      },
      "outputs": [
        {
          "data": {
            "text/html": [
              "<div>\n",
              "<style scoped>\n",
              "    .dataframe tbody tr th:only-of-type {\n",
              "        vertical-align: middle;\n",
              "    }\n",
              "\n",
              "    .dataframe tbody tr th {\n",
              "        vertical-align: top;\n",
              "    }\n",
              "\n",
              "    .dataframe thead th {\n",
              "        text-align: right;\n",
              "    }\n",
              "</style>\n",
              "<table border=\"1\" class=\"dataframe\">\n",
              "  <thead>\n",
              "    <tr style=\"text-align: right;\">\n",
              "      <th></th>\n",
              "      <th>Species</th>\n",
              "      <th>count</th>\n",
              "    </tr>\n",
              "  </thead>\n",
              "  <tbody>\n",
              "    <tr>\n",
              "      <th>0</th>\n",
              "      <td>Adelie Penguin (Pygoscelis adeliae)</td>\n",
              "      <td>146</td>\n",
              "    </tr>\n",
              "    <tr>\n",
              "      <th>1</th>\n",
              "      <td>Chinstrap penguin (Pygoscelis antarctica)</td>\n",
              "      <td>68</td>\n",
              "    </tr>\n",
              "    <tr>\n",
              "      <th>2</th>\n",
              "      <td>Gentoo penguin (Pygoscelis papua)</td>\n",
              "      <td>120</td>\n",
              "    </tr>\n",
              "  </tbody>\n",
              "</table>\n",
              "</div>"
            ],
            "text/plain": [
              "                                     Species  count\n",
              "0        Adelie Penguin (Pygoscelis adeliae)    146\n",
              "1  Chinstrap penguin (Pygoscelis antarctica)     68\n",
              "2          Gentoo penguin (Pygoscelis papua)    120"
            ]
          },
          "execution_count": 112,
          "metadata": {},
          "output_type": "execute_result"
        }
      ],
      "source": [
        "Species_group=penguin_dataset.groupby(['Species'])['Species'].count().reset_index(name='count')\n",
        "#pd.set_option('display.max_rows', 100)\n",
        "Species_group"
      ]
    },
    {
      "cell_type": "code",
      "execution_count": null,
      "metadata": {
        "id": "4f35LXP8HpnZ",
        "outputId": "e0b58912-9c27-40ff-b8d7-dc0910c56021",
        "tags": []
      },
      "outputs": [
        {
          "data": {
            "text/html": [
              "<div>\n",
              "<style scoped>\n",
              "    .dataframe tbody tr th:only-of-type {\n",
              "        vertical-align: middle;\n",
              "    }\n",
              "\n",
              "    .dataframe tbody tr th {\n",
              "        vertical-align: top;\n",
              "    }\n",
              "\n",
              "    .dataframe thead th {\n",
              "        text-align: right;\n",
              "    }\n",
              "</style>\n",
              "<table border=\"1\" class=\"dataframe\">\n",
              "  <thead>\n",
              "    <tr style=\"text-align: right;\">\n",
              "      <th></th>\n",
              "      <th>Species</th>\n",
              "      <th>Island</th>\n",
              "      <th>count</th>\n",
              "    </tr>\n",
              "  </thead>\n",
              "  <tbody>\n",
              "    <tr>\n",
              "      <th>0</th>\n",
              "      <td>Adelie Penguin (Pygoscelis adeliae)</td>\n",
              "      <td>Biscoe</td>\n",
              "      <td>44</td>\n",
              "    </tr>\n",
              "    <tr>\n",
              "      <th>1</th>\n",
              "      <td>Adelie Penguin (Pygoscelis adeliae)</td>\n",
              "      <td>Dream</td>\n",
              "      <td>55</td>\n",
              "    </tr>\n",
              "    <tr>\n",
              "      <th>2</th>\n",
              "      <td>Adelie Penguin (Pygoscelis adeliae)</td>\n",
              "      <td>Torgersen</td>\n",
              "      <td>47</td>\n",
              "    </tr>\n",
              "    <tr>\n",
              "      <th>3</th>\n",
              "      <td>Chinstrap penguin (Pygoscelis antarctica)</td>\n",
              "      <td>Dream</td>\n",
              "      <td>68</td>\n",
              "    </tr>\n",
              "    <tr>\n",
              "      <th>4</th>\n",
              "      <td>Gentoo penguin (Pygoscelis papua)</td>\n",
              "      <td>Biscoe</td>\n",
              "      <td>120</td>\n",
              "    </tr>\n",
              "  </tbody>\n",
              "</table>\n",
              "</div>"
            ],
            "text/plain": [
              "                                     Species     Island  count\n",
              "0        Adelie Penguin (Pygoscelis adeliae)     Biscoe     44\n",
              "1        Adelie Penguin (Pygoscelis adeliae)      Dream     55\n",
              "2        Adelie Penguin (Pygoscelis adeliae)  Torgersen     47\n",
              "3  Chinstrap penguin (Pygoscelis antarctica)      Dream     68\n",
              "4          Gentoo penguin (Pygoscelis papua)     Biscoe    120"
            ]
          },
          "execution_count": 113,
          "metadata": {},
          "output_type": "execute_result"
        }
      ],
      "source": [
        "multi_group= penguin_dataset.groupby(['Species', 'Island'])['Species'].count().reset_index(name='count')\n",
        "multi_group"
      ]
    },
    {
      "cell_type": "code",
      "execution_count": null,
      "metadata": {
        "id": "KAgD_h10HpnZ",
        "tags": []
      },
      "outputs": [],
      "source": [
        "# verisetinin detaylarını inceleme:"
      ]
    },
    {
      "cell_type": "code",
      "execution_count": null,
      "metadata": {
        "id": "sjZsmRVtHpnZ",
        "outputId": "f97ec515-14f7-4242-c3e8-66891bef4c20",
        "tags": []
      },
      "outputs": [
        {
          "data": {
            "text/plain": [
              "32.1"
            ]
          },
          "execution_count": 115,
          "metadata": {},
          "output_type": "execute_result"
        }
      ],
      "source": [
        "penguin_dataset['Culmen_lenght_mm_v1'].min()"
      ]
    },
    {
      "cell_type": "code",
      "execution_count": null,
      "metadata": {
        "id": "DukyVaonHpnZ",
        "outputId": "c398e516-4139-450f-c09d-2566b497d4ca",
        "tags": []
      },
      "outputs": [
        {
          "data": {
            "text/plain": [
              "32.1"
            ]
          },
          "execution_count": 116,
          "metadata": {},
          "output_type": "execute_result"
        }
      ],
      "source": [
        "min_culmen_length = penguin_dataset['Culmen_lenght_mm_v1'].min()\n",
        "\n",
        "min_culmen_length"
      ]
    },
    {
      "cell_type": "code",
      "execution_count": null,
      "metadata": {
        "id": "jPfU_ZRPHpnZ",
        "outputId": "ab0122e2-078b-49a6-9fb5-8db0d8958c2f",
        "tags": []
      },
      "outputs": [
        {
          "data": {
            "text/plain": [
              "59.6"
            ]
          },
          "execution_count": 117,
          "metadata": {},
          "output_type": "execute_result"
        }
      ],
      "source": [
        "max_culmen_length  = penguin_dataset['Culmen_lenght_mm_v1'].max()\n",
        "\n",
        "max_culmen_length"
      ]
    },
    {
      "cell_type": "code",
      "execution_count": null,
      "metadata": {
        "id": "OVQ-GP79HpnZ",
        "outputId": "d5499d03-b6d1-4fe4-f54f-7b867e1d2300",
        "tags": []
      },
      "outputs": [
        {
          "data": {
            "text/plain": [
              "27.5"
            ]
          },
          "execution_count": 118,
          "metadata": {},
          "output_type": "execute_result"
        }
      ],
      "source": [
        "range_of_culmen_length  = max_culmen_length - min_culmen_length\n",
        "\n",
        "range_of_culmen_length"
      ]
    },
    {
      "cell_type": "code",
      "execution_count": null,
      "metadata": {
        "id": "h9GWJpTpHpnZ",
        "outputId": "9a3c0e9b-e8ff-4c6c-f0e0-33055a047b6e",
        "tags": []
      },
      "outputs": [
        {
          "data": {
            "text/plain": [
              "39.5"
            ]
          },
          "execution_count": 119,
          "metadata": {},
          "output_type": "execute_result"
        }
      ],
      "source": [
        "q1_culmen_length = penguin_dataset['Culmen_lenght_mm_v1'].quantile(.25)\n",
        "\n",
        "q1_culmen_length"
      ]
    },
    {
      "cell_type": "code",
      "execution_count": null,
      "metadata": {
        "id": "RLttYUc_HpnZ",
        "outputId": "ad30b7f0-76c1-4b2b-a734-a74eea76769b",
        "tags": []
      },
      "outputs": [
        {
          "data": {
            "text/plain": [
              "48.575"
            ]
          },
          "execution_count": 120,
          "metadata": {},
          "output_type": "execute_result"
        }
      ],
      "source": [
        "q3_culmen_length = penguin_dataset['Culmen_lenght_mm_v1'].quantile(.75)\n",
        "\n",
        "q3_culmen_length"
      ]
    },
    {
      "cell_type": "code",
      "execution_count": null,
      "metadata": {
        "id": "2mdBXh_fHpna",
        "outputId": "a154b82c-bd4c-424b-bf03-15a00452b104",
        "tags": []
      },
      "outputs": [
        {
          "data": {
            "text/plain": [
              "43.99431137724551"
            ]
          },
          "execution_count": 121,
          "metadata": {},
          "output_type": "execute_result"
        }
      ],
      "source": [
        "Culmen_lenght_mean = penguin_dataset['Culmen_lenght_mm_v1'].mean()\n",
        "\n",
        "Culmen_lenght_mean"
      ]
    },
    {
      "cell_type": "code",
      "execution_count": null,
      "metadata": {
        "id": "lE5x6-lfHpna",
        "outputId": "000262db-6300-42d1-ccc7-464de8047375",
        "tags": []
      },
      "outputs": [
        {
          "data": {
            "text/plain": [
              "44.5"
            ]
          },
          "execution_count": 122,
          "metadata": {},
          "output_type": "execute_result"
        }
      ],
      "source": [
        "Culmen_lenght_median = penguin_dataset['Culmen_lenght_mm_v1'].median()\n",
        "\n",
        "Culmen_lenght_median"
      ]
    },
    {
      "cell_type": "code",
      "execution_count": null,
      "metadata": {
        "id": "Kf1EBaW0Hpna",
        "tags": []
      },
      "outputs": [],
      "source": [
        "#Summary Statistics"
      ]
    },
    {
      "cell_type": "code",
      "execution_count": null,
      "metadata": {
        "id": "NbT0VqmKHpna",
        "outputId": "c63a39fc-833d-46d5-fcb0-eccb0b1b0caf",
        "tags": []
      },
      "outputs": [
        {
          "data": {
            "text/html": [
              "<div>\n",
              "<style scoped>\n",
              "    .dataframe tbody tr th:only-of-type {\n",
              "        vertical-align: middle;\n",
              "    }\n",
              "\n",
              "    .dataframe tbody tr th {\n",
              "        vertical-align: top;\n",
              "    }\n",
              "\n",
              "    .dataframe thead th {\n",
              "        text-align: right;\n",
              "    }\n",
              "</style>\n",
              "<table border=\"1\" class=\"dataframe\">\n",
              "  <thead>\n",
              "    <tr style=\"text-align: right;\">\n",
              "      <th></th>\n",
              "      <th>sample_id</th>\n",
              "      <th>Culmen_lenght_mm_v1</th>\n",
              "      <th>Culmen_depth_mm_v1</th>\n",
              "      <th>Flipper_length_mm_v1</th>\n",
              "      <th>Body_mass_g_v1</th>\n",
              "    </tr>\n",
              "  </thead>\n",
              "  <tbody>\n",
              "    <tr>\n",
              "      <th>count</th>\n",
              "      <td>334.000000</td>\n",
              "      <td>334.000000</td>\n",
              "      <td>334.000000</td>\n",
              "      <td>334.000000</td>\n",
              "      <td>334.000000</td>\n",
              "    </tr>\n",
              "    <tr>\n",
              "      <th>mean</th>\n",
              "      <td>173.793413</td>\n",
              "      <td>43.994311</td>\n",
              "      <td>17.160479</td>\n",
              "      <td>201.014970</td>\n",
              "      <td>4209.056886</td>\n",
              "    </tr>\n",
              "    <tr>\n",
              "      <th>std</th>\n",
              "      <td>97.612101</td>\n",
              "      <td>5.460521</td>\n",
              "      <td>1.967909</td>\n",
              "      <td>14.022175</td>\n",
              "      <td>804.836129</td>\n",
              "    </tr>\n",
              "    <tr>\n",
              "      <th>min</th>\n",
              "      <td>1.000000</td>\n",
              "      <td>32.100000</td>\n",
              "      <td>13.100000</td>\n",
              "      <td>172.000000</td>\n",
              "      <td>2700.000000</td>\n",
              "    </tr>\n",
              "    <tr>\n",
              "      <th>25%</th>\n",
              "      <td>90.250000</td>\n",
              "      <td>39.500000</td>\n",
              "      <td>15.600000</td>\n",
              "      <td>190.000000</td>\n",
              "      <td>3550.000000</td>\n",
              "    </tr>\n",
              "    <tr>\n",
              "      <th>50%</th>\n",
              "      <td>173.500000</td>\n",
              "      <td>44.500000</td>\n",
              "      <td>17.300000</td>\n",
              "      <td>197.000000</td>\n",
              "      <td>4050.000000</td>\n",
              "    </tr>\n",
              "    <tr>\n",
              "      <th>75%</th>\n",
              "      <td>257.750000</td>\n",
              "      <td>48.575000</td>\n",
              "      <td>18.700000</td>\n",
              "      <td>213.000000</td>\n",
              "      <td>4793.750000</td>\n",
              "    </tr>\n",
              "    <tr>\n",
              "      <th>max</th>\n",
              "      <td>344.000000</td>\n",
              "      <td>59.600000</td>\n",
              "      <td>21.500000</td>\n",
              "      <td>231.000000</td>\n",
              "      <td>6300.000000</td>\n",
              "    </tr>\n",
              "  </tbody>\n",
              "</table>\n",
              "</div>"
            ],
            "text/plain": [
              "        sample_id  Culmen_lenght_mm_v1  Culmen_depth_mm_v1  \\\n",
              "count  334.000000           334.000000          334.000000   \n",
              "mean   173.793413            43.994311           17.160479   \n",
              "std     97.612101             5.460521            1.967909   \n",
              "min      1.000000            32.100000           13.100000   \n",
              "25%     90.250000            39.500000           15.600000   \n",
              "50%    173.500000            44.500000           17.300000   \n",
              "75%    257.750000            48.575000           18.700000   \n",
              "max    344.000000            59.600000           21.500000   \n",
              "\n",
              "       Flipper_length_mm_v1  Body_mass_g_v1  \n",
              "count            334.000000      334.000000  \n",
              "mean             201.014970     4209.056886  \n",
              "std               14.022175      804.836129  \n",
              "min              172.000000     2700.000000  \n",
              "25%              190.000000     3550.000000  \n",
              "50%              197.000000     4050.000000  \n",
              "75%              213.000000     4793.750000  \n",
              "max              231.000000     6300.000000  "
            ]
          },
          "execution_count": 124,
          "metadata": {},
          "output_type": "execute_result"
        }
      ],
      "source": [
        "penguin_dataset.describe()"
      ]
    },
    {
      "cell_type": "code",
      "source": [
        "## aggregetion"
      ],
      "metadata": {
        "id": "cMr2M6Kgwyfe"
      },
      "execution_count": null,
      "outputs": []
    },
    {
      "cell_type": "code",
      "source": [],
      "metadata": {
        "id": "cD-MMj5owywl"
      },
      "execution_count": null,
      "outputs": []
    },
    {
      "cell_type": "markdown",
      "metadata": {
        "id": "XkdBOhKjHpna",
        "tags": []
      },
      "source": [
        "### Değişken İçeriği Değiştirme:"
      ]
    },
    {
      "cell_type": "code",
      "execution_count": null,
      "metadata": {
        "id": "AsrctWY1Hpna",
        "tags": []
      },
      "outputs": [],
      "source": [
        "penguin_dataset['Clutch_comp']=penguin_dataset['Clutch_comp'].str.replace('Yes', 'Y')"
      ]
    },
    {
      "cell_type": "code",
      "execution_count": null,
      "metadata": {
        "id": "qRaxTUHHHpna",
        "tags": []
      },
      "outputs": [],
      "source": [
        "penguin_dataset['Clutch_comp']=penguin_dataset['Clutch_comp'].str.replace('No', 'N')"
      ]
    },
    {
      "cell_type": "code",
      "execution_count": null,
      "metadata": {
        "id": "lufsqjWUHpnb",
        "outputId": "1093142b-9572-4643-e181-ce4c44160553",
        "tags": []
      },
      "outputs": [
        {
          "data": {
            "text/html": [
              "<div>\n",
              "<style scoped>\n",
              "    .dataframe tbody tr th:only-of-type {\n",
              "        vertical-align: middle;\n",
              "    }\n",
              "\n",
              "    .dataframe tbody tr th {\n",
              "        vertical-align: top;\n",
              "    }\n",
              "\n",
              "    .dataframe thead th {\n",
              "        text-align: right;\n",
              "    }\n",
              "</style>\n",
              "<table border=\"1\" class=\"dataframe\">\n",
              "  <thead>\n",
              "    <tr style=\"text-align: right;\">\n",
              "      <th></th>\n",
              "      <th>Clutch_comp</th>\n",
              "      <th>count</th>\n",
              "    </tr>\n",
              "  </thead>\n",
              "  <tbody>\n",
              "    <tr>\n",
              "      <th>0</th>\n",
              "      <td>N</td>\n",
              "      <td>35</td>\n",
              "    </tr>\n",
              "    <tr>\n",
              "      <th>1</th>\n",
              "      <td>Y</td>\n",
              "      <td>299</td>\n",
              "    </tr>\n",
              "  </tbody>\n",
              "</table>\n",
              "</div>"
            ],
            "text/plain": [
              "  Clutch_comp  count\n",
              "0           N     35\n",
              "1           Y    299"
            ]
          },
          "execution_count": 127,
          "metadata": {},
          "output_type": "execute_result"
        }
      ],
      "source": [
        "Clutch_comp_group=penguin_dataset.groupby(['Clutch_comp'])['Clutch_comp'].count().reset_index(name='count')\n",
        "Clutch_comp_group"
      ]
    },
    {
      "cell_type": "code",
      "execution_count": null,
      "metadata": {
        "id": "9tpT_ouxHpnb",
        "outputId": "c87ac4a8-1fb6-418d-c5b7-f404e1fe8d31",
        "tags": []
      },
      "outputs": [
        {
          "data": {
            "text/html": [
              "<div>\n",
              "<style scoped>\n",
              "    .dataframe tbody tr th:only-of-type {\n",
              "        vertical-align: middle;\n",
              "    }\n",
              "\n",
              "    .dataframe tbody tr th {\n",
              "        vertical-align: top;\n",
              "    }\n",
              "\n",
              "    .dataframe thead th {\n",
              "        text-align: right;\n",
              "    }\n",
              "</style>\n",
              "<table border=\"1\" class=\"dataframe\">\n",
              "  <thead>\n",
              "    <tr style=\"text-align: right;\">\n",
              "      <th></th>\n",
              "      <th>Species</th>\n",
              "      <th>Stage</th>\n",
              "      <th>Clutch_comp</th>\n",
              "      <th>Sex</th>\n",
              "      <th>sample_id</th>\n",
              "      <th>Region</th>\n",
              "      <th>Island</th>\n",
              "      <th>Culmen_lenght_mm_v1</th>\n",
              "      <th>Culmen_depth_mm_v1</th>\n",
              "      <th>Flipper_length_mm_v1</th>\n",
              "      <th>Body_mass_g_v1</th>\n",
              "    </tr>\n",
              "  </thead>\n",
              "  <tbody>\n",
              "    <tr>\n",
              "      <th>0</th>\n",
              "      <td>Adelie Penguin (Pygoscelis adeliae)</td>\n",
              "      <td>Adult, 1 Egg Stage</td>\n",
              "      <td>Y</td>\n",
              "      <td>0.0</td>\n",
              "      <td>1</td>\n",
              "      <td>Anvers</td>\n",
              "      <td>Torgersen</td>\n",
              "      <td>39.1</td>\n",
              "      <td>18.7</td>\n",
              "      <td>181.0</td>\n",
              "      <td>3750.0</td>\n",
              "    </tr>\n",
              "    <tr>\n",
              "      <th>1</th>\n",
              "      <td>Adelie Penguin (Pygoscelis adeliae)</td>\n",
              "      <td>Adult, 1 Egg Stage</td>\n",
              "      <td>Y</td>\n",
              "      <td>1.0</td>\n",
              "      <td>2</td>\n",
              "      <td>Anvers</td>\n",
              "      <td>Torgersen</td>\n",
              "      <td>39.5</td>\n",
              "      <td>17.4</td>\n",
              "      <td>186.0</td>\n",
              "      <td>3800.0</td>\n",
              "    </tr>\n",
              "    <tr>\n",
              "      <th>2</th>\n",
              "      <td>Adelie Penguin (Pygoscelis adeliae)</td>\n",
              "      <td>Adult, 1 Egg Stage</td>\n",
              "      <td>Y</td>\n",
              "      <td>1.0</td>\n",
              "      <td>3</td>\n",
              "      <td>Anvers</td>\n",
              "      <td>Torgersen</td>\n",
              "      <td>40.3</td>\n",
              "      <td>18.0</td>\n",
              "      <td>195.0</td>\n",
              "      <td>3250.0</td>\n",
              "    </tr>\n",
              "    <tr>\n",
              "      <th>4</th>\n",
              "      <td>Adelie Penguin (Pygoscelis adeliae)</td>\n",
              "      <td>Adult, 1 Egg Stage</td>\n",
              "      <td>Y</td>\n",
              "      <td>1.0</td>\n",
              "      <td>5</td>\n",
              "      <td>Anvers</td>\n",
              "      <td>Torgersen</td>\n",
              "      <td>36.7</td>\n",
              "      <td>19.3</td>\n",
              "      <td>193.0</td>\n",
              "      <td>3450.0</td>\n",
              "    </tr>\n",
              "    <tr>\n",
              "      <th>5</th>\n",
              "      <td>Adelie Penguin (Pygoscelis adeliae)</td>\n",
              "      <td>Adult, 1 Egg Stage</td>\n",
              "      <td>Y</td>\n",
              "      <td>0.0</td>\n",
              "      <td>6</td>\n",
              "      <td>Anvers</td>\n",
              "      <td>Torgersen</td>\n",
              "      <td>39.3</td>\n",
              "      <td>20.6</td>\n",
              "      <td>190.0</td>\n",
              "      <td>3650.0</td>\n",
              "    </tr>\n",
              "    <tr>\n",
              "      <th>6</th>\n",
              "      <td>Adelie Penguin (Pygoscelis adeliae)</td>\n",
              "      <td>Adult, 1 Egg Stage</td>\n",
              "      <td>N</td>\n",
              "      <td>1.0</td>\n",
              "      <td>7</td>\n",
              "      <td>Anvers</td>\n",
              "      <td>Torgersen</td>\n",
              "      <td>38.9</td>\n",
              "      <td>17.8</td>\n",
              "      <td>181.0</td>\n",
              "      <td>3625.0</td>\n",
              "    </tr>\n",
              "    <tr>\n",
              "      <th>7</th>\n",
              "      <td>Adelie Penguin (Pygoscelis adeliae)</td>\n",
              "      <td>Adult, 1 Egg Stage</td>\n",
              "      <td>N</td>\n",
              "      <td>0.0</td>\n",
              "      <td>8</td>\n",
              "      <td>Anvers</td>\n",
              "      <td>Torgersen</td>\n",
              "      <td>39.2</td>\n",
              "      <td>19.6</td>\n",
              "      <td>195.0</td>\n",
              "      <td>4675.0</td>\n",
              "    </tr>\n",
              "    <tr>\n",
              "      <th>12</th>\n",
              "      <td>Adelie Penguin (Pygoscelis adeliae)</td>\n",
              "      <td>Adult, 1 Egg Stage</td>\n",
              "      <td>Y</td>\n",
              "      <td>1.0</td>\n",
              "      <td>13</td>\n",
              "      <td>Anvers</td>\n",
              "      <td>Torgersen</td>\n",
              "      <td>41.1</td>\n",
              "      <td>17.6</td>\n",
              "      <td>182.0</td>\n",
              "      <td>3200.0</td>\n",
              "    </tr>\n",
              "    <tr>\n",
              "      <th>13</th>\n",
              "      <td>Adelie Penguin (Pygoscelis adeliae)</td>\n",
              "      <td>Adult, 1 Egg Stage</td>\n",
              "      <td>Y</td>\n",
              "      <td>0.0</td>\n",
              "      <td>14</td>\n",
              "      <td>Anvers</td>\n",
              "      <td>Torgersen</td>\n",
              "      <td>38.6</td>\n",
              "      <td>21.2</td>\n",
              "      <td>191.0</td>\n",
              "      <td>3800.0</td>\n",
              "    </tr>\n",
              "    <tr>\n",
              "      <th>14</th>\n",
              "      <td>Adelie Penguin (Pygoscelis adeliae)</td>\n",
              "      <td>Adult, 1 Egg Stage</td>\n",
              "      <td>Y</td>\n",
              "      <td>0.0</td>\n",
              "      <td>15</td>\n",
              "      <td>Anvers</td>\n",
              "      <td>Torgersen</td>\n",
              "      <td>34.6</td>\n",
              "      <td>21.1</td>\n",
              "      <td>198.0</td>\n",
              "      <td>4400.0</td>\n",
              "    </tr>\n",
              "    <tr>\n",
              "      <th>15</th>\n",
              "      <td>Adelie Penguin (Pygoscelis adeliae)</td>\n",
              "      <td>Adult, 1 Egg Stage</td>\n",
              "      <td>Y</td>\n",
              "      <td>1.0</td>\n",
              "      <td>16</td>\n",
              "      <td>Anvers</td>\n",
              "      <td>Torgersen</td>\n",
              "      <td>36.6</td>\n",
              "      <td>17.8</td>\n",
              "      <td>185.0</td>\n",
              "      <td>3700.0</td>\n",
              "    </tr>\n",
              "    <tr>\n",
              "      <th>16</th>\n",
              "      <td>Adelie Penguin (Pygoscelis adeliae)</td>\n",
              "      <td>Adult, 1 Egg Stage</td>\n",
              "      <td>Y</td>\n",
              "      <td>1.0</td>\n",
              "      <td>17</td>\n",
              "      <td>Anvers</td>\n",
              "      <td>Torgersen</td>\n",
              "      <td>38.7</td>\n",
              "      <td>19.0</td>\n",
              "      <td>195.0</td>\n",
              "      <td>3450.0</td>\n",
              "    </tr>\n",
              "    <tr>\n",
              "      <th>17</th>\n",
              "      <td>Adelie Penguin (Pygoscelis adeliae)</td>\n",
              "      <td>Adult, 1 Egg Stage</td>\n",
              "      <td>Y</td>\n",
              "      <td>0.0</td>\n",
              "      <td>18</td>\n",
              "      <td>Anvers</td>\n",
              "      <td>Torgersen</td>\n",
              "      <td>42.5</td>\n",
              "      <td>20.7</td>\n",
              "      <td>197.0</td>\n",
              "      <td>4500.0</td>\n",
              "    </tr>\n",
              "    <tr>\n",
              "      <th>18</th>\n",
              "      <td>Adelie Penguin (Pygoscelis adeliae)</td>\n",
              "      <td>Adult, 1 Egg Stage</td>\n",
              "      <td>Y</td>\n",
              "      <td>1.0</td>\n",
              "      <td>19</td>\n",
              "      <td>Anvers</td>\n",
              "      <td>Torgersen</td>\n",
              "      <td>34.4</td>\n",
              "      <td>18.4</td>\n",
              "      <td>184.0</td>\n",
              "      <td>3325.0</td>\n",
              "    </tr>\n",
              "    <tr>\n",
              "      <th>19</th>\n",
              "      <td>Adelie Penguin (Pygoscelis adeliae)</td>\n",
              "      <td>Adult, 1 Egg Stage</td>\n",
              "      <td>Y</td>\n",
              "      <td>0.0</td>\n",
              "      <td>20</td>\n",
              "      <td>Anvers</td>\n",
              "      <td>Torgersen</td>\n",
              "      <td>46.0</td>\n",
              "      <td>21.5</td>\n",
              "      <td>194.0</td>\n",
              "      <td>4200.0</td>\n",
              "    </tr>\n",
              "  </tbody>\n",
              "</table>\n",
              "</div>"
            ],
            "text/plain": [
              "                                Species               Stage Clutch_comp  Sex  \\\n",
              "0   Adelie Penguin (Pygoscelis adeliae)  Adult, 1 Egg Stage           Y  0.0   \n",
              "1   Adelie Penguin (Pygoscelis adeliae)  Adult, 1 Egg Stage           Y  1.0   \n",
              "2   Adelie Penguin (Pygoscelis adeliae)  Adult, 1 Egg Stage           Y  1.0   \n",
              "4   Adelie Penguin (Pygoscelis adeliae)  Adult, 1 Egg Stage           Y  1.0   \n",
              "5   Adelie Penguin (Pygoscelis adeliae)  Adult, 1 Egg Stage           Y  0.0   \n",
              "6   Adelie Penguin (Pygoscelis adeliae)  Adult, 1 Egg Stage           N  1.0   \n",
              "7   Adelie Penguin (Pygoscelis adeliae)  Adult, 1 Egg Stage           N  0.0   \n",
              "12  Adelie Penguin (Pygoscelis adeliae)  Adult, 1 Egg Stage           Y  1.0   \n",
              "13  Adelie Penguin (Pygoscelis adeliae)  Adult, 1 Egg Stage           Y  0.0   \n",
              "14  Adelie Penguin (Pygoscelis adeliae)  Adult, 1 Egg Stage           Y  0.0   \n",
              "15  Adelie Penguin (Pygoscelis adeliae)  Adult, 1 Egg Stage           Y  1.0   \n",
              "16  Adelie Penguin (Pygoscelis adeliae)  Adult, 1 Egg Stage           Y  1.0   \n",
              "17  Adelie Penguin (Pygoscelis adeliae)  Adult, 1 Egg Stage           Y  0.0   \n",
              "18  Adelie Penguin (Pygoscelis adeliae)  Adult, 1 Egg Stage           Y  1.0   \n",
              "19  Adelie Penguin (Pygoscelis adeliae)  Adult, 1 Egg Stage           Y  0.0   \n",
              "\n",
              "    sample_id  Region     Island  Culmen_lenght_mm_v1  Culmen_depth_mm_v1  \\\n",
              "0           1  Anvers  Torgersen                 39.1                18.7   \n",
              "1           2  Anvers  Torgersen                 39.5                17.4   \n",
              "2           3  Anvers  Torgersen                 40.3                18.0   \n",
              "4           5  Anvers  Torgersen                 36.7                19.3   \n",
              "5           6  Anvers  Torgersen                 39.3                20.6   \n",
              "6           7  Anvers  Torgersen                 38.9                17.8   \n",
              "7           8  Anvers  Torgersen                 39.2                19.6   \n",
              "12         13  Anvers  Torgersen                 41.1                17.6   \n",
              "13         14  Anvers  Torgersen                 38.6                21.2   \n",
              "14         15  Anvers  Torgersen                 34.6                21.1   \n",
              "15         16  Anvers  Torgersen                 36.6                17.8   \n",
              "16         17  Anvers  Torgersen                 38.7                19.0   \n",
              "17         18  Anvers  Torgersen                 42.5                20.7   \n",
              "18         19  Anvers  Torgersen                 34.4                18.4   \n",
              "19         20  Anvers  Torgersen                 46.0                21.5   \n",
              "\n",
              "    Flipper_length_mm_v1  Body_mass_g_v1  \n",
              "0                  181.0          3750.0  \n",
              "1                  186.0          3800.0  \n",
              "2                  195.0          3250.0  \n",
              "4                  193.0          3450.0  \n",
              "5                  190.0          3650.0  \n",
              "6                  181.0          3625.0  \n",
              "7                  195.0          4675.0  \n",
              "12                 182.0          3200.0  \n",
              "13                 191.0          3800.0  \n",
              "14                 198.0          4400.0  \n",
              "15                 185.0          3700.0  \n",
              "16                 195.0          3450.0  \n",
              "17                 197.0          4500.0  \n",
              "18                 184.0          3325.0  \n",
              "19                 194.0          4200.0  "
            ]
          },
          "execution_count": 128,
          "metadata": {},
          "output_type": "execute_result"
        }
      ],
      "source": [
        "penguin_dataset['Sex'] = penguin_dataset['Sex'].map({'MALE': 0, 'FEMALE': 1})\n",
        "penguin_dataset.head(15)"
      ]
    },
    {
      "cell_type": "code",
      "execution_count": null,
      "metadata": {
        "id": "GhAlyJ4iHpnb",
        "outputId": "81d77be8-61e1-45c9-dfa9-260993edd23c",
        "tags": []
      },
      "outputs": [
        {
          "name": "stdout",
          "output_type": "stream",
          "text": [
            "<class 'pandas.core.frame.DataFrame'>\n",
            "Index: 334 entries, 0 to 343\n",
            "Data columns (total 11 columns):\n",
            " #   Column                Non-Null Count  Dtype  \n",
            "---  ------                --------------  -----  \n",
            " 0   Species               334 non-null    object \n",
            " 1   Stage                 334 non-null    object \n",
            " 2   Clutch_comp           334 non-null    object \n",
            " 3   Sex                   333 non-null    float64\n",
            " 4   sample_id             334 non-null    int64  \n",
            " 5   Region                334 non-null    object \n",
            " 6   Island                334 non-null    object \n",
            " 7   Culmen_lenght_mm_v1   334 non-null    float64\n",
            " 8   Culmen_depth_mm_v1    334 non-null    float64\n",
            " 9   Flipper_length_mm_v1  334 non-null    float64\n",
            " 10  Body_mass_g_v1        334 non-null    float64\n",
            "dtypes: float64(5), int64(1), object(5)\n",
            "memory usage: 39.4+ KB\n"
          ]
        }
      ],
      "source": [
        "penguin_dataset.info()"
      ]
    },
    {
      "cell_type": "markdown",
      "metadata": {
        "id": "uAQ7n_bWHpnb",
        "tags": []
      },
      "source": [
        "### Değişken Türü Değiştirme"
      ]
    },
    {
      "cell_type": "code",
      "execution_count": null,
      "metadata": {
        "id": "31kA2nHtHpnb",
        "tags": []
      },
      "outputs": [],
      "source": [
        "penguin_dataset['Sex'] = penguin_dataset.Sex.astype('str')"
      ]
    },
    {
      "cell_type": "code",
      "execution_count": null,
      "metadata": {
        "id": "bxrDOYHIHpnb",
        "outputId": "0dcf8d6a-987a-4645-8500-df013951c5f2",
        "tags": []
      },
      "outputs": [
        {
          "data": {
            "text/plain": [
              "dtype('O')"
            ]
          },
          "execution_count": 131,
          "metadata": {},
          "output_type": "execute_result"
        }
      ],
      "source": [
        "penguin_dataset['Sex'].dtypes"
      ]
    },
    {
      "cell_type": "code",
      "execution_count": null,
      "metadata": {
        "id": "ut0fqYK_Hpnb",
        "outputId": "aca3dad3-bbe6-4373-d079-6b8647ac6579",
        "tags": []
      },
      "outputs": [
        {
          "name": "stdout",
          "output_type": "stream",
          "text": [
            "<class 'pandas.core.frame.DataFrame'>\n",
            "Index: 334 entries, 0 to 343\n",
            "Data columns (total 11 columns):\n",
            " #   Column                Non-Null Count  Dtype  \n",
            "---  ------                --------------  -----  \n",
            " 0   Species               334 non-null    object \n",
            " 1   Stage                 334 non-null    object \n",
            " 2   Clutch_comp           334 non-null    object \n",
            " 3   Sex                   334 non-null    object \n",
            " 4   sample_id             334 non-null    int64  \n",
            " 5   Region                334 non-null    object \n",
            " 6   Island                334 non-null    object \n",
            " 7   Culmen_lenght_mm_v1   334 non-null    float64\n",
            " 8   Culmen_depth_mm_v1    334 non-null    float64\n",
            " 9   Flipper_length_mm_v1  334 non-null    float64\n",
            " 10  Body_mass_g_v1        334 non-null    float64\n",
            "dtypes: float64(4), int64(1), object(6)\n",
            "memory usage: 39.4+ KB\n"
          ]
        }
      ],
      "source": [
        "penguin_dataset.info()"
      ]
    },
    {
      "cell_type": "markdown",
      "metadata": {
        "id": "CdzpEJLWHpnb",
        "tags": []
      },
      "source": [
        "### yeni değişken oluşturma"
      ]
    },
    {
      "cell_type": "code",
      "execution_count": null,
      "metadata": {
        "id": "2aLk9av0Hpnb",
        "tags": []
      },
      "outputs": [],
      "source": [
        "# Body index for Penguines (Hayali)"
      ]
    },
    {
      "cell_type": "code",
      "execution_count": null,
      "metadata": {
        "id": "Ad5Ka8YTHpnb",
        "outputId": "2203f3ef-be06-4436-f707-0be18f4c350d",
        "tags": []
      },
      "outputs": [
        {
          "data": {
            "text/html": [
              "<div>\n",
              "<style scoped>\n",
              "    .dataframe tbody tr th:only-of-type {\n",
              "        vertical-align: middle;\n",
              "    }\n",
              "\n",
              "    .dataframe tbody tr th {\n",
              "        vertical-align: top;\n",
              "    }\n",
              "\n",
              "    .dataframe thead th {\n",
              "        text-align: right;\n",
              "    }\n",
              "</style>\n",
              "<table border=\"1\" class=\"dataframe\">\n",
              "  <thead>\n",
              "    <tr style=\"text-align: right;\">\n",
              "      <th></th>\n",
              "      <th>Species</th>\n",
              "      <th>Stage</th>\n",
              "      <th>Clutch_comp</th>\n",
              "      <th>Sex</th>\n",
              "      <th>sample_id</th>\n",
              "      <th>Region</th>\n",
              "      <th>Island</th>\n",
              "      <th>Culmen_lenght_mm_v1</th>\n",
              "      <th>Culmen_depth_mm_v1</th>\n",
              "      <th>Flipper_length_mm_v1</th>\n",
              "      <th>Body_mass_g_v1</th>\n",
              "      <th>body_index</th>\n",
              "    </tr>\n",
              "  </thead>\n",
              "  <tbody>\n",
              "    <tr>\n",
              "      <th>36</th>\n",
              "      <td>Adelie Penguin (Pygoscelis adeliae)</td>\n",
              "      <td>Adult, 1 Egg Stage</td>\n",
              "      <td>Y</td>\n",
              "      <td>0.0</td>\n",
              "      <td>37</td>\n",
              "      <td>Anvers</td>\n",
              "      <td>Dream</td>\n",
              "      <td>38.8</td>\n",
              "      <td>20.0</td>\n",
              "      <td>190.0</td>\n",
              "      <td>3950.0</td>\n",
              "      <td>37</td>\n",
              "    </tr>\n",
              "    <tr>\n",
              "      <th>164</th>\n",
              "      <td>Chinstrap penguin (Pygoscelis antarctica)</td>\n",
              "      <td>Adult, 1 Egg Stage</td>\n",
              "      <td>Y</td>\n",
              "      <td>1.0</td>\n",
              "      <td>165</td>\n",
              "      <td>Anvers</td>\n",
              "      <td>Dream</td>\n",
              "      <td>47.0</td>\n",
              "      <td>17.3</td>\n",
              "      <td>185.0</td>\n",
              "      <td>3700.0</td>\n",
              "      <td>40</td>\n",
              "    </tr>\n",
              "    <tr>\n",
              "      <th>197</th>\n",
              "      <td>Chinstrap penguin (Pygoscelis antarctica)</td>\n",
              "      <td>Adult, 1 Egg Stage</td>\n",
              "      <td>Y</td>\n",
              "      <td>0.0</td>\n",
              "      <td>198</td>\n",
              "      <td>Anvers</td>\n",
              "      <td>Dream</td>\n",
              "      <td>50.8</td>\n",
              "      <td>18.5</td>\n",
              "      <td>201.0</td>\n",
              "      <td>4450.0</td>\n",
              "      <td>42</td>\n",
              "    </tr>\n",
              "    <tr>\n",
              "      <th>332</th>\n",
              "      <td>Gentoo penguin (Pygoscelis papua)</td>\n",
              "      <td>Adult, 1 Egg Stage</td>\n",
              "      <td>Y</td>\n",
              "      <td>1.0</td>\n",
              "      <td>333</td>\n",
              "      <td>Anvers</td>\n",
              "      <td>Biscoe</td>\n",
              "      <td>43.5</td>\n",
              "      <td>15.2</td>\n",
              "      <td>213.0</td>\n",
              "      <td>4650.0</td>\n",
              "      <td>30</td>\n",
              "    </tr>\n",
              "    <tr>\n",
              "      <th>198</th>\n",
              "      <td>Chinstrap penguin (Pygoscelis antarctica)</td>\n",
              "      <td>Adult, 1 Egg Stage</td>\n",
              "      <td>Y</td>\n",
              "      <td>1.0</td>\n",
              "      <td>199</td>\n",
              "      <td>Anvers</td>\n",
              "      <td>Dream</td>\n",
              "      <td>50.1</td>\n",
              "      <td>17.9</td>\n",
              "      <td>190.0</td>\n",
              "      <td>3400.0</td>\n",
              "      <td>50</td>\n",
              "    </tr>\n",
              "  </tbody>\n",
              "</table>\n",
              "</div>"
            ],
            "text/plain": [
              "                                       Species               Stage  \\\n",
              "36         Adelie Penguin (Pygoscelis adeliae)  Adult, 1 Egg Stage   \n",
              "164  Chinstrap penguin (Pygoscelis antarctica)  Adult, 1 Egg Stage   \n",
              "197  Chinstrap penguin (Pygoscelis antarctica)  Adult, 1 Egg Stage   \n",
              "332          Gentoo penguin (Pygoscelis papua)  Adult, 1 Egg Stage   \n",
              "198  Chinstrap penguin (Pygoscelis antarctica)  Adult, 1 Egg Stage   \n",
              "\n",
              "    Clutch_comp  Sex  sample_id  Region  Island  Culmen_lenght_mm_v1  \\\n",
              "36            Y  0.0         37  Anvers   Dream                 38.8   \n",
              "164           Y  1.0        165  Anvers   Dream                 47.0   \n",
              "197           Y  0.0        198  Anvers   Dream                 50.8   \n",
              "332           Y  1.0        333  Anvers  Biscoe                 43.5   \n",
              "198           Y  1.0        199  Anvers   Dream                 50.1   \n",
              "\n",
              "     Culmen_depth_mm_v1  Flipper_length_mm_v1  Body_mass_g_v1  body_index  \n",
              "36                 20.0                 190.0          3950.0          37  \n",
              "164                17.3                 185.0          3700.0          40  \n",
              "197                18.5                 201.0          4450.0          42  \n",
              "332                15.2                 213.0          4650.0          30  \n",
              "198                17.9                 190.0          3400.0          50  "
            ]
          },
          "execution_count": 133,
          "metadata": {},
          "output_type": "execute_result"
        }
      ],
      "source": [
        "penguin_dataset['body_index'] = (((penguin_dataset['Culmen_lenght_mm_v1']*penguin_dataset['Culmen_depth_mm_v1'])*penguin_dataset['Flipper_length_mm_v1'])\n",
        "                                  /penguin_dataset['Body_mass_g_v1']).astype(int)\n",
        "\n",
        "penguin_dataset.sample(5)"
      ]
    },
    {
      "cell_type": "markdown",
      "metadata": {
        "id": "mbxpbTszHpnb",
        "tags": []
      },
      "source": [
        "### applying function"
      ]
    },
    {
      "cell_type": "code",
      "execution_count": null,
      "metadata": {
        "id": "JaSok74EHpnb",
        "tags": []
      },
      "outputs": [],
      "source": [
        "penguin_dataset['health']=penguin_dataset['body_index'].apply(lambda x: 'Healthy' if x>30 else 'Need_care')"
      ]
    },
    {
      "cell_type": "code",
      "execution_count": null,
      "metadata": {
        "id": "lOSIjttAHpnc",
        "outputId": "fd3b8d77-9710-4b6a-a612-a0381dbad785",
        "tags": []
      },
      "outputs": [
        {
          "data": {
            "text/html": [
              "<div>\n",
              "<style scoped>\n",
              "    .dataframe tbody tr th:only-of-type {\n",
              "        vertical-align: middle;\n",
              "    }\n",
              "\n",
              "    .dataframe tbody tr th {\n",
              "        vertical-align: top;\n",
              "    }\n",
              "\n",
              "    .dataframe thead th {\n",
              "        text-align: right;\n",
              "    }\n",
              "</style>\n",
              "<table border=\"1\" class=\"dataframe\">\n",
              "  <thead>\n",
              "    <tr style=\"text-align: right;\">\n",
              "      <th></th>\n",
              "      <th>Species</th>\n",
              "      <th>Stage</th>\n",
              "      <th>Clutch_comp</th>\n",
              "      <th>Sex</th>\n",
              "      <th>sample_id</th>\n",
              "      <th>Region</th>\n",
              "      <th>Island</th>\n",
              "      <th>Culmen_lenght_mm_v1</th>\n",
              "      <th>Culmen_depth_mm_v1</th>\n",
              "      <th>Flipper_length_mm_v1</th>\n",
              "      <th>Body_mass_g_v1</th>\n",
              "      <th>body_index</th>\n",
              "      <th>health</th>\n",
              "    </tr>\n",
              "  </thead>\n",
              "  <tbody>\n",
              "    <tr>\n",
              "      <th>0</th>\n",
              "      <td>Adelie Penguin (Pygoscelis adeliae)</td>\n",
              "      <td>Adult, 1 Egg Stage</td>\n",
              "      <td>Y</td>\n",
              "      <td>0.0</td>\n",
              "      <td>1</td>\n",
              "      <td>Anvers</td>\n",
              "      <td>Torgersen</td>\n",
              "      <td>39.1</td>\n",
              "      <td>18.7</td>\n",
              "      <td>181.0</td>\n",
              "      <td>3750.0</td>\n",
              "      <td>35</td>\n",
              "      <td>Healthy</td>\n",
              "    </tr>\n",
              "    <tr>\n",
              "      <th>1</th>\n",
              "      <td>Adelie Penguin (Pygoscelis adeliae)</td>\n",
              "      <td>Adult, 1 Egg Stage</td>\n",
              "      <td>Y</td>\n",
              "      <td>1.0</td>\n",
              "      <td>2</td>\n",
              "      <td>Anvers</td>\n",
              "      <td>Torgersen</td>\n",
              "      <td>39.5</td>\n",
              "      <td>17.4</td>\n",
              "      <td>186.0</td>\n",
              "      <td>3800.0</td>\n",
              "      <td>33</td>\n",
              "      <td>Healthy</td>\n",
              "    </tr>\n",
              "    <tr>\n",
              "      <th>2</th>\n",
              "      <td>Adelie Penguin (Pygoscelis adeliae)</td>\n",
              "      <td>Adult, 1 Egg Stage</td>\n",
              "      <td>Y</td>\n",
              "      <td>1.0</td>\n",
              "      <td>3</td>\n",
              "      <td>Anvers</td>\n",
              "      <td>Torgersen</td>\n",
              "      <td>40.3</td>\n",
              "      <td>18.0</td>\n",
              "      <td>195.0</td>\n",
              "      <td>3250.0</td>\n",
              "      <td>43</td>\n",
              "      <td>Healthy</td>\n",
              "    </tr>\n",
              "    <tr>\n",
              "      <th>4</th>\n",
              "      <td>Adelie Penguin (Pygoscelis adeliae)</td>\n",
              "      <td>Adult, 1 Egg Stage</td>\n",
              "      <td>Y</td>\n",
              "      <td>1.0</td>\n",
              "      <td>5</td>\n",
              "      <td>Anvers</td>\n",
              "      <td>Torgersen</td>\n",
              "      <td>36.7</td>\n",
              "      <td>19.3</td>\n",
              "      <td>193.0</td>\n",
              "      <td>3450.0</td>\n",
              "      <td>39</td>\n",
              "      <td>Healthy</td>\n",
              "    </tr>\n",
              "    <tr>\n",
              "      <th>5</th>\n",
              "      <td>Adelie Penguin (Pygoscelis adeliae)</td>\n",
              "      <td>Adult, 1 Egg Stage</td>\n",
              "      <td>Y</td>\n",
              "      <td>0.0</td>\n",
              "      <td>6</td>\n",
              "      <td>Anvers</td>\n",
              "      <td>Torgersen</td>\n",
              "      <td>39.3</td>\n",
              "      <td>20.6</td>\n",
              "      <td>190.0</td>\n",
              "      <td>3650.0</td>\n",
              "      <td>42</td>\n",
              "      <td>Healthy</td>\n",
              "    </tr>\n",
              "    <tr>\n",
              "      <th>...</th>\n",
              "      <td>...</td>\n",
              "      <td>...</td>\n",
              "      <td>...</td>\n",
              "      <td>...</td>\n",
              "      <td>...</td>\n",
              "      <td>...</td>\n",
              "      <td>...</td>\n",
              "      <td>...</td>\n",
              "      <td>...</td>\n",
              "      <td>...</td>\n",
              "      <td>...</td>\n",
              "      <td>...</td>\n",
              "      <td>...</td>\n",
              "    </tr>\n",
              "    <tr>\n",
              "      <th>338</th>\n",
              "      <td>Gentoo penguin (Pygoscelis papua)</td>\n",
              "      <td>Adult, 1 Egg Stage</td>\n",
              "      <td>N</td>\n",
              "      <td>1.0</td>\n",
              "      <td>339</td>\n",
              "      <td>Anvers</td>\n",
              "      <td>Biscoe</td>\n",
              "      <td>47.2</td>\n",
              "      <td>13.7</td>\n",
              "      <td>214.0</td>\n",
              "      <td>4925.0</td>\n",
              "      <td>28</td>\n",
              "      <td>Need_care</td>\n",
              "    </tr>\n",
              "    <tr>\n",
              "      <th>340</th>\n",
              "      <td>Gentoo penguin (Pygoscelis papua)</td>\n",
              "      <td>Adult, 1 Egg Stage</td>\n",
              "      <td>Y</td>\n",
              "      <td>1.0</td>\n",
              "      <td>341</td>\n",
              "      <td>Anvers</td>\n",
              "      <td>Biscoe</td>\n",
              "      <td>46.8</td>\n",
              "      <td>14.3</td>\n",
              "      <td>215.0</td>\n",
              "      <td>4850.0</td>\n",
              "      <td>29</td>\n",
              "      <td>Need_care</td>\n",
              "    </tr>\n",
              "    <tr>\n",
              "      <th>341</th>\n",
              "      <td>Gentoo penguin (Pygoscelis papua)</td>\n",
              "      <td>Adult, 1 Egg Stage</td>\n",
              "      <td>Y</td>\n",
              "      <td>0.0</td>\n",
              "      <td>342</td>\n",
              "      <td>Anvers</td>\n",
              "      <td>Biscoe</td>\n",
              "      <td>50.4</td>\n",
              "      <td>15.7</td>\n",
              "      <td>222.0</td>\n",
              "      <td>5750.0</td>\n",
              "      <td>30</td>\n",
              "      <td>Need_care</td>\n",
              "    </tr>\n",
              "    <tr>\n",
              "      <th>342</th>\n",
              "      <td>Gentoo penguin (Pygoscelis papua)</td>\n",
              "      <td>Adult, 1 Egg Stage</td>\n",
              "      <td>Y</td>\n",
              "      <td>1.0</td>\n",
              "      <td>343</td>\n",
              "      <td>Anvers</td>\n",
              "      <td>Biscoe</td>\n",
              "      <td>45.2</td>\n",
              "      <td>14.8</td>\n",
              "      <td>212.0</td>\n",
              "      <td>5200.0</td>\n",
              "      <td>27</td>\n",
              "      <td>Need_care</td>\n",
              "    </tr>\n",
              "    <tr>\n",
              "      <th>343</th>\n",
              "      <td>Gentoo penguin (Pygoscelis papua)</td>\n",
              "      <td>Adult, 1 Egg Stage</td>\n",
              "      <td>Y</td>\n",
              "      <td>0.0</td>\n",
              "      <td>344</td>\n",
              "      <td>Anvers</td>\n",
              "      <td>Biscoe</td>\n",
              "      <td>49.9</td>\n",
              "      <td>16.1</td>\n",
              "      <td>213.0</td>\n",
              "      <td>5400.0</td>\n",
              "      <td>31</td>\n",
              "      <td>Healthy</td>\n",
              "    </tr>\n",
              "  </tbody>\n",
              "</table>\n",
              "<p>334 rows × 13 columns</p>\n",
              "</div>"
            ],
            "text/plain": [
              "                                 Species               Stage Clutch_comp  Sex  \\\n",
              "0    Adelie Penguin (Pygoscelis adeliae)  Adult, 1 Egg Stage           Y  0.0   \n",
              "1    Adelie Penguin (Pygoscelis adeliae)  Adult, 1 Egg Stage           Y  1.0   \n",
              "2    Adelie Penguin (Pygoscelis adeliae)  Adult, 1 Egg Stage           Y  1.0   \n",
              "4    Adelie Penguin (Pygoscelis adeliae)  Adult, 1 Egg Stage           Y  1.0   \n",
              "5    Adelie Penguin (Pygoscelis adeliae)  Adult, 1 Egg Stage           Y  0.0   \n",
              "..                                   ...                 ...         ...  ...   \n",
              "338    Gentoo penguin (Pygoscelis papua)  Adult, 1 Egg Stage           N  1.0   \n",
              "340    Gentoo penguin (Pygoscelis papua)  Adult, 1 Egg Stage           Y  1.0   \n",
              "341    Gentoo penguin (Pygoscelis papua)  Adult, 1 Egg Stage           Y  0.0   \n",
              "342    Gentoo penguin (Pygoscelis papua)  Adult, 1 Egg Stage           Y  1.0   \n",
              "343    Gentoo penguin (Pygoscelis papua)  Adult, 1 Egg Stage           Y  0.0   \n",
              "\n",
              "     sample_id  Region     Island  Culmen_lenght_mm_v1  Culmen_depth_mm_v1  \\\n",
              "0            1  Anvers  Torgersen                 39.1                18.7   \n",
              "1            2  Anvers  Torgersen                 39.5                17.4   \n",
              "2            3  Anvers  Torgersen                 40.3                18.0   \n",
              "4            5  Anvers  Torgersen                 36.7                19.3   \n",
              "5            6  Anvers  Torgersen                 39.3                20.6   \n",
              "..         ...     ...        ...                  ...                 ...   \n",
              "338        339  Anvers     Biscoe                 47.2                13.7   \n",
              "340        341  Anvers     Biscoe                 46.8                14.3   \n",
              "341        342  Anvers     Biscoe                 50.4                15.7   \n",
              "342        343  Anvers     Biscoe                 45.2                14.8   \n",
              "343        344  Anvers     Biscoe                 49.9                16.1   \n",
              "\n",
              "     Flipper_length_mm_v1  Body_mass_g_v1  body_index     health  \n",
              "0                   181.0          3750.0          35    Healthy  \n",
              "1                   186.0          3800.0          33    Healthy  \n",
              "2                   195.0          3250.0          43    Healthy  \n",
              "4                   193.0          3450.0          39    Healthy  \n",
              "5                   190.0          3650.0          42    Healthy  \n",
              "..                    ...             ...         ...        ...  \n",
              "338                 214.0          4925.0          28  Need_care  \n",
              "340                 215.0          4850.0          29  Need_care  \n",
              "341                 222.0          5750.0          30  Need_care  \n",
              "342                 212.0          5200.0          27  Need_care  \n",
              "343                 213.0          5400.0          31    Healthy  \n",
              "\n",
              "[334 rows x 13 columns]"
            ]
          },
          "execution_count": 135,
          "metadata": {},
          "output_type": "execute_result"
        }
      ],
      "source": [
        "penguin_dataset"
      ]
    },
    {
      "cell_type": "code",
      "execution_count": null,
      "metadata": {
        "id": "vDg0w-F2Hpnc",
        "outputId": "4f854a61-dfe5-441c-81e2-ea0c3bafa0e8",
        "tags": []
      },
      "outputs": [
        {
          "data": {
            "text/html": [
              "<div>\n",
              "<style scoped>\n",
              "    .dataframe tbody tr th:only-of-type {\n",
              "        vertical-align: middle;\n",
              "    }\n",
              "\n",
              "    .dataframe tbody tr th {\n",
              "        vertical-align: top;\n",
              "    }\n",
              "\n",
              "    .dataframe thead th {\n",
              "        text-align: right;\n",
              "    }\n",
              "</style>\n",
              "<table border=\"1\" class=\"dataframe\">\n",
              "  <thead>\n",
              "    <tr style=\"text-align: right;\">\n",
              "      <th></th>\n",
              "      <th>health</th>\n",
              "      <th>count</th>\n",
              "    </tr>\n",
              "  </thead>\n",
              "  <tbody>\n",
              "    <tr>\n",
              "      <th>0</th>\n",
              "      <td>Healthy</td>\n",
              "      <td>254</td>\n",
              "    </tr>\n",
              "    <tr>\n",
              "      <th>1</th>\n",
              "      <td>Need_care</td>\n",
              "      <td>80</td>\n",
              "    </tr>\n",
              "  </tbody>\n",
              "</table>\n",
              "</div>"
            ],
            "text/plain": [
              "      health  count\n",
              "0    Healthy    254\n",
              "1  Need_care     80"
            ]
          },
          "execution_count": 136,
          "metadata": {},
          "output_type": "execute_result"
        }
      ],
      "source": [
        "health_group=penguin_dataset.groupby(['health'])['health'].count().reset_index(name='count')\n",
        "health_group"
      ]
    },
    {
      "cell_type": "code",
      "execution_count": null,
      "metadata": {
        "id": "CiPEWalQHpnc",
        "tags": []
      },
      "outputs": [],
      "source": [
        "# PANDAS + NUMPY Birlikte Kullanımı ile Veri Düzenleme:"
      ]
    },
    {
      "cell_type": "code",
      "execution_count": null,
      "metadata": {
        "id": "gaIzu8PmHpnc",
        "tags": []
      },
      "outputs": [],
      "source": [
        "penguin_dataset['Overweight_flag'] = np.where((penguin_dataset['Body_mass_g_v1'])>450, 1, 0)"
      ]
    },
    {
      "cell_type": "code",
      "execution_count": null,
      "metadata": {
        "id": "6CAbNNoiHpnc",
        "tags": []
      },
      "outputs": [],
      "source": [
        "#Alternatif: penguin_dataset['Overweight_flag']  = [1 if x> 450 else 0 for x in penguin_dataset.Body_mass_g_v1]"
      ]
    },
    {
      "cell_type": "code",
      "execution_count": null,
      "metadata": {
        "id": "0Rk4iYuhHpnd",
        "outputId": "2d24cbdd-e674-4e1b-a1db-387ae77ac1ac",
        "tags": []
      },
      "outputs": [
        {
          "name": "stdout",
          "output_type": "stream",
          "text": [
            "<class 'pandas.core.frame.DataFrame'>\n",
            "Index: 334 entries, 0 to 343\n",
            "Data columns (total 14 columns):\n",
            " #   Column                Non-Null Count  Dtype  \n",
            "---  ------                --------------  -----  \n",
            " 0   Species               334 non-null    object \n",
            " 1   Stage                 334 non-null    object \n",
            " 2   Clutch_comp           334 non-null    object \n",
            " 3   Sex                   334 non-null    object \n",
            " 4   sample_id             334 non-null    int64  \n",
            " 5   Region                334 non-null    object \n",
            " 6   Island                334 non-null    object \n",
            " 7   Culmen_lenght_mm_v1   334 non-null    float64\n",
            " 8   Culmen_depth_mm_v1    334 non-null    float64\n",
            " 9   Flipper_length_mm_v1  334 non-null    float64\n",
            " 10  Body_mass_g_v1        334 non-null    float64\n",
            " 11  body_index            334 non-null    int64  \n",
            " 12  health                334 non-null    object \n",
            " 13  Overweight_flag       334 non-null    int64  \n",
            "dtypes: float64(4), int64(3), object(7)\n",
            "memory usage: 47.2+ KB\n"
          ]
        }
      ],
      "source": [
        "penguin_dataset.info()"
      ]
    },
    {
      "cell_type": "code",
      "execution_count": null,
      "metadata": {
        "id": "YgGnEc_iHpnd",
        "outputId": "f9dde8b3-0192-4bab-f5b1-3cf8ca037c8f",
        "scrolled": true,
        "tags": []
      },
      "outputs": [
        {
          "data": {
            "text/html": [
              "<div>\n",
              "<style scoped>\n",
              "    .dataframe tbody tr th:only-of-type {\n",
              "        vertical-align: middle;\n",
              "    }\n",
              "\n",
              "    .dataframe tbody tr th {\n",
              "        vertical-align: top;\n",
              "    }\n",
              "\n",
              "    .dataframe thead th {\n",
              "        text-align: right;\n",
              "    }\n",
              "</style>\n",
              "<table border=\"1\" class=\"dataframe\">\n",
              "  <thead>\n",
              "    <tr style=\"text-align: right;\">\n",
              "      <th></th>\n",
              "      <th>Species</th>\n",
              "      <th>Stage</th>\n",
              "      <th>Clutch_comp</th>\n",
              "      <th>Sex</th>\n",
              "      <th>sample_id</th>\n",
              "      <th>Region</th>\n",
              "      <th>Island</th>\n",
              "      <th>Culmen_lenght_mm_v1</th>\n",
              "      <th>Culmen_depth_mm_v1</th>\n",
              "      <th>Flipper_length_mm_v1</th>\n",
              "      <th>Body_mass_g_v1</th>\n",
              "      <th>body_index</th>\n",
              "      <th>health</th>\n",
              "      <th>Overweight_flag</th>\n",
              "    </tr>\n",
              "  </thead>\n",
              "  <tbody>\n",
              "    <tr>\n",
              "      <th>0</th>\n",
              "      <td>Adelie Penguin (Pygoscelis adeliae)</td>\n",
              "      <td>Adult, 1 Egg Stage</td>\n",
              "      <td>Y</td>\n",
              "      <td>0.0</td>\n",
              "      <td>1</td>\n",
              "      <td>Anvers</td>\n",
              "      <td>Torgersen</td>\n",
              "      <td>39.1</td>\n",
              "      <td>18.7</td>\n",
              "      <td>181.0</td>\n",
              "      <td>3750.0</td>\n",
              "      <td>35</td>\n",
              "      <td>Healthy</td>\n",
              "      <td>1</td>\n",
              "    </tr>\n",
              "    <tr>\n",
              "      <th>1</th>\n",
              "      <td>Adelie Penguin (Pygoscelis adeliae)</td>\n",
              "      <td>Adult, 1 Egg Stage</td>\n",
              "      <td>Y</td>\n",
              "      <td>1.0</td>\n",
              "      <td>2</td>\n",
              "      <td>Anvers</td>\n",
              "      <td>Torgersen</td>\n",
              "      <td>39.5</td>\n",
              "      <td>17.4</td>\n",
              "      <td>186.0</td>\n",
              "      <td>3800.0</td>\n",
              "      <td>33</td>\n",
              "      <td>Healthy</td>\n",
              "      <td>1</td>\n",
              "    </tr>\n",
              "    <tr>\n",
              "      <th>2</th>\n",
              "      <td>Adelie Penguin (Pygoscelis adeliae)</td>\n",
              "      <td>Adult, 1 Egg Stage</td>\n",
              "      <td>Y</td>\n",
              "      <td>1.0</td>\n",
              "      <td>3</td>\n",
              "      <td>Anvers</td>\n",
              "      <td>Torgersen</td>\n",
              "      <td>40.3</td>\n",
              "      <td>18.0</td>\n",
              "      <td>195.0</td>\n",
              "      <td>3250.0</td>\n",
              "      <td>43</td>\n",
              "      <td>Healthy</td>\n",
              "      <td>1</td>\n",
              "    </tr>\n",
              "  </tbody>\n",
              "</table>\n",
              "</div>"
            ],
            "text/plain": [
              "                               Species               Stage Clutch_comp  Sex  \\\n",
              "0  Adelie Penguin (Pygoscelis adeliae)  Adult, 1 Egg Stage           Y  0.0   \n",
              "1  Adelie Penguin (Pygoscelis adeliae)  Adult, 1 Egg Stage           Y  1.0   \n",
              "2  Adelie Penguin (Pygoscelis adeliae)  Adult, 1 Egg Stage           Y  1.0   \n",
              "\n",
              "   sample_id  Region     Island  Culmen_lenght_mm_v1  Culmen_depth_mm_v1  \\\n",
              "0          1  Anvers  Torgersen                 39.1                18.7   \n",
              "1          2  Anvers  Torgersen                 39.5                17.4   \n",
              "2          3  Anvers  Torgersen                 40.3                18.0   \n",
              "\n",
              "   Flipper_length_mm_v1  Body_mass_g_v1  body_index   health  Overweight_flag  \n",
              "0                 181.0          3750.0          35  Healthy                1  \n",
              "1                 186.0          3800.0          33  Healthy                1  \n",
              "2                 195.0          3250.0          43  Healthy                1  "
            ]
          },
          "execution_count": 148,
          "metadata": {},
          "output_type": "execute_result"
        }
      ],
      "source": [
        "penguin_dataset.head(3)"
      ]
    },
    {
      "cell_type": "markdown",
      "metadata": {
        "id": "xAPHpq3jHpnd"
      },
      "source": [
        "## Farklı Veri kaynaklarını çağırma"
      ]
    },
    {
      "cell_type": "markdown",
      "metadata": {
        "id": "E2o5YtalHpnd"
      },
      "source": [
        "pandas ile birçok veri kaynağına farklı metotlarla veri yazmak münkündür:\n",
        "    - pd.read_excel\n",
        "    - pd.read_csv\n",
        "    - pd.read_sql\n"
      ]
    },
    {
      "cell_type": "code",
      "execution_count": null,
      "metadata": {
        "id": "hZK8veQvHpnd",
        "tags": []
      },
      "outputs": [],
      "source": [
        "penguin_dataset.to_csv('penguins_preprocessed.csv', sep=',', index=False)"
      ]
    },
    {
      "cell_type": "code",
      "execution_count": null,
      "metadata": {
        "id": "4s7q_hJ5Hpnd",
        "outputId": "d1ac7aa4-e4f0-41f7-b2c6-800950181a92",
        "tags": []
      },
      "outputs": [
        {
          "name": "stdout",
          "output_type": "stream",
          "text": [
            "Help on property:\n",
            "\n",
            "    Access a group of rows and columns by label(s) or a boolean array.\n",
            "    \n",
            "    ``.loc[]`` is primarily label based, but may also be used with a\n",
            "    boolean array.\n",
            "    \n",
            "    Allowed inputs are:\n",
            "    \n",
            "    - A single label, e.g. ``5`` or ``'a'``, (note that ``5`` is\n",
            "      interpreted as a *label* of the index, and **never** as an\n",
            "      integer position along the index).\n",
            "    - A list or array of labels, e.g. ``['a', 'b', 'c']``.\n",
            "    - A slice object with labels, e.g. ``'a':'f'``.\n",
            "    \n",
            "      .. warning:: Note that contrary to usual python slices, **both** the\n",
            "          start and the stop are included\n",
            "    \n",
            "    - A boolean array of the same length as the axis being sliced,\n",
            "      e.g. ``[True, False, True]``.\n",
            "    - An alignable boolean Series. The index of the key will be aligned before\n",
            "      masking.\n",
            "    - An alignable Index. The Index of the returned selection will be the input.\n",
            "    - A ``callable`` function with one argument (the calling Series or\n",
            "      DataFrame) and that returns valid output for indexing (one of the above)\n",
            "    \n",
            "    See more at :ref:`Selection by Label <indexing.label>`.\n",
            "    \n",
            "    Raises\n",
            "    ------\n",
            "    KeyError\n",
            "        If any items are not found.\n",
            "    IndexingError\n",
            "        If an indexed key is passed and its index is unalignable to the frame index.\n",
            "    \n",
            "    See Also\n",
            "    --------\n",
            "    DataFrame.at : Access a single value for a row/column label pair.\n",
            "    DataFrame.iloc : Access group of rows and columns by integer position(s).\n",
            "    DataFrame.xs : Returns a cross-section (row(s) or column(s)) from the\n",
            "                   Series/DataFrame.\n",
            "    Series.loc : Access group of values using labels.\n",
            "    \n",
            "    Examples\n",
            "    --------\n",
            "    **Getting values**\n",
            "    \n",
            "    >>> df = pd.DataFrame([[1, 2], [4, 5], [7, 8]],\n",
            "    ...                   index=['cobra', 'viper', 'sidewinder'],\n",
            "    ...                   columns=['max_speed', 'shield'])\n",
            "    >>> df\n",
            "                max_speed  shield\n",
            "    cobra               1       2\n",
            "    viper               4       5\n",
            "    sidewinder          7       8\n",
            "    \n",
            "    Single label. Note this returns the row as a Series.\n",
            "    \n",
            "    >>> df.loc['viper']\n",
            "    max_speed    4\n",
            "    shield       5\n",
            "    Name: viper, dtype: int64\n",
            "    \n",
            "    List of labels. Note using ``[[]]`` returns a DataFrame.\n",
            "    \n",
            "    >>> df.loc[['viper', 'sidewinder']]\n",
            "                max_speed  shield\n",
            "    viper               4       5\n",
            "    sidewinder          7       8\n",
            "    \n",
            "    Single label for row and column\n",
            "    \n",
            "    >>> df.loc['cobra', 'shield']\n",
            "    2\n",
            "    \n",
            "    Slice with labels for row and single label for column. As mentioned\n",
            "    above, note that both the start and stop of the slice are included.\n",
            "    \n",
            "    >>> df.loc['cobra':'viper', 'max_speed']\n",
            "    cobra    1\n",
            "    viper    4\n",
            "    Name: max_speed, dtype: int64\n",
            "    \n",
            "    Boolean list with the same length as the row axis\n",
            "    \n",
            "    >>> df.loc[[False, False, True]]\n",
            "                max_speed  shield\n",
            "    sidewinder          7       8\n",
            "    \n",
            "    Alignable boolean Series:\n",
            "    \n",
            "    >>> df.loc[pd.Series([False, True, False],\n",
            "    ...                  index=['viper', 'sidewinder', 'cobra'])]\n",
            "                         max_speed  shield\n",
            "    sidewinder          7       8\n",
            "    \n",
            "    Index (same behavior as ``df.reindex``)\n",
            "    \n",
            "    >>> df.loc[pd.Index([\"cobra\", \"viper\"], name=\"foo\")]\n",
            "           max_speed  shield\n",
            "    foo\n",
            "    cobra          1       2\n",
            "    viper          4       5\n",
            "    \n",
            "    Conditional that returns a boolean Series\n",
            "    \n",
            "    >>> df.loc[df['shield'] > 6]\n",
            "                max_speed  shield\n",
            "    sidewinder          7       8\n",
            "    \n",
            "    Conditional that returns a boolean Series with column labels specified\n",
            "    \n",
            "    >>> df.loc[df['shield'] > 6, ['max_speed']]\n",
            "                max_speed\n",
            "    sidewinder          7\n",
            "    \n",
            "    Multiple conditional using ``&`` that returns a boolean Series\n",
            "    \n",
            "    >>> df.loc[(df['max_speed'] > 1) & (df['shield'] < 8)]\n",
            "                max_speed  shield\n",
            "    viper          4       5\n",
            "    \n",
            "    Multiple conditional using ``|`` that returns a boolean Series\n",
            "    \n",
            "    >>> df.loc[(df['max_speed'] > 4) | (df['shield'] < 5)]\n",
            "                max_speed  shield\n",
            "    cobra               1       2\n",
            "    sidewinder          7       8\n",
            "    \n",
            "    Please ensure that each condition is wrapped in parentheses ``()``.\n",
            "    See the :ref:`user guide<indexing.boolean>`\n",
            "    for more details and explanations of Boolean indexing.\n",
            "    \n",
            "    .. note::\n",
            "        If you find yourself using 3 or more conditionals in ``.loc[]``,\n",
            "        consider using :ref:`advanced indexing<advanced.advanced_hierarchical>`.\n",
            "    \n",
            "        See below for using ``.loc[]`` on MultiIndex DataFrames.\n",
            "    \n",
            "    Callable that returns a boolean Series\n",
            "    \n",
            "    >>> df.loc[lambda df: df['shield'] == 8]\n",
            "                max_speed  shield\n",
            "    sidewinder          7       8\n",
            "    \n",
            "    **Setting values**\n",
            "    \n",
            "    Set value for all items matching the list of labels\n",
            "    \n",
            "    >>> df.loc[['viper', 'sidewinder'], ['shield']] = 50\n",
            "    >>> df\n",
            "                max_speed  shield\n",
            "    cobra               1       2\n",
            "    viper               4      50\n",
            "    sidewinder          7      50\n",
            "    \n",
            "    Set value for an entire row\n",
            "    \n",
            "    >>> df.loc['cobra'] = 10\n",
            "    >>> df\n",
            "                max_speed  shield\n",
            "    cobra              10      10\n",
            "    viper               4      50\n",
            "    sidewinder          7      50\n",
            "    \n",
            "    Set value for an entire column\n",
            "    \n",
            "    >>> df.loc[:, 'max_speed'] = 30\n",
            "    >>> df\n",
            "                max_speed  shield\n",
            "    cobra              30      10\n",
            "    viper              30      50\n",
            "    sidewinder         30      50\n",
            "    \n",
            "    Set value for rows matching callable condition\n",
            "    \n",
            "    >>> df.loc[df['shield'] > 35] = 0\n",
            "    >>> df\n",
            "                max_speed  shield\n",
            "    cobra              30      10\n",
            "    viper               0       0\n",
            "    sidewinder          0       0\n",
            "    \n",
            "    Add value matching location\n",
            "    \n",
            "    >>> df.loc[\"viper\", \"shield\"] += 5\n",
            "    >>> df\n",
            "                max_speed  shield\n",
            "    cobra              30      10\n",
            "    viper               0       5\n",
            "    sidewinder          0       0\n",
            "    \n",
            "    Setting using a ``Series`` or a ``DataFrame`` sets the values matching the\n",
            "    index labels, not the index positions.\n",
            "    \n",
            "    >>> shuffled_df = df.loc[[\"viper\", \"cobra\", \"sidewinder\"]]\n",
            "    >>> df.loc[:] += shuffled_df\n",
            "    >>> df\n",
            "                max_speed  shield\n",
            "    cobra              60      20\n",
            "    viper               0      10\n",
            "    sidewinder          0       0\n",
            "    \n",
            "    **Getting values on a DataFrame with an index that has integer labels**\n",
            "    \n",
            "    Another example using integers for the index\n",
            "    \n",
            "    >>> df = pd.DataFrame([[1, 2], [4, 5], [7, 8]],\n",
            "    ...                   index=[7, 8, 9], columns=['max_speed', 'shield'])\n",
            "    >>> df\n",
            "       max_speed  shield\n",
            "    7          1       2\n",
            "    8          4       5\n",
            "    9          7       8\n",
            "    \n",
            "    Slice with integer labels for rows. As mentioned above, note that both\n",
            "    the start and stop of the slice are included.\n",
            "    \n",
            "    >>> df.loc[7:9]\n",
            "       max_speed  shield\n",
            "    7          1       2\n",
            "    8          4       5\n",
            "    9          7       8\n",
            "    \n",
            "    **Getting values with a MultiIndex**\n",
            "    \n",
            "    A number of examples using a DataFrame with a MultiIndex\n",
            "    \n",
            "    >>> tuples = [\n",
            "    ...     ('cobra', 'mark i'), ('cobra', 'mark ii'),\n",
            "    ...     ('sidewinder', 'mark i'), ('sidewinder', 'mark ii'),\n",
            "    ...     ('viper', 'mark ii'), ('viper', 'mark iii')\n",
            "    ... ]\n",
            "    >>> index = pd.MultiIndex.from_tuples(tuples)\n",
            "    >>> values = [[12, 2], [0, 4], [10, 20],\n",
            "    ...           [1, 4], [7, 1], [16, 36]]\n",
            "    >>> df = pd.DataFrame(values, columns=['max_speed', 'shield'], index=index)\n",
            "    >>> df\n",
            "                         max_speed  shield\n",
            "    cobra      mark i           12       2\n",
            "               mark ii           0       4\n",
            "    sidewinder mark i           10      20\n",
            "               mark ii           1       4\n",
            "    viper      mark ii           7       1\n",
            "               mark iii         16      36\n",
            "    \n",
            "    Single label. Note this returns a DataFrame with a single index.\n",
            "    \n",
            "    >>> df.loc['cobra']\n",
            "             max_speed  shield\n",
            "    mark i          12       2\n",
            "    mark ii          0       4\n",
            "    \n",
            "    Single index tuple. Note this returns a Series.\n",
            "    \n",
            "    >>> df.loc[('cobra', 'mark ii')]\n",
            "    max_speed    0\n",
            "    shield       4\n",
            "    Name: (cobra, mark ii), dtype: int64\n",
            "    \n",
            "    Single label for row and column. Similar to passing in a tuple, this\n",
            "    returns a Series.\n",
            "    \n",
            "    >>> df.loc['cobra', 'mark i']\n",
            "    max_speed    12\n",
            "    shield        2\n",
            "    Name: (cobra, mark i), dtype: int64\n",
            "    \n",
            "    Single tuple. Note using ``[[]]`` returns a DataFrame.\n",
            "    \n",
            "    >>> df.loc[[('cobra', 'mark ii')]]\n",
            "                   max_speed  shield\n",
            "    cobra mark ii          0       4\n",
            "    \n",
            "    Single tuple for the index with a single label for the column\n",
            "    \n",
            "    >>> df.loc[('cobra', 'mark i'), 'shield']\n",
            "    2\n",
            "    \n",
            "    Slice from index tuple to single label\n",
            "    \n",
            "    >>> df.loc[('cobra', 'mark i'):'viper']\n",
            "                         max_speed  shield\n",
            "    cobra      mark i           12       2\n",
            "               mark ii           0       4\n",
            "    sidewinder mark i           10      20\n",
            "               mark ii           1       4\n",
            "    viper      mark ii           7       1\n",
            "               mark iii         16      36\n",
            "    \n",
            "    Slice from index tuple to index tuple\n",
            "    \n",
            "    >>> df.loc[('cobra', 'mark i'):('viper', 'mark ii')]\n",
            "                        max_speed  shield\n",
            "    cobra      mark i          12       2\n",
            "               mark ii          0       4\n",
            "    sidewinder mark i          10      20\n",
            "               mark ii          1       4\n",
            "    viper      mark ii          7       1\n",
            "    \n",
            "    Please see the :ref:`user guide<advanced.advanced_hierarchical>`\n",
            "    for more details and explanations of advanced indexing.\n",
            "\n"
          ]
        }
      ],
      "source": [
        "help(pd.Series.loc)"
      ]
    },
    {
      "cell_type": "code",
      "execution_count": null,
      "metadata": {
        "id": "M7B9QzcyHpnd",
        "outputId": "4a1dbfb7-9ddd-4433-cc5c-b1f454a02e77",
        "tags": []
      },
      "outputs": [
        {
          "data": {
            "text/plain": [
              "Index                   10968\n",
              "Species                  2672\n",
              "Stage                    2672\n",
              "Clutch_comp              2672\n",
              "Sex                      2672\n",
              "sample_id                2672\n",
              "Region                   2672\n",
              "Island                   2672\n",
              "Culmen_lenght_mm_v1      2672\n",
              "Culmen_depth_mm_v1       2672\n",
              "Flipper_length_mm_v1     2672\n",
              "Body_mass_g_v1           2672\n",
              "body_index               2672\n",
              "health                   2672\n",
              "Overweight_flag          2672\n",
              "dtype: int64"
            ]
          },
          "execution_count": 151,
          "metadata": {},
          "output_type": "execute_result"
        }
      ],
      "source": [
        "penguin_dataset.memory_usage()"
      ]
    },
    {
      "cell_type": "code",
      "execution_count": null,
      "metadata": {
        "id": "BuBkbFpTHpnd",
        "tags": []
      },
      "outputs": [],
      "source": [
        "#Önemli not, veriyi doğrudan çalıştırma, çok büyükse çalışman zarar görebilir !!!\n",
        "#penguin_dataset"
      ]
    },
    {
      "cell_type": "markdown",
      "metadata": {
        "id": "IZElhcwOHpne"
      },
      "source": [
        "## Tarihsel İşlemler"
      ]
    },
    {
      "cell_type": "code",
      "execution_count": null,
      "metadata": {
        "id": "H8Eew93hHpne"
      },
      "outputs": [],
      "source": [
        "#Başımıza bela olan tarih formatlarını inceleyelim:"
      ]
    },
    {
      "cell_type": "code",
      "execution_count": null,
      "metadata": {
        "id": "8mm6d2l_Hpne",
        "outputId": "1fbdedf9-2e7c-4915-dea7-6e5f3abf1103",
        "tags": []
      },
      "outputs": [
        {
          "name": "stdout",
          "output_type": "stream",
          "text": [
            "2024-06-11 08:41:50.850474\n",
            "2024-06-11\n",
            "2024\n",
            "6\n",
            "11\n",
            "8\n",
            "41\n",
            "50\n",
            "850765\n"
          ]
        }
      ],
      "source": [
        "print(pd.Timestamp.now())\n",
        "print(pd.Timestamp.now().date())\n",
        "print(pd.Timestamp.now().year)\n",
        "print(pd.Timestamp.now().month)\n",
        "print(pd.Timestamp.now().day)\n",
        "print(pd.Timestamp.now().hour)\n",
        "print(pd.Timestamp.now().minute)\n",
        "print(pd.Timestamp.now().second)\n",
        "print(pd.Timestamp.now().microsecond)"
      ]
    },
    {
      "cell_type": "code",
      "execution_count": null,
      "metadata": {
        "id": "AJVNWuWcHpne",
        "tags": []
      },
      "outputs": [],
      "source": [
        "# Import date\n",
        "from datetime import datetime"
      ]
    },
    {
      "cell_type": "code",
      "execution_count": null,
      "metadata": {
        "id": "zMvYzIqRHpne",
        "tags": []
      },
      "outputs": [],
      "source": [
        "# generate datetime data\n",
        "\n",
        "df = pd.DataFrame({\n",
        "    'name': ['alice','bob','charlie', 'david', 'mark', 'Judy'],\n",
        "    'date_of_birth': ['10/15/1980','10/29/1988','09/18/1993', '01/11/1990', '07/06/1982', '03/06/1998']\n",
        "})"
      ]
    },
    {
      "cell_type": "code",
      "execution_count": null,
      "metadata": {
        "id": "hf4j4IxHHpne",
        "outputId": "37e45245-453c-44a9-d279-26ca20ed5030",
        "tags": []
      },
      "outputs": [
        {
          "data": {
            "text/html": [
              "<div>\n",
              "<style scoped>\n",
              "    .dataframe tbody tr th:only-of-type {\n",
              "        vertical-align: middle;\n",
              "    }\n",
              "\n",
              "    .dataframe tbody tr th {\n",
              "        vertical-align: top;\n",
              "    }\n",
              "\n",
              "    .dataframe thead th {\n",
              "        text-align: right;\n",
              "    }\n",
              "</style>\n",
              "<table border=\"1\" class=\"dataframe\">\n",
              "  <thead>\n",
              "    <tr style=\"text-align: right;\">\n",
              "      <th></th>\n",
              "      <th>name</th>\n",
              "      <th>date_of_birth</th>\n",
              "    </tr>\n",
              "  </thead>\n",
              "  <tbody>\n",
              "    <tr>\n",
              "      <th>0</th>\n",
              "      <td>alice</td>\n",
              "      <td>10/15/1980</td>\n",
              "    </tr>\n",
              "    <tr>\n",
              "      <th>1</th>\n",
              "      <td>bob</td>\n",
              "      <td>10/29/1988</td>\n",
              "    </tr>\n",
              "    <tr>\n",
              "      <th>2</th>\n",
              "      <td>charlie</td>\n",
              "      <td>09/18/1993</td>\n",
              "    </tr>\n",
              "    <tr>\n",
              "      <th>3</th>\n",
              "      <td>david</td>\n",
              "      <td>01/11/1990</td>\n",
              "    </tr>\n",
              "    <tr>\n",
              "      <th>4</th>\n",
              "      <td>mark</td>\n",
              "      <td>07/06/1982</td>\n",
              "    </tr>\n",
              "    <tr>\n",
              "      <th>5</th>\n",
              "      <td>Judy</td>\n",
              "      <td>03/06/1998</td>\n",
              "    </tr>\n",
              "  </tbody>\n",
              "</table>\n",
              "</div>"
            ],
            "text/plain": [
              "      name date_of_birth\n",
              "0    alice    10/15/1980\n",
              "1      bob    10/29/1988\n",
              "2  charlie    09/18/1993\n",
              "3    david    01/11/1990\n",
              "4     mark    07/06/1982\n",
              "5     Judy    03/06/1998"
            ]
          },
          "execution_count": 157,
          "metadata": {},
          "output_type": "execute_result"
        }
      ],
      "source": [
        "df"
      ]
    },
    {
      "cell_type": "code",
      "execution_count": null,
      "metadata": {
        "id": "9uOM_3JrHpne",
        "outputId": "95d4eb7e-e163-43d9-e83d-917421021792",
        "tags": []
      },
      "outputs": [
        {
          "name": "stdout",
          "output_type": "stream",
          "text": [
            "<class 'pandas.core.frame.DataFrame'>\n",
            "RangeIndex: 6 entries, 0 to 5\n",
            "Data columns (total 2 columns):\n",
            " #   Column         Non-Null Count  Dtype \n",
            "---  ------         --------------  ----- \n",
            " 0   name           6 non-null      object\n",
            " 1   date_of_birth  6 non-null      object\n",
            "dtypes: object(2)\n",
            "memory usage: 224.0+ bytes\n"
          ]
        }
      ],
      "source": [
        "df.info()"
      ]
    },
    {
      "cell_type": "code",
      "execution_count": null,
      "metadata": {
        "id": "y7pz-ab9Hpnf",
        "tags": []
      },
      "outputs": [],
      "source": [
        "df['date_of_birth'] = pd.to_datetime(df['date_of_birth'],  format='%m/%d/%Y')"
      ]
    },
    {
      "cell_type": "code",
      "execution_count": null,
      "metadata": {
        "id": "9m7UZZ6uHpnf",
        "outputId": "64e8707e-b8e6-4317-95bb-44db8d9b8242",
        "tags": []
      },
      "outputs": [
        {
          "data": {
            "text/html": [
              "<div>\n",
              "<style scoped>\n",
              "    .dataframe tbody tr th:only-of-type {\n",
              "        vertical-align: middle;\n",
              "    }\n",
              "\n",
              "    .dataframe tbody tr th {\n",
              "        vertical-align: top;\n",
              "    }\n",
              "\n",
              "    .dataframe thead th {\n",
              "        text-align: right;\n",
              "    }\n",
              "</style>\n",
              "<table border=\"1\" class=\"dataframe\">\n",
              "  <thead>\n",
              "    <tr style=\"text-align: right;\">\n",
              "      <th></th>\n",
              "      <th>name</th>\n",
              "      <th>date_of_birth</th>\n",
              "    </tr>\n",
              "  </thead>\n",
              "  <tbody>\n",
              "    <tr>\n",
              "      <th>0</th>\n",
              "      <td>alice</td>\n",
              "      <td>1980-10-15</td>\n",
              "    </tr>\n",
              "    <tr>\n",
              "      <th>1</th>\n",
              "      <td>bob</td>\n",
              "      <td>1988-10-29</td>\n",
              "    </tr>\n",
              "    <tr>\n",
              "      <th>2</th>\n",
              "      <td>charlie</td>\n",
              "      <td>1993-09-18</td>\n",
              "    </tr>\n",
              "    <tr>\n",
              "      <th>3</th>\n",
              "      <td>david</td>\n",
              "      <td>1990-01-11</td>\n",
              "    </tr>\n",
              "    <tr>\n",
              "      <th>4</th>\n",
              "      <td>mark</td>\n",
              "      <td>1982-07-06</td>\n",
              "    </tr>\n",
              "    <tr>\n",
              "      <th>5</th>\n",
              "      <td>Judy</td>\n",
              "      <td>1998-03-06</td>\n",
              "    </tr>\n",
              "  </tbody>\n",
              "</table>\n",
              "</div>"
            ],
            "text/plain": [
              "      name date_of_birth\n",
              "0    alice    1980-10-15\n",
              "1      bob    1988-10-29\n",
              "2  charlie    1993-09-18\n",
              "3    david    1990-01-11\n",
              "4     mark    1982-07-06\n",
              "5     Judy    1998-03-06"
            ]
          },
          "execution_count": 160,
          "metadata": {},
          "output_type": "execute_result"
        }
      ],
      "source": [
        "df"
      ]
    },
    {
      "cell_type": "code",
      "execution_count": null,
      "metadata": {
        "id": "M-0uFugtHpnf",
        "outputId": "1c123984-8a57-4cad-b8a5-40b2b605dbda",
        "tags": []
      },
      "outputs": [
        {
          "name": "stdout",
          "output_type": "stream",
          "text": [
            "<class 'pandas.core.frame.DataFrame'>\n",
            "RangeIndex: 6 entries, 0 to 5\n",
            "Data columns (total 2 columns):\n",
            " #   Column         Non-Null Count  Dtype         \n",
            "---  ------         --------------  -----         \n",
            " 0   name           6 non-null      object        \n",
            " 1   date_of_birth  6 non-null      datetime64[ns]\n",
            "dtypes: datetime64[ns](1), object(1)\n",
            "memory usage: 224.0+ bytes\n"
          ]
        }
      ],
      "source": [
        "df.info()"
      ]
    },
    {
      "cell_type": "code",
      "execution_count": null,
      "metadata": {
        "id": "U4LqEd8nHpnf",
        "tags": []
      },
      "outputs": [],
      "source": [
        "df[\"todaydatetime\"] = pd.Timestamp.now()"
      ]
    },
    {
      "cell_type": "code",
      "execution_count": null,
      "metadata": {
        "id": "H7a8TkJqHpnf",
        "outputId": "a4d88c28-9233-4701-d07e-b40be1172a07",
        "tags": []
      },
      "outputs": [
        {
          "data": {
            "text/html": [
              "<div>\n",
              "<style scoped>\n",
              "    .dataframe tbody tr th:only-of-type {\n",
              "        vertical-align: middle;\n",
              "    }\n",
              "\n",
              "    .dataframe tbody tr th {\n",
              "        vertical-align: top;\n",
              "    }\n",
              "\n",
              "    .dataframe thead th {\n",
              "        text-align: right;\n",
              "    }\n",
              "</style>\n",
              "<table border=\"1\" class=\"dataframe\">\n",
              "  <thead>\n",
              "    <tr style=\"text-align: right;\">\n",
              "      <th></th>\n",
              "      <th>name</th>\n",
              "      <th>date_of_birth</th>\n",
              "      <th>todaydatetime</th>\n",
              "    </tr>\n",
              "  </thead>\n",
              "  <tbody>\n",
              "    <tr>\n",
              "      <th>0</th>\n",
              "      <td>alice</td>\n",
              "      <td>1980-10-15</td>\n",
              "      <td>2024-06-11 08:42:44.318413</td>\n",
              "    </tr>\n",
              "    <tr>\n",
              "      <th>1</th>\n",
              "      <td>bob</td>\n",
              "      <td>1988-10-29</td>\n",
              "      <td>2024-06-11 08:42:44.318413</td>\n",
              "    </tr>\n",
              "    <tr>\n",
              "      <th>2</th>\n",
              "      <td>charlie</td>\n",
              "      <td>1993-09-18</td>\n",
              "      <td>2024-06-11 08:42:44.318413</td>\n",
              "    </tr>\n",
              "    <tr>\n",
              "      <th>3</th>\n",
              "      <td>david</td>\n",
              "      <td>1990-01-11</td>\n",
              "      <td>2024-06-11 08:42:44.318413</td>\n",
              "    </tr>\n",
              "    <tr>\n",
              "      <th>4</th>\n",
              "      <td>mark</td>\n",
              "      <td>1982-07-06</td>\n",
              "      <td>2024-06-11 08:42:44.318413</td>\n",
              "    </tr>\n",
              "    <tr>\n",
              "      <th>5</th>\n",
              "      <td>Judy</td>\n",
              "      <td>1998-03-06</td>\n",
              "      <td>2024-06-11 08:42:44.318413</td>\n",
              "    </tr>\n",
              "  </tbody>\n",
              "</table>\n",
              "</div>"
            ],
            "text/plain": [
              "      name date_of_birth              todaydatetime\n",
              "0    alice    1980-10-15 2024-06-11 08:42:44.318413\n",
              "1      bob    1988-10-29 2024-06-11 08:42:44.318413\n",
              "2  charlie    1993-09-18 2024-06-11 08:42:44.318413\n",
              "3    david    1990-01-11 2024-06-11 08:42:44.318413\n",
              "4     mark    1982-07-06 2024-06-11 08:42:44.318413\n",
              "5     Judy    1998-03-06 2024-06-11 08:42:44.318413"
            ]
          },
          "execution_count": 163,
          "metadata": {},
          "output_type": "execute_result"
        }
      ],
      "source": [
        "df"
      ]
    },
    {
      "cell_type": "code",
      "execution_count": null,
      "metadata": {
        "id": "AmWHe3JtHpnf",
        "tags": []
      },
      "outputs": [],
      "source": [
        "df['year_of_birth'] = df['date_of_birth'].map(lambda x: x.strftime('%Y'))"
      ]
    },
    {
      "cell_type": "code",
      "execution_count": null,
      "metadata": {
        "id": "8kQl1F7rHpnf",
        "outputId": "564d5b4b-17f0-4df3-d6be-72817ae9e780",
        "tags": []
      },
      "outputs": [
        {
          "data": {
            "text/html": [
              "<div>\n",
              "<style scoped>\n",
              "    .dataframe tbody tr th:only-of-type {\n",
              "        vertical-align: middle;\n",
              "    }\n",
              "\n",
              "    .dataframe tbody tr th {\n",
              "        vertical-align: top;\n",
              "    }\n",
              "\n",
              "    .dataframe thead th {\n",
              "        text-align: right;\n",
              "    }\n",
              "</style>\n",
              "<table border=\"1\" class=\"dataframe\">\n",
              "  <thead>\n",
              "    <tr style=\"text-align: right;\">\n",
              "      <th></th>\n",
              "      <th>name</th>\n",
              "      <th>date_of_birth</th>\n",
              "      <th>todaydatetime</th>\n",
              "      <th>year_of_birth</th>\n",
              "    </tr>\n",
              "  </thead>\n",
              "  <tbody>\n",
              "    <tr>\n",
              "      <th>0</th>\n",
              "      <td>alice</td>\n",
              "      <td>1980-10-15</td>\n",
              "      <td>2024-06-11 08:42:44.318413</td>\n",
              "      <td>1980</td>\n",
              "    </tr>\n",
              "    <tr>\n",
              "      <th>1</th>\n",
              "      <td>bob</td>\n",
              "      <td>1988-10-29</td>\n",
              "      <td>2024-06-11 08:42:44.318413</td>\n",
              "      <td>1988</td>\n",
              "    </tr>\n",
              "    <tr>\n",
              "      <th>2</th>\n",
              "      <td>charlie</td>\n",
              "      <td>1993-09-18</td>\n",
              "      <td>2024-06-11 08:42:44.318413</td>\n",
              "      <td>1993</td>\n",
              "    </tr>\n",
              "    <tr>\n",
              "      <th>3</th>\n",
              "      <td>david</td>\n",
              "      <td>1990-01-11</td>\n",
              "      <td>2024-06-11 08:42:44.318413</td>\n",
              "      <td>1990</td>\n",
              "    </tr>\n",
              "    <tr>\n",
              "      <th>4</th>\n",
              "      <td>mark</td>\n",
              "      <td>1982-07-06</td>\n",
              "      <td>2024-06-11 08:42:44.318413</td>\n",
              "      <td>1982</td>\n",
              "    </tr>\n",
              "    <tr>\n",
              "      <th>5</th>\n",
              "      <td>Judy</td>\n",
              "      <td>1998-03-06</td>\n",
              "      <td>2024-06-11 08:42:44.318413</td>\n",
              "      <td>1998</td>\n",
              "    </tr>\n",
              "  </tbody>\n",
              "</table>\n",
              "</div>"
            ],
            "text/plain": [
              "      name date_of_birth              todaydatetime year_of_birth\n",
              "0    alice    1980-10-15 2024-06-11 08:42:44.318413          1980\n",
              "1      bob    1988-10-29 2024-06-11 08:42:44.318413          1988\n",
              "2  charlie    1993-09-18 2024-06-11 08:42:44.318413          1993\n",
              "3    david    1990-01-11 2024-06-11 08:42:44.318413          1990\n",
              "4     mark    1982-07-06 2024-06-11 08:42:44.318413          1982\n",
              "5     Judy    1998-03-06 2024-06-11 08:42:44.318413          1998"
            ]
          },
          "execution_count": 165,
          "metadata": {},
          "output_type": "execute_result"
        }
      ],
      "source": [
        "df"
      ]
    },
    {
      "cell_type": "code",
      "execution_count": null,
      "metadata": {
        "id": "TuCycMYmHpnf",
        "outputId": "9fcd81bb-0148-4e15-f08c-798a9bece6f7",
        "tags": []
      },
      "outputs": [
        {
          "name": "stdout",
          "output_type": "stream",
          "text": [
            "<class 'pandas.core.frame.DataFrame'>\n",
            "RangeIndex: 6 entries, 0 to 5\n",
            "Data columns (total 4 columns):\n",
            " #   Column         Non-Null Count  Dtype         \n",
            "---  ------         --------------  -----         \n",
            " 0   name           6 non-null      object        \n",
            " 1   date_of_birth  6 non-null      datetime64[ns]\n",
            " 2   todaydatetime  6 non-null      datetime64[us]\n",
            " 3   year_of_birth  6 non-null      object        \n",
            "dtypes: datetime64[ns](1), datetime64[us](1), object(2)\n",
            "memory usage: 320.0+ bytes\n"
          ]
        }
      ],
      "source": [
        "df.info()"
      ]
    },
    {
      "cell_type": "code",
      "execution_count": null,
      "metadata": {
        "id": "fgp4DoEeHpng",
        "tags": []
      },
      "outputs": [],
      "source": [
        "df[\"hour\"] = df[\"todaydatetime\"].dt.hour"
      ]
    },
    {
      "cell_type": "code",
      "execution_count": null,
      "metadata": {
        "id": "KGgVtWbQHpng",
        "outputId": "9d57e64e-8e30-4b48-e1b4-1db8c6ed30e5",
        "tags": []
      },
      "outputs": [
        {
          "data": {
            "text/html": [
              "<div>\n",
              "<style scoped>\n",
              "    .dataframe tbody tr th:only-of-type {\n",
              "        vertical-align: middle;\n",
              "    }\n",
              "\n",
              "    .dataframe tbody tr th {\n",
              "        vertical-align: top;\n",
              "    }\n",
              "\n",
              "    .dataframe thead th {\n",
              "        text-align: right;\n",
              "    }\n",
              "</style>\n",
              "<table border=\"1\" class=\"dataframe\">\n",
              "  <thead>\n",
              "    <tr style=\"text-align: right;\">\n",
              "      <th></th>\n",
              "      <th>name</th>\n",
              "      <th>date_of_birth</th>\n",
              "      <th>todaydatetime</th>\n",
              "      <th>year_of_birth</th>\n",
              "      <th>hour</th>\n",
              "    </tr>\n",
              "  </thead>\n",
              "  <tbody>\n",
              "    <tr>\n",
              "      <th>0</th>\n",
              "      <td>alice</td>\n",
              "      <td>1980-10-15</td>\n",
              "      <td>2024-06-11 08:42:44.318413</td>\n",
              "      <td>1980</td>\n",
              "      <td>8</td>\n",
              "    </tr>\n",
              "    <tr>\n",
              "      <th>1</th>\n",
              "      <td>bob</td>\n",
              "      <td>1988-10-29</td>\n",
              "      <td>2024-06-11 08:42:44.318413</td>\n",
              "      <td>1988</td>\n",
              "      <td>8</td>\n",
              "    </tr>\n",
              "    <tr>\n",
              "      <th>2</th>\n",
              "      <td>charlie</td>\n",
              "      <td>1993-09-18</td>\n",
              "      <td>2024-06-11 08:42:44.318413</td>\n",
              "      <td>1993</td>\n",
              "      <td>8</td>\n",
              "    </tr>\n",
              "    <tr>\n",
              "      <th>3</th>\n",
              "      <td>david</td>\n",
              "      <td>1990-01-11</td>\n",
              "      <td>2024-06-11 08:42:44.318413</td>\n",
              "      <td>1990</td>\n",
              "      <td>8</td>\n",
              "    </tr>\n",
              "    <tr>\n",
              "      <th>4</th>\n",
              "      <td>mark</td>\n",
              "      <td>1982-07-06</td>\n",
              "      <td>2024-06-11 08:42:44.318413</td>\n",
              "      <td>1982</td>\n",
              "      <td>8</td>\n",
              "    </tr>\n",
              "    <tr>\n",
              "      <th>5</th>\n",
              "      <td>Judy</td>\n",
              "      <td>1998-03-06</td>\n",
              "      <td>2024-06-11 08:42:44.318413</td>\n",
              "      <td>1998</td>\n",
              "      <td>8</td>\n",
              "    </tr>\n",
              "  </tbody>\n",
              "</table>\n",
              "</div>"
            ],
            "text/plain": [
              "      name date_of_birth              todaydatetime year_of_birth  hour\n",
              "0    alice    1980-10-15 2024-06-11 08:42:44.318413          1980     8\n",
              "1      bob    1988-10-29 2024-06-11 08:42:44.318413          1988     8\n",
              "2  charlie    1993-09-18 2024-06-11 08:42:44.318413          1993     8\n",
              "3    david    1990-01-11 2024-06-11 08:42:44.318413          1990     8\n",
              "4     mark    1982-07-06 2024-06-11 08:42:44.318413          1982     8\n",
              "5     Judy    1998-03-06 2024-06-11 08:42:44.318413          1998     8"
            ]
          },
          "execution_count": 168,
          "metadata": {},
          "output_type": "execute_result"
        }
      ],
      "source": [
        "df"
      ]
    },
    {
      "cell_type": "code",
      "execution_count": null,
      "metadata": {
        "id": "SHPVgiXHHpng",
        "tags": []
      },
      "outputs": [],
      "source": [
        "df[\"todayyear\"] = pd.Timestamp.now().year"
      ]
    },
    {
      "cell_type": "code",
      "execution_count": null,
      "metadata": {
        "id": "aZmjjwTSHpng",
        "tags": []
      },
      "outputs": [],
      "source": [
        "df['year_of_birth']=df['year_of_birth'].astype(str).astype(int)\n",
        "df['year_todaydatetime']=df['todayyear'].astype(str).astype(int)"
      ]
    },
    {
      "cell_type": "code",
      "execution_count": null,
      "metadata": {
        "id": "aP8OlhW7Hpng",
        "outputId": "dbb0037a-5111-4f70-d95a-743f1188bb97",
        "tags": []
      },
      "outputs": [
        {
          "name": "stdout",
          "output_type": "stream",
          "text": [
            "<class 'pandas.core.frame.DataFrame'>\n",
            "RangeIndex: 6 entries, 0 to 5\n",
            "Data columns (total 7 columns):\n",
            " #   Column              Non-Null Count  Dtype         \n",
            "---  ------              --------------  -----         \n",
            " 0   name                6 non-null      object        \n",
            " 1   date_of_birth       6 non-null      datetime64[ns]\n",
            " 2   todaydatetime       6 non-null      datetime64[us]\n",
            " 3   year_of_birth       6 non-null      int64         \n",
            " 4   hour                6 non-null      int32         \n",
            " 5   todayyear           6 non-null      int64         \n",
            " 6   year_todaydatetime  6 non-null      int64         \n",
            "dtypes: datetime64[ns](1), datetime64[us](1), int32(1), int64(3), object(1)\n",
            "memory usage: 440.0+ bytes\n"
          ]
        }
      ],
      "source": [
        "df.info()"
      ]
    },
    {
      "cell_type": "code",
      "execution_count": null,
      "metadata": {
        "id": "OvzvqKHKHpng",
        "tags": []
      },
      "outputs": [],
      "source": [
        "df['age'] = (df[\"year_todaydatetime\"] - df['year_of_birth'])"
      ]
    },
    {
      "cell_type": "code",
      "execution_count": null,
      "metadata": {
        "id": "MCtrp_-MHpng",
        "outputId": "186bf9ba-52d9-4225-c424-fd8364c720f4",
        "tags": []
      },
      "outputs": [
        {
          "data": {
            "text/html": [
              "<div>\n",
              "<style scoped>\n",
              "    .dataframe tbody tr th:only-of-type {\n",
              "        vertical-align: middle;\n",
              "    }\n",
              "\n",
              "    .dataframe tbody tr th {\n",
              "        vertical-align: top;\n",
              "    }\n",
              "\n",
              "    .dataframe thead th {\n",
              "        text-align: right;\n",
              "    }\n",
              "</style>\n",
              "<table border=\"1\" class=\"dataframe\">\n",
              "  <thead>\n",
              "    <tr style=\"text-align: right;\">\n",
              "      <th></th>\n",
              "      <th>name</th>\n",
              "      <th>date_of_birth</th>\n",
              "      <th>todaydatetime</th>\n",
              "      <th>year_of_birth</th>\n",
              "      <th>hour</th>\n",
              "      <th>todayyear</th>\n",
              "      <th>year_todaydatetime</th>\n",
              "      <th>age</th>\n",
              "    </tr>\n",
              "  </thead>\n",
              "  <tbody>\n",
              "    <tr>\n",
              "      <th>0</th>\n",
              "      <td>alice</td>\n",
              "      <td>1980-10-15</td>\n",
              "      <td>2024-06-11 08:42:44.318413</td>\n",
              "      <td>1980</td>\n",
              "      <td>8</td>\n",
              "      <td>2024</td>\n",
              "      <td>2024</td>\n",
              "      <td>44</td>\n",
              "    </tr>\n",
              "    <tr>\n",
              "      <th>1</th>\n",
              "      <td>bob</td>\n",
              "      <td>1988-10-29</td>\n",
              "      <td>2024-06-11 08:42:44.318413</td>\n",
              "      <td>1988</td>\n",
              "      <td>8</td>\n",
              "      <td>2024</td>\n",
              "      <td>2024</td>\n",
              "      <td>36</td>\n",
              "    </tr>\n",
              "    <tr>\n",
              "      <th>2</th>\n",
              "      <td>charlie</td>\n",
              "      <td>1993-09-18</td>\n",
              "      <td>2024-06-11 08:42:44.318413</td>\n",
              "      <td>1993</td>\n",
              "      <td>8</td>\n",
              "      <td>2024</td>\n",
              "      <td>2024</td>\n",
              "      <td>31</td>\n",
              "    </tr>\n",
              "    <tr>\n",
              "      <th>3</th>\n",
              "      <td>david</td>\n",
              "      <td>1990-01-11</td>\n",
              "      <td>2024-06-11 08:42:44.318413</td>\n",
              "      <td>1990</td>\n",
              "      <td>8</td>\n",
              "      <td>2024</td>\n",
              "      <td>2024</td>\n",
              "      <td>34</td>\n",
              "    </tr>\n",
              "    <tr>\n",
              "      <th>4</th>\n",
              "      <td>mark</td>\n",
              "      <td>1982-07-06</td>\n",
              "      <td>2024-06-11 08:42:44.318413</td>\n",
              "      <td>1982</td>\n",
              "      <td>8</td>\n",
              "      <td>2024</td>\n",
              "      <td>2024</td>\n",
              "      <td>42</td>\n",
              "    </tr>\n",
              "    <tr>\n",
              "      <th>5</th>\n",
              "      <td>Judy</td>\n",
              "      <td>1998-03-06</td>\n",
              "      <td>2024-06-11 08:42:44.318413</td>\n",
              "      <td>1998</td>\n",
              "      <td>8</td>\n",
              "      <td>2024</td>\n",
              "      <td>2024</td>\n",
              "      <td>26</td>\n",
              "    </tr>\n",
              "  </tbody>\n",
              "</table>\n",
              "</div>"
            ],
            "text/plain": [
              "      name date_of_birth              todaydatetime  year_of_birth  hour  \\\n",
              "0    alice    1980-10-15 2024-06-11 08:42:44.318413           1980     8   \n",
              "1      bob    1988-10-29 2024-06-11 08:42:44.318413           1988     8   \n",
              "2  charlie    1993-09-18 2024-06-11 08:42:44.318413           1993     8   \n",
              "3    david    1990-01-11 2024-06-11 08:42:44.318413           1990     8   \n",
              "4     mark    1982-07-06 2024-06-11 08:42:44.318413           1982     8   \n",
              "5     Judy    1998-03-06 2024-06-11 08:42:44.318413           1998     8   \n",
              "\n",
              "   todayyear  year_todaydatetime  age  \n",
              "0       2024                2024   44  \n",
              "1       2024                2024   36  \n",
              "2       2024                2024   31  \n",
              "3       2024                2024   34  \n",
              "4       2024                2024   42  \n",
              "5       2024                2024   26  "
            ]
          },
          "execution_count": 173,
          "metadata": {},
          "output_type": "execute_result"
        }
      ],
      "source": [
        "df"
      ]
    },
    {
      "cell_type": "code",
      "execution_count": null,
      "metadata": {
        "id": "Bob-qG-1Hpng"
      },
      "outputs": [],
      "source": []
    }
  ],
  "metadata": {
    "colab": {
      "provenance": []
    },
    "kernelspec": {
      "display_name": "Python 3.9",
      "language": "python",
      "name": "python3"
    },
    "language_info": {
      "codemirror_mode": {
        "name": "ipython",
        "version": 3
      },
      "file_extension": ".py",
      "mimetype": "text/x-python",
      "name": "python",
      "nbconvert_exporter": "python",
      "pygments_lexer": "ipython3",
      "version": "3.9.16"
    },
    "toc-autonumbering": false,
    "toc-showmarkdowntxt": false
  },
  "nbformat": 4,
  "nbformat_minor": 0
}