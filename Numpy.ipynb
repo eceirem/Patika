{
  "cells": [
    {
      "cell_type": "markdown",
      "metadata": {
        "id": "view-in-github",
        "colab_type": "text"
      },
      "source": [
        "<a href=\"https://colab.research.google.com/github/eceirem/Patika/blob/main/Numpy.ipynb\" target=\"_parent\"><img src=\"https://colab.research.google.com/assets/colab-badge.svg\" alt=\"Open In Colab\"/></a>"
      ]
    },
    {
      "cell_type": "markdown",
      "metadata": {
        "id": "vJ20B-qlVr7U"
      },
      "source": [
        "## NUMPY\n",
        "\n"
      ]
    },
    {
      "cell_type": "code",
      "execution_count": null,
      "metadata": {
        "id": "3TdqxA_lVr7o"
      },
      "outputs": [],
      "source": [
        "import numpy as np"
      ]
    },
    {
      "cell_type": "markdown",
      "source": [],
      "metadata": {
        "id": "rsXR-heRVr7w"
      }
    },
    {
      "cell_type": "markdown",
      "metadata": {
        "id": "_-ZTdrtMVr7y"
      },
      "source": [
        "## Array yaratmak\n"
      ]
    },
    {
      "cell_type": "markdown",
      "metadata": {
        "id": "ASVA-NQPVr70"
      },
      "source": [
        "Python listlerine benzeyen, aynı tipten çok sayıda elemanı içeren, hızlı işlem yapılmasını sağlayan kavramlardır."
      ]
    },
    {
      "cell_type": "code",
      "execution_count": null,
      "metadata": {
        "id": "FSaNvtUdVr72"
      },
      "outputs": [],
      "source": [
        "x= np.array([1,2,3,4])"
      ]
    },
    {
      "cell_type": "code",
      "execution_count": null,
      "metadata": {
        "id": "e41XvsFKVr75"
      },
      "outputs": [],
      "source": [
        "x"
      ]
    },
    {
      "cell_type": "code",
      "execution_count": null,
      "metadata": {
        "id": "5Q1srFzyVr8A"
      },
      "outputs": [],
      "source": [
        "type(x)"
      ]
    },
    {
      "cell_type": "code",
      "execution_count": null,
      "metadata": {
        "id": "nE32MZz1Vr8D"
      },
      "outputs": [],
      "source": [
        "m= np.array([\"a\",\"b\",\"c\"])"
      ]
    },
    {
      "cell_type": "code",
      "execution_count": null,
      "metadata": {
        "id": "53b9WMC4Vr8F"
      },
      "outputs": [],
      "source": [
        "m"
      ]
    },
    {
      "cell_type": "code",
      "execution_count": null,
      "metadata": {
        "id": "dRoSi2IgVr8I"
      },
      "outputs": [],
      "source": [
        "n= np.array([1,2,3,\"a\"])"
      ]
    },
    {
      "cell_type": "code",
      "execution_count": null,
      "metadata": {
        "id": "efHfThiwVr8J"
      },
      "outputs": [],
      "source": [
        "# eğer arrayin içinde bir tane bile karakter varsa; elemanlar, arrayın içinde string tipinde tutulur.\n",
        "n"
      ]
    },
    {
      "cell_type": "code",
      "execution_count": null,
      "metadata": {
        "id": "I1vFoNmuVr8O"
      },
      "outputs": [],
      "source": [
        "# 1 tane float olduğu için dğer integerlar da floata dönüştü\n",
        "z= np.array([1,2,3,3.5])"
      ]
    },
    {
      "cell_type": "code",
      "execution_count": null,
      "metadata": {
        "id": "0nH55gYBVr8Q"
      },
      "outputs": [],
      "source": [
        "z"
      ]
    },
    {
      "cell_type": "markdown",
      "metadata": {
        "id": "RApwkHedVr8R"
      },
      "source": [
        "## Array data tipini belirleme"
      ]
    },
    {
      "cell_type": "code",
      "execution_count": null,
      "metadata": {
        "id": "2xyiF49yVr8S"
      },
      "outputs": [],
      "source": [
        "x=np.array([1,2,3.4])"
      ]
    },
    {
      "cell_type": "code",
      "execution_count": null,
      "metadata": {
        "id": "ZK_NpNkWVr8T"
      },
      "outputs": [],
      "source": [
        "x"
      ]
    },
    {
      "cell_type": "code",
      "execution_count": null,
      "metadata": {
        "id": "KO3sGIIpVr8V"
      },
      "outputs": [],
      "source": [
        "x=np.array([1,2,3.6], dtype=\"int32\")   #arrayin tipini integer yapma"
      ]
    },
    {
      "cell_type": "code",
      "execution_count": null,
      "metadata": {
        "id": "oyaPLReqVr8W"
      },
      "outputs": [],
      "source": [
        "x"
      ]
    },
    {
      "cell_type": "code",
      "execution_count": null,
      "metadata": {
        "id": "n-8b8hk0Vr8X"
      },
      "outputs": [],
      "source": [
        "y=np.array([1,2,3.4], dtype=\"str\") #arrayin tipini str yapma"
      ]
    },
    {
      "cell_type": "code",
      "execution_count": null,
      "metadata": {
        "id": "R-f5eLbkVr8X"
      },
      "outputs": [],
      "source": [
        "y"
      ]
    },
    {
      "cell_type": "code",
      "execution_count": null,
      "metadata": {
        "id": "G5frox3zVr8Z"
      },
      "outputs": [],
      "source": [
        "y=np.array([1,2,3.47], dtype=\"int16\")  #str olduğu için integer hale getiremeyiz."
      ]
    },
    {
      "cell_type": "code",
      "source": [
        "y"
      ],
      "metadata": {
        "id": "91XVU_CqCdM4"
      },
      "execution_count": null,
      "outputs": []
    },
    {
      "cell_type": "markdown",
      "metadata": {
        "id": "k8LR-9ITVr8b"
      },
      "source": [
        "## Elemanları 0 olan array"
      ]
    },
    {
      "cell_type": "markdown",
      "source": [],
      "metadata": {
        "id": "HmHcJenFCoJr"
      }
    },
    {
      "cell_type": "code",
      "execution_count": 32,
      "metadata": {
        "id": "TY-RP_WcVr8d",
        "outputId": "afb8e375-ea3a-4395-a468-87bf0ec3fbd4",
        "colab": {
          "base_uri": "https://localhost:8080/"
        }
      },
      "outputs": [
        {
          "output_type": "execute_result",
          "data": {
            "text/plain": [
              "array([0., 0., 0., 0., 0., 0., 0., 0., 0., 0.])"
            ]
          },
          "metadata": {},
          "execution_count": 32
        }
      ],
      "source": [
        "np.zeros(10)"
      ]
    },
    {
      "cell_type": "code",
      "execution_count": 29,
      "metadata": {
        "id": "madToddCVr8e",
        "outputId": "af0692d1-636a-4374-8322-ffebe717df4a",
        "colab": {
          "base_uri": "https://localhost:8080/"
        }
      },
      "outputs": [
        {
          "output_type": "execute_result",
          "data": {
            "text/plain": [
              "array([[0., 0., 0., 0., 0.],\n",
              "       [0., 0., 0., 0., 0.],\n",
              "       [0., 0., 0., 0., 0.]])"
            ]
          },
          "metadata": {},
          "execution_count": 29
        }
      ],
      "source": [
        "#3 satır(row) ve 5 sütun(kolon)\n",
        "np.zeros((3,5))"
      ]
    },
    {
      "cell_type": "code",
      "execution_count": 31,
      "metadata": {
        "id": "8ZIzbnXZVr8f",
        "outputId": "a101275d-6edc-4535-be36-94ce6549975d",
        "colab": {
          "base_uri": "https://localhost:8080/"
        }
      },
      "outputs": [
        {
          "output_type": "execute_result",
          "data": {
            "text/plain": [
              "array([[0., 0., 0., 0., 0.],\n",
              "       [0., 0., 0., 0., 0.],\n",
              "       [0., 0., 0., 0., 0.]])"
            ]
          },
          "metadata": {},
          "execution_count": 31
        }
      ],
      "source": [
        "# 2 boyutlu 3x5 lik array matris\n",
        "x= np.zeros([3,5])\n",
        "x"
      ]
    },
    {
      "cell_type": "code",
      "execution_count": 33,
      "metadata": {
        "id": "BIiKHqekVr8g",
        "outputId": "614f9eb0-041e-4e89-a1a6-890b7bbbfd63",
        "colab": {
          "base_uri": "https://localhost:8080/"
        }
      },
      "outputs": [
        {
          "output_type": "execute_result",
          "data": {
            "text/plain": [
              "array([[[0., 0., 0., 0., 0., 0., 0.],\n",
              "        [0., 0., 0., 0., 0., 0., 0.],\n",
              "        [0., 0., 0., 0., 0., 0., 0.],\n",
              "        [0., 0., 0., 0., 0., 0., 0.],\n",
              "        [0., 0., 0., 0., 0., 0., 0.]],\n",
              "\n",
              "       [[0., 0., 0., 0., 0., 0., 0.],\n",
              "        [0., 0., 0., 0., 0., 0., 0.],\n",
              "        [0., 0., 0., 0., 0., 0., 0.],\n",
              "        [0., 0., 0., 0., 0., 0., 0.],\n",
              "        [0., 0., 0., 0., 0., 0., 0.]],\n",
              "\n",
              "       [[0., 0., 0., 0., 0., 0., 0.],\n",
              "        [0., 0., 0., 0., 0., 0., 0.],\n",
              "        [0., 0., 0., 0., 0., 0., 0.],\n",
              "        [0., 0., 0., 0., 0., 0., 0.],\n",
              "        [0., 0., 0., 0., 0., 0., 0.]],\n",
              "\n",
              "       [[0., 0., 0., 0., 0., 0., 0.],\n",
              "        [0., 0., 0., 0., 0., 0., 0.],\n",
              "        [0., 0., 0., 0., 0., 0., 0.],\n",
              "        [0., 0., 0., 0., 0., 0., 0.],\n",
              "        [0., 0., 0., 0., 0., 0., 0.]]])"
            ]
          },
          "metadata": {},
          "execution_count": 33
        }
      ],
      "source": [
        "# 3 boyutlu\n",
        "# 4 tane 5x7 lik array kur\n",
        "y= np.zeros([4,5,7])\n",
        "y"
      ]
    },
    {
      "cell_type": "markdown",
      "metadata": {
        "id": "Y1YrsocLVr8i"
      },
      "source": [
        "## array bilgilerine erişme"
      ]
    },
    {
      "cell_type": "code",
      "execution_count": 34,
      "metadata": {
        "id": "QuwkzbbBVr8j",
        "outputId": "dcedb62f-a12a-4b2d-d0aa-b3106ee85874",
        "colab": {
          "base_uri": "https://localhost:8080/"
        }
      },
      "outputs": [
        {
          "output_type": "execute_result",
          "data": {
            "text/plain": [
              "(3, 5)"
            ]
          },
          "metadata": {},
          "execution_count": 34
        }
      ],
      "source": [
        "x.shape"
      ]
    },
    {
      "cell_type": "code",
      "execution_count": 35,
      "metadata": {
        "id": "cUFMaLdCVr8k",
        "outputId": "b2bfbdf3-8f04-4667-b370-02870d4425c8",
        "colab": {
          "base_uri": "https://localhost:8080/"
        }
      },
      "outputs": [
        {
          "output_type": "execute_result",
          "data": {
            "text/plain": [
              "(4, 5, 7)"
            ]
          },
          "metadata": {},
          "execution_count": 35
        }
      ],
      "source": [
        "y.shape"
      ]
    },
    {
      "cell_type": "code",
      "execution_count": 36,
      "metadata": {
        "id": "fXhjoKq0Vr8l",
        "outputId": "d34ebf30-4db8-4a5b-ef36-48e3ccbc0b25",
        "colab": {
          "base_uri": "https://localhost:8080/"
        }
      },
      "outputs": [
        {
          "output_type": "execute_result",
          "data": {
            "text/plain": [
              "2"
            ]
          },
          "metadata": {},
          "execution_count": 36
        }
      ],
      "source": [
        "#boyut\n",
        "x.ndim"
      ]
    },
    {
      "cell_type": "code",
      "execution_count": 37,
      "metadata": {
        "id": "i2_jy_UiVr8n",
        "outputId": "9c3b3494-4b26-454e-af67-26931f8b01d6",
        "colab": {
          "base_uri": "https://localhost:8080/"
        }
      },
      "outputs": [
        {
          "output_type": "execute_result",
          "data": {
            "text/plain": [
              "3"
            ]
          },
          "metadata": {},
          "execution_count": 37
        }
      ],
      "source": [
        "#boyut\n",
        "y.ndim"
      ]
    },
    {
      "cell_type": "code",
      "execution_count": 38,
      "metadata": {
        "id": "mzhQBQdQVr8o",
        "outputId": "14467df0-91cb-4152-e9d4-efcdfa63b026",
        "colab": {
          "base_uri": "https://localhost:8080/"
        }
      },
      "outputs": [
        {
          "output_type": "execute_result",
          "data": {
            "text/plain": [
              "15"
            ]
          },
          "metadata": {},
          "execution_count": 38
        }
      ],
      "source": [
        "#array içindeki eleman (3*5)\n",
        "x.size"
      ]
    },
    {
      "cell_type": "code",
      "execution_count": 39,
      "metadata": {
        "id": "Ht93pTOjVr8p",
        "outputId": "8aca1be4-cbd3-4eca-9571-c3be29cf6a15",
        "colab": {
          "base_uri": "https://localhost:8080/"
        }
      },
      "outputs": [
        {
          "output_type": "execute_result",
          "data": {
            "text/plain": [
              "140"
            ]
          },
          "metadata": {},
          "execution_count": 39
        }
      ],
      "source": [
        "y.size #(4*5*7)"
      ]
    },
    {
      "cell_type": "markdown",
      "metadata": {
        "id": "PEdgBlfCVr8q"
      },
      "source": [
        "### np.full"
      ]
    },
    {
      "cell_type": "code",
      "execution_count": 41,
      "metadata": {
        "id": "Hko10vstVr8r",
        "outputId": "9df1af82-a228-470e-889e-f6380e471415",
        "colab": {
          "base_uri": "https://localhost:8080/"
        }
      },
      "outputs": [
        {
          "output_type": "execute_result",
          "data": {
            "text/plain": [
              "array([[7, 7, 7, 7, 7],\n",
              "       [7, 7, 7, 7, 7],\n",
              "       [7, 7, 7, 7, 7]])"
            ]
          },
          "metadata": {},
          "execution_count": 41
        }
      ],
      "source": [
        "# 3x5 lik elemanları 7 olan array\n",
        "np.full((3,5),7)"
      ]
    },
    {
      "cell_type": "code",
      "execution_count": 40,
      "metadata": {
        "id": "lNeG4fTWVr8s",
        "outputId": "a326d5c4-f7d5-4758-af0d-e54ade870bef",
        "colab": {
          "base_uri": "https://localhost:8080/"
        }
      },
      "outputs": [
        {
          "output_type": "execute_result",
          "data": {
            "text/plain": [
              "array([[7, 7, 7, 7, 7],\n",
              "       [7, 7, 7, 7, 7],\n",
              "       [7, 7, 7, 7, 7]], dtype=int32)"
            ]
          },
          "metadata": {},
          "execution_count": 40
        }
      ],
      "source": [
        "np.full((3,5),7, dtype=\"int32\")"
      ]
    },
    {
      "cell_type": "code",
      "execution_count": 42,
      "metadata": {
        "id": "4eMfl18fVr8u",
        "outputId": "f3a1fac6-276f-4086-cf99-7160c7e05ae3",
        "colab": {
          "base_uri": "https://localhost:8080/"
        }
      },
      "outputs": [
        {
          "output_type": "execute_result",
          "data": {
            "text/plain": [
              "array([['m', 'm', 'm', 'm', 'm'],\n",
              "       ['m', 'm', 'm', 'm', 'm'],\n",
              "       ['m', 'm', 'm', 'm', 'm']], dtype='<U1')"
            ]
          },
          "metadata": {},
          "execution_count": 42
        }
      ],
      "source": [
        "np.full((3,5),\"m\")"
      ]
    },
    {
      "cell_type": "markdown",
      "metadata": {
        "id": "1oHnOZKVVr9E"
      },
      "source": [
        "### ardışık sayılardan array"
      ]
    },
    {
      "cell_type": "code",
      "execution_count": 43,
      "metadata": {
        "id": "IwO1yynPVr9G",
        "outputId": "6e1090ed-a71e-4438-ae46-0aedcc2c3999",
        "colab": {
          "base_uri": "https://localhost:8080/"
        }
      },
      "outputs": [
        {
          "output_type": "execute_result",
          "data": {
            "text/plain": [
              "array([ 0,  1,  2,  3,  4,  5,  6,  7,  8,  9, 10, 11])"
            ]
          },
          "metadata": {},
          "execution_count": 43
        }
      ],
      "source": [
        "np.arange(0,12)"
      ]
    },
    {
      "cell_type": "code",
      "execution_count": 44,
      "metadata": {
        "id": "cYTHxFsqVr9H",
        "outputId": "7174fea2-706e-4742-a974-a2552a876904",
        "colab": {
          "base_uri": "https://localhost:8080/"
        }
      },
      "outputs": [
        {
          "output_type": "execute_result",
          "data": {
            "text/plain": [
              "array([ 0,  2,  4,  6,  8, 10, 12])"
            ]
          },
          "metadata": {},
          "execution_count": 44
        }
      ],
      "source": [
        "np.arange(0,14,2) # 2 atlamalı şekilde 14'e kadar array oluşturdu"
      ]
    },
    {
      "cell_type": "markdown",
      "metadata": {
        "id": "k0OXcQM4Vr9J"
      },
      "source": [
        "## aralığı eşit uzaklıkta bölerek array oluşturma"
      ]
    },
    {
      "cell_type": "markdown",
      "metadata": {
        "id": "pwOPNhAdVr9K"
      },
      "source": [
        "verilen başlangıç ve bitiş noktasına göre, başlangıç ve bitiş noktası da dahil, aradaki sayıları eşit uzaklıkta olacak şekilde yazarak oluşturur. (linspace)"
      ]
    },
    {
      "cell_type": "code",
      "execution_count": 45,
      "metadata": {
        "id": "feaxe0orVr9L",
        "outputId": "1f86e1bc-131a-4378-df60-33fd08bfcdad",
        "colab": {
          "base_uri": "https://localhost:8080/"
        }
      },
      "outputs": [
        {
          "output_type": "execute_result",
          "data": {
            "text/plain": [
              "array([1.        , 1.02040816, 1.04081633, 1.06122449, 1.08163265,\n",
              "       1.10204082, 1.12244898, 1.14285714, 1.16326531, 1.18367347,\n",
              "       1.20408163, 1.2244898 , 1.24489796, 1.26530612, 1.28571429,\n",
              "       1.30612245, 1.32653061, 1.34693878, 1.36734694, 1.3877551 ,\n",
              "       1.40816327, 1.42857143, 1.44897959, 1.46938776, 1.48979592,\n",
              "       1.51020408, 1.53061224, 1.55102041, 1.57142857, 1.59183673,\n",
              "       1.6122449 , 1.63265306, 1.65306122, 1.67346939, 1.69387755,\n",
              "       1.71428571, 1.73469388, 1.75510204, 1.7755102 , 1.79591837,\n",
              "       1.81632653, 1.83673469, 1.85714286, 1.87755102, 1.89795918,\n",
              "       1.91836735, 1.93877551, 1.95918367, 1.97959184, 2.        ])"
            ]
          },
          "metadata": {},
          "execution_count": 45
        }
      ],
      "source": [
        "#default olarak aradaki mesafeyi 50 nokta olacak şekilde yazar\n",
        "np.linspace(1,2)"
      ]
    },
    {
      "cell_type": "code",
      "execution_count": 46,
      "metadata": {
        "id": "na0wD82VVr9N",
        "outputId": "00d6bac2-b288-40d7-f0c4-d5e9ed690593",
        "colab": {
          "base_uri": "https://localhost:8080/"
        }
      },
      "outputs": [
        {
          "output_type": "execute_result",
          "data": {
            "text/plain": [
              "1"
            ]
          },
          "metadata": {},
          "execution_count": 46
        }
      ],
      "source": [
        "np.linspace(1,2).ndim"
      ]
    },
    {
      "cell_type": "code",
      "execution_count": 48,
      "metadata": {
        "id": "qK3buFViVr9O",
        "outputId": "346a1e83-5f8d-4a90-f0f5-aca0f932cf3a",
        "colab": {
          "base_uri": "https://localhost:8080/"
        }
      },
      "outputs": [
        {
          "output_type": "execute_result",
          "data": {
            "text/plain": [
              "array([1. , 1.5, 2. ])"
            ]
          },
          "metadata": {},
          "execution_count": 48
        }
      ],
      "source": [
        "#num=3 ile 1-2 arasındaki mesafeyi kendileri dahil 3'e bölüyor.\n",
        "np.linspace(1,2,num=3)"
      ]
    },
    {
      "cell_type": "code",
      "execution_count": 49,
      "metadata": {
        "id": "obZYw_I7Vr9Q",
        "colab": {
          "base_uri": "https://localhost:8080/"
        },
        "outputId": "87cde64d-e983-48de-889b-ab77bffc7108"
      },
      "outputs": [
        {
          "output_type": "execute_result",
          "data": {
            "text/plain": [
              "array([1.5 , 2.25, 3.  ])"
            ]
          },
          "metadata": {},
          "execution_count": 49
        }
      ],
      "source": [
        "np.linspace(1.5,3, num=3)"
      ]
    },
    {
      "cell_type": "markdown",
      "metadata": {
        "id": "PvgpHIDpVr9R"
      },
      "source": [
        "## Normal Dağılıma Uygun değerler ile array oluşturma"
      ]
    },
    {
      "cell_type": "code",
      "execution_count": null,
      "metadata": {
        "id": "HroRSJGOVr9S"
      },
      "outputs": [],
      "source": [
        "#np.random.normal(mean, std, array, shape) şeklinde"
      ]
    },
    {
      "cell_type": "code",
      "execution_count": 58,
      "metadata": {
        "id": "rXG9QnbWVr9T",
        "outputId": "a53e56a4-c49f-40d1-a5ab-9188afa6a3bb",
        "colab": {
          "base_uri": "https://localhost:8080/"
        }
      },
      "outputs": [
        {
          "output_type": "execute_result",
          "data": {
            "text/plain": [
              "array([[16.87179049, 14.6026017 , 12.37896151,  9.70173747, 10.52043345],\n",
              "       [ 9.26453146,  6.93093826, 12.82390406, 13.26913645,  9.49492439],\n",
              "       [11.07006368,  9.02883531,  9.67006901,  6.21280103,  8.7612059 ]])"
            ]
          },
          "metadata": {},
          "execution_count": 58
        }
      ],
      "source": [
        "np.random.normal(10,3, (3,5))\n",
        "#0 ortalamalı, standart sapması 1 olacak şekilde (3x5)lik\n",
        "#bir normal dağılıma uygun array oluşturduk"
      ]
    },
    {
      "cell_type": "code",
      "execution_count": 56,
      "metadata": {
        "id": "rLar-bZmVr9U",
        "outputId": "1849083f-84bf-4ce3-830c-f5231d9aa858",
        "colab": {
          "base_uri": "https://localhost:8080/"
        }
      },
      "outputs": [
        {
          "output_type": "execute_result",
          "data": {
            "text/plain": [
              "array([[ -50.02140171,    6.41623422,   62.04574923,   -6.06718225,\n",
              "         -77.95775937],\n",
              "       [ -65.24335184,   20.10599295,  138.8789697 ,   20.66213741,\n",
              "        -157.66138393],\n",
              "       [ -78.37072975,  -88.74088993,  -16.38757383,  220.66506015,\n",
              "         -25.6610091 ]])"
            ]
          },
          "metadata": {},
          "execution_count": 56
        }
      ],
      "source": [
        "np.random.normal(0,100, (3,5))"
      ]
    },
    {
      "cell_type": "markdown",
      "metadata": {
        "id": "ag1GG-bJVr9W"
      },
      "source": [
        "## Random olarak"
      ]
    },
    {
      "cell_type": "code",
      "execution_count": 59,
      "metadata": {
        "id": "OFHW6Hf7Vr9Y",
        "outputId": "f23c3584-8c78-4736-8999-39740653ecee",
        "colab": {
          "base_uri": "https://localhost:8080/"
        }
      },
      "outputs": [
        {
          "output_type": "execute_result",
          "data": {
            "text/plain": [
              "array([[14,  8,  8, 10,  5],\n",
              "       [ 5, 10,  5, 12,  2],\n",
              "       [ 6,  1, 13, 13,  4]])"
            ]
          },
          "metadata": {},
          "execution_count": 59
        }
      ],
      "source": [
        "# np.random.randint(low,high)\n",
        "# 15 dahil değil\n",
        "\n",
        "np.random.randint(1,15,(3,5))"
      ]
    },
    {
      "cell_type": "code",
      "execution_count": 61,
      "metadata": {
        "id": "UMUHPWFgVr9Z",
        "outputId": "83f4a4e8-65f5-4bc7-e8d9-93fd9f1e8ec2",
        "colab": {
          "base_uri": "https://localhost:8080/"
        }
      },
      "outputs": [
        {
          "output_type": "execute_result",
          "data": {
            "text/plain": [
              "array([[ 6,  8,  5, 11,  8],\n",
              "       [ 8,  7,  8,  6, 10],\n",
              "       [ 5, 13, 12,  9,  9]])"
            ]
          },
          "metadata": {},
          "execution_count": 61
        }
      ],
      "source": [
        "np.random.randint(5,15,(3,5))"
      ]
    },
    {
      "cell_type": "code",
      "execution_count": 62,
      "metadata": {
        "id": "XsX1mcOpVr9a",
        "outputId": "9b136958-c3cc-4406-9979-56751c3c836d",
        "colab": {
          "base_uri": "https://localhost:8080/"
        }
      },
      "outputs": [
        {
          "output_type": "execute_result",
          "data": {
            "text/plain": [
              "array([[1., 0., 0., 0.],\n",
              "       [0., 1., 0., 0.],\n",
              "       [0., 0., 1., 0.],\n",
              "       [0., 0., 0., 1.]])"
            ]
          },
          "metadata": {},
          "execution_count": 62
        }
      ],
      "source": [
        "# birim array yaratma (köşegenleri 1 olan diğer elemanları 0 olan array)\n",
        "np.eye(4,4)"
      ]
    },
    {
      "cell_type": "code",
      "execution_count": 63,
      "metadata": {
        "id": "4FWUMLlJVr9b",
        "outputId": "ee58c4b7-16f4-420d-c445-03d87757a049",
        "colab": {
          "base_uri": "https://localhost:8080/"
        }
      },
      "outputs": [
        {
          "output_type": "execute_result",
          "data": {
            "text/plain": [
              "array([[1., 0., 0., 0.],\n",
              "       [0., 1., 0., 0.],\n",
              "       [0., 0., 1., 0.]])"
            ]
          },
          "metadata": {},
          "execution_count": 63
        }
      ],
      "source": [
        "np.eye(3,4)"
      ]
    },
    {
      "cell_type": "markdown",
      "metadata": {
        "id": "jYnFz0UUVr9c"
      },
      "source": [
        "# Array Matematiksel İşlemler"
      ]
    },
    {
      "cell_type": "code",
      "execution_count": 64,
      "metadata": {
        "id": "tc0E57ydVr9f"
      },
      "outputs": [],
      "source": [
        "x= np.array([1,2,3])\n",
        "y= np.array([4,5,6])"
      ]
    },
    {
      "cell_type": "code",
      "execution_count": 65,
      "metadata": {
        "id": "FTRkJze8Vr9f",
        "outputId": "c79493c6-96f4-489e-ae4e-ed7134715a4d",
        "colab": {
          "base_uri": "https://localhost:8080/"
        }
      },
      "outputs": [
        {
          "output_type": "execute_result",
          "data": {
            "text/plain": [
              "array([ 4, 10, 18])"
            ]
          },
          "metadata": {},
          "execution_count": 65
        }
      ],
      "source": [
        "x*y"
      ]
    },
    {
      "cell_type": "code",
      "execution_count": 66,
      "metadata": {
        "id": "azE6bwXWVr9g",
        "outputId": "c8dda214-c5a7-4f49-bf2b-30a83be7d7dd",
        "colab": {
          "base_uri": "https://localhost:8080/"
        }
      },
      "outputs": [
        {
          "output_type": "execute_result",
          "data": {
            "text/plain": [
              "array([5, 7, 9])"
            ]
          },
          "metadata": {},
          "execution_count": 66
        }
      ],
      "source": [
        "x+y"
      ]
    },
    {
      "cell_type": "code",
      "execution_count": 67,
      "metadata": {
        "id": "Nsxj2YL2Vr9i",
        "outputId": "aadfbd39-f611-44a2-abab-24ad2d88ac71",
        "colab": {
          "base_uri": "https://localhost:8080/"
        }
      },
      "outputs": [
        {
          "output_type": "stream",
          "name": "stdout",
          "text": [
            "[5 7 9]\n"
          ]
        }
      ],
      "source": [
        "print(x+y)"
      ]
    },
    {
      "cell_type": "code",
      "execution_count": 68,
      "metadata": {
        "id": "7wnrfhXXVr9j",
        "outputId": "2c39fdc5-8fa4-4d4a-cbb5-54ff59dae7f3",
        "colab": {
          "base_uri": "https://localhost:8080/",
          "height": 176
        },
        "collapsed": true
      },
      "outputs": [
        {
          "output_type": "error",
          "ename": "ValueError",
          "evalue": "operands could not be broadcast together with shapes (3,) (4,) ",
          "traceback": [
            "\u001b[0;31m---------------------------------------------------------------------------\u001b[0m",
            "\u001b[0;31mValueError\u001b[0m                                Traceback (most recent call last)",
            "\u001b[0;32m<ipython-input-68-c1cf3878fdf8>\u001b[0m in \u001b[0;36m<cell line: 0>\u001b[0;34m()\u001b[0m\n\u001b[1;32m      2\u001b[0m \u001b[0my\u001b[0m\u001b[0;34m=\u001b[0m \u001b[0mnp\u001b[0m\u001b[0;34m.\u001b[0m\u001b[0marray\u001b[0m\u001b[0;34m(\u001b[0m\u001b[0;34m[\u001b[0m\u001b[0;36m4\u001b[0m\u001b[0;34m,\u001b[0m\u001b[0;36m5\u001b[0m\u001b[0;34m,\u001b[0m\u001b[0;36m6\u001b[0m\u001b[0;34m,\u001b[0m\u001b[0;36m8\u001b[0m\u001b[0;34m]\u001b[0m\u001b[0;34m)\u001b[0m\u001b[0;34m\u001b[0m\u001b[0;34m\u001b[0m\u001b[0m\n\u001b[1;32m      3\u001b[0m \u001b[0;34m\u001b[0m\u001b[0m\n\u001b[0;32m----> 4\u001b[0;31m \u001b[0mx\u001b[0m\u001b[0;34m*\u001b[0m\u001b[0my\u001b[0m  \u001b[0;31m#(arraylar birbirine denk olmadığı için hata aldık)\u001b[0m\u001b[0;34m\u001b[0m\u001b[0;34m\u001b[0m\u001b[0m\n\u001b[0m",
            "\u001b[0;31mValueError\u001b[0m: operands could not be broadcast together with shapes (3,) (4,) "
          ]
        }
      ],
      "source": [
        "x= np.array([1,2,3])\n",
        "y= np.array([4,5,6,8])\n",
        "\n",
        "x*y  #(arraylar birbirine denk olmadığı için hata aldık)"
      ]
    },
    {
      "cell_type": "code",
      "execution_count": 69,
      "metadata": {
        "id": "p7DKpY26Vr9k",
        "outputId": "688bd97b-ac4b-4fd2-9ba5-30dd263d7029",
        "colab": {
          "base_uri": "https://localhost:8080/"
        }
      },
      "outputs": [
        {
          "output_type": "execute_result",
          "data": {
            "text/plain": [
              "[1, 2, 3, 4, 5, 6]"
            ]
          },
          "metadata": {},
          "execution_count": 69
        }
      ],
      "source": [
        "#note: listede toplama işlemi tanımlı değil\n",
        "[1,2,3] + [4,5,6]"
      ]
    },
    {
      "cell_type": "code",
      "execution_count": 70,
      "metadata": {
        "id": "5QR4BbKNVr9m",
        "outputId": "c195cd31-bb38-41cb-e8db-a70b6cc13509",
        "colab": {
          "base_uri": "https://localhost:8080/"
        }
      },
      "outputs": [
        {
          "output_type": "execute_result",
          "data": {
            "text/plain": [
              "array([[1, 2, 3],\n",
              "       [4, 5, 6]])"
            ]
          },
          "metadata": {},
          "execution_count": 70
        }
      ],
      "source": [
        "a= np.array([[1,2,3],[4,5,6]])\n",
        "a"
      ]
    },
    {
      "cell_type": "code",
      "execution_count": 71,
      "metadata": {
        "id": "IXJOhvT8Vr9n",
        "outputId": "340d5fc0-ddd9-4998-ca73-2c31e07c7540",
        "colab": {
          "base_uri": "https://localhost:8080/"
        }
      },
      "outputs": [
        {
          "output_type": "execute_result",
          "data": {
            "text/plain": [
              "2"
            ]
          },
          "metadata": {},
          "execution_count": 71
        }
      ],
      "source": [
        "a.ndim"
      ]
    },
    {
      "cell_type": "code",
      "execution_count": 72,
      "metadata": {
        "id": "5Ap2U-JWVr9o",
        "outputId": "12c56571-6ce2-4a23-d61f-7644e98126c9",
        "colab": {
          "base_uri": "https://localhost:8080/"
        }
      },
      "outputs": [
        {
          "output_type": "execute_result",
          "data": {
            "text/plain": [
              "(2, 3)"
            ]
          },
          "metadata": {},
          "execution_count": 72
        }
      ],
      "source": [
        "a.shape"
      ]
    },
    {
      "cell_type": "code",
      "execution_count": 73,
      "metadata": {
        "id": "_HJsAdLuVr9p",
        "outputId": "df9a490f-e926-4753-a287-13f6f967369a",
        "colab": {
          "base_uri": "https://localhost:8080/"
        }
      },
      "outputs": [
        {
          "output_type": "execute_result",
          "data": {
            "text/plain": [
              "array([[ 1,  4,  9],\n",
              "       [16, 25, 36]])"
            ]
          },
          "metadata": {},
          "execution_count": 73
        }
      ],
      "source": [
        "a*a"
      ]
    },
    {
      "cell_type": "code",
      "execution_count": 74,
      "metadata": {
        "id": "4xWCXxw1Vr9q",
        "outputId": "d31f16c0-d5d7-42b2-f198-a1f41ac14065",
        "colab": {
          "base_uri": "https://localhost:8080/"
        }
      },
      "outputs": [
        {
          "output_type": "execute_result",
          "data": {
            "text/plain": [
              "array([[ 2,  4,  6],\n",
              "       [ 8, 10, 12]])"
            ]
          },
          "metadata": {},
          "execution_count": 74
        }
      ],
      "source": [
        "a+a"
      ]
    },
    {
      "cell_type": "code",
      "execution_count": 75,
      "metadata": {
        "id": "ItubDOtRVr9s",
        "outputId": "f0d0c434-2306-4cb2-86f3-98d9fa7f37ca",
        "colab": {
          "base_uri": "https://localhost:8080/"
        }
      },
      "outputs": [
        {
          "output_type": "execute_result",
          "data": {
            "text/plain": [
              "array([[1., 1., 1.],\n",
              "       [1., 1., 1.]])"
            ]
          },
          "metadata": {},
          "execution_count": 75
        }
      ],
      "source": [
        "a/a"
      ]
    },
    {
      "cell_type": "code",
      "execution_count": 76,
      "metadata": {
        "id": "y0wr9RL0Vr9t",
        "outputId": "78cf5ddc-5560-43d4-d094-d7057e18466a",
        "colab": {
          "base_uri": "https://localhost:8080/"
        }
      },
      "outputs": [
        {
          "output_type": "execute_result",
          "data": {
            "text/plain": [
              "array([[ 3,  6,  9],\n",
              "       [12, 15, 18]])"
            ]
          },
          "metadata": {},
          "execution_count": 76
        }
      ],
      "source": [
        "a*3"
      ]
    },
    {
      "cell_type": "code",
      "execution_count": 77,
      "metadata": {
        "id": "T6vZXOpiVr9v",
        "outputId": "07c37ad8-d94f-4e03-e365-07e9a931c962",
        "colab": {
          "base_uri": "https://localhost:8080/"
        }
      },
      "outputs": [
        {
          "output_type": "execute_result",
          "data": {
            "text/plain": [
              "array([[ 6,  7,  8],\n",
              "       [ 9, 10, 11]])"
            ]
          },
          "metadata": {},
          "execution_count": 77
        }
      ],
      "source": [
        "a+5"
      ]
    },
    {
      "cell_type": "code",
      "execution_count": 78,
      "metadata": {
        "id": "qskI5Y_FVr9w",
        "outputId": "b5c988c5-3359-4ec8-adeb-eef64e340749",
        "colab": {
          "base_uri": "https://localhost:8080/"
        }
      },
      "outputs": [
        {
          "output_type": "execute_result",
          "data": {
            "text/plain": [
              "array([[1.        , 1.41421356, 1.73205081],\n",
              "       [2.        , 2.23606798, 2.44948974]])"
            ]
          },
          "metadata": {},
          "execution_count": 78
        }
      ],
      "source": [
        "#her bir değerin karekökünü aldı\n",
        "np.sqrt(a)"
      ]
    },
    {
      "cell_type": "code",
      "execution_count": 80,
      "metadata": {
        "id": "j86cMiQGVr9y",
        "outputId": "e674b71f-de9c-4395-fbdd-2538e14f20fb",
        "colab": {
          "base_uri": "https://localhost:8080/"
        }
      },
      "outputs": [
        {
          "output_type": "stream",
          "name": "stdout",
          "text": [
            "[[ 6  7]\n",
            " [ 8  6]\n",
            " [13 11]]\n"
          ]
        }
      ],
      "source": [
        "#matris gibi çarpım yapar.\n",
        "#(dot) (shapelerin aynı olmasına gerek yoktur)\n",
        "\n",
        "a1 = np.array([[1,2],\n",
        "               [2,0],\n",
        "               [3,1]])\n",
        "\n",
        "a2 = np.array ([[4,3],\n",
        "                [1,2]])\n",
        "\n",
        "print(np.dot(a1,a2))"
      ]
    },
    {
      "cell_type": "markdown",
      "metadata": {
        "id": "rblnarktVr9z"
      },
      "source": [
        "## Reshape"
      ]
    },
    {
      "cell_type": "code",
      "execution_count": 81,
      "metadata": {
        "id": "F6mLeh0gVr90",
        "outputId": "07cdfed0-743a-429a-e85f-48f5a30842ff",
        "colab": {
          "base_uri": "https://localhost:8080/"
        }
      },
      "outputs": [
        {
          "output_type": "execute_result",
          "data": {
            "text/plain": [
              "array([ 1,  2,  3,  4,  5,  6,  7,  8,  9, 10])"
            ]
          },
          "metadata": {},
          "execution_count": 81
        }
      ],
      "source": [
        "m=np.arange(1,11)\n",
        "m"
      ]
    },
    {
      "cell_type": "code",
      "execution_count": 82,
      "metadata": {
        "id": "lmhx43I0Vr95",
        "outputId": "181b867d-3628-4d2d-bba1-bace0496adf2",
        "colab": {
          "base_uri": "https://localhost:8080/"
        }
      },
      "outputs": [
        {
          "output_type": "execute_result",
          "data": {
            "text/plain": [
              "array([[ 1,  2,  3,  4,  5],\n",
              "       [ 6,  7,  8,  9, 10]])"
            ]
          },
          "metadata": {},
          "execution_count": 82
        }
      ],
      "source": [
        "m.reshape(2,5) # 2*5 = 10 olduğundan ve 10=m olduğundan hatasız çalışır"
      ]
    },
    {
      "cell_type": "code",
      "execution_count": 83,
      "metadata": {
        "id": "ULDk_G-qVr96",
        "outputId": "46267e0b-2be4-4c0d-88ac-ee2070bf5f15",
        "colab": {
          "base_uri": "https://localhost:8080/",
          "height": 141
        }
      },
      "outputs": [
        {
          "output_type": "error",
          "ename": "ValueError",
          "evalue": "cannot reshape array of size 10 into shape (3,5)",
          "traceback": [
            "\u001b[0;31m---------------------------------------------------------------------------\u001b[0m",
            "\u001b[0;31mValueError\u001b[0m                                Traceback (most recent call last)",
            "\u001b[0;32m<ipython-input-83-08800ed1575a>\u001b[0m in \u001b[0;36m<cell line: 0>\u001b[0;34m()\u001b[0m\n\u001b[0;32m----> 1\u001b[0;31m \u001b[0mm\u001b[0m\u001b[0;34m.\u001b[0m\u001b[0mreshape\u001b[0m\u001b[0;34m(\u001b[0m\u001b[0;36m3\u001b[0m\u001b[0;34m,\u001b[0m\u001b[0;36m5\u001b[0m\u001b[0;34m)\u001b[0m \u001b[0;31m#3*5= 15 olduğundan 15!= m olduğundan hata aldık.\u001b[0m\u001b[0;34m\u001b[0m\u001b[0;34m\u001b[0m\u001b[0m\n\u001b[0m",
            "\u001b[0;31mValueError\u001b[0m: cannot reshape array of size 10 into shape (3,5)"
          ]
        }
      ],
      "source": [
        "m.reshape(3,5) #3*5= 15 olduğundan 15!= m olduğundan hata aldık."
      ]
    },
    {
      "cell_type": "code",
      "execution_count": 84,
      "metadata": {
        "id": "9tTwL9afVr97",
        "outputId": "5cf01acd-cba9-4aa4-d1c2-6c05077e97c0",
        "colab": {
          "base_uri": "https://localhost:8080/",
          "height": 158
        }
      },
      "outputs": [
        {
          "output_type": "error",
          "ename": "ValueError",
          "evalue": "cannot reshape array of size 10 into shape (3,4)",
          "traceback": [
            "\u001b[0;31m---------------------------------------------------------------------------\u001b[0m",
            "\u001b[0;31mValueError\u001b[0m                                Traceback (most recent call last)",
            "\u001b[0;32m<ipython-input-84-ddb6d476a06a>\u001b[0m in \u001b[0;36m<cell line: 0>\u001b[0;34m()\u001b[0m\n\u001b[1;32m      1\u001b[0m \u001b[0;31m# eleman sayısı ile reshape içindeki (satır * sütunun) aynısı olması gerekldiri reshape için\u001b[0m\u001b[0;34m\u001b[0m\u001b[0;34m\u001b[0m\u001b[0m\n\u001b[0;32m----> 2\u001b[0;31m \u001b[0mm\u001b[0m\u001b[0;34m.\u001b[0m\u001b[0mreshape\u001b[0m\u001b[0;34m(\u001b[0m\u001b[0;36m3\u001b[0m\u001b[0;34m,\u001b[0m\u001b[0;36m4\u001b[0m\u001b[0;34m)\u001b[0m\u001b[0;34m\u001b[0m\u001b[0;34m\u001b[0m\u001b[0m\n\u001b[0m",
            "\u001b[0;31mValueError\u001b[0m: cannot reshape array of size 10 into shape (3,4)"
          ]
        }
      ],
      "source": [
        "# eleman sayısı ile reshape içindeki (satır * sütunun) aynısı olması gerekldiri reshape için\n",
        "m.reshape(3,4)"
      ]
    },
    {
      "cell_type": "code",
      "execution_count": 85,
      "metadata": {
        "id": "kVx5jLgwVr97",
        "outputId": "95766cef-173b-49fb-a1db-e68bf9e21de0",
        "colab": {
          "base_uri": "https://localhost:8080/"
        }
      },
      "outputs": [
        {
          "output_type": "execute_result",
          "data": {
            "text/plain": [
              "array([ 1,  2,  3,  4,  5,  6,  7,  8,  9, 10, 11, 12])"
            ]
          },
          "metadata": {},
          "execution_count": 85
        }
      ],
      "source": [
        "n=np.arange(1,13)\n",
        "n"
      ]
    },
    {
      "cell_type": "code",
      "execution_count": 86,
      "metadata": {
        "id": "waKuuaQ1Vr98",
        "outputId": "3129bb73-b4e2-407e-9adf-3f4f518ac788",
        "colab": {
          "base_uri": "https://localhost:8080/"
        }
      },
      "outputs": [
        {
          "output_type": "execute_result",
          "data": {
            "text/plain": [
              "array([[ 1,  2,  3,  4],\n",
              "       [ 5,  6,  7,  8],\n",
              "       [ 9, 10, 11, 12]])"
            ]
          },
          "metadata": {},
          "execution_count": 86
        }
      ],
      "source": [
        "n.reshape(3,4)"
      ]
    },
    {
      "cell_type": "code",
      "source": [
        "n.reshape(4,3)"
      ],
      "metadata": {
        "colab": {
          "base_uri": "https://localhost:8080/"
        },
        "id": "nV0Tv3jFOCob",
        "outputId": "4fc2a224-8618-4731-adbf-88e0adbac667"
      },
      "execution_count": 88,
      "outputs": [
        {
          "output_type": "execute_result",
          "data": {
            "text/plain": [
              "array([[ 1,  2,  3],\n",
              "       [ 4,  5,  6],\n",
              "       [ 7,  8,  9],\n",
              "       [10, 11, 12]])"
            ]
          },
          "metadata": {},
          "execution_count": 88
        }
      ]
    },
    {
      "cell_type": "code",
      "execution_count": 87,
      "metadata": {
        "id": "8CGs6VqJVr99",
        "outputId": "9ae8f7f1-637f-4280-a2a4-4c611ecba35a",
        "colab": {
          "base_uri": "https://localhost:8080/"
        }
      },
      "outputs": [
        {
          "output_type": "execute_result",
          "data": {
            "text/plain": [
              "array([[ 1,  2,  3,  4],\n",
              "       [ 5,  6,  7,  8],\n",
              "       [ 9, 10, 11, 12]])"
            ]
          },
          "metadata": {},
          "execution_count": 87
        }
      ],
      "source": [
        "#otomatik olarak 4 kolonlu bir array yarattı\n",
        "n.reshape(-1,4)"
      ]
    },
    {
      "cell_type": "markdown",
      "metadata": {
        "id": "YtDoYI4UVr-H"
      },
      "source": [
        "# concatenate"
      ]
    },
    {
      "cell_type": "code",
      "execution_count": 89,
      "metadata": {
        "id": "B6yEXcI7Vr-H"
      },
      "outputs": [],
      "source": [
        "x= np.array([1,2,3])\n",
        "y= np.array([4,5,6])"
      ]
    },
    {
      "cell_type": "code",
      "execution_count": 90,
      "metadata": {
        "id": "1R5XtauDVr-I",
        "outputId": "2d507e75-67c3-4669-fb6d-d02a13f8d7da",
        "colab": {
          "base_uri": "https://localhost:8080/"
        }
      },
      "outputs": [
        {
          "output_type": "execute_result",
          "data": {
            "text/plain": [
              "array([1, 2, 3, 4, 5, 6])"
            ]
          },
          "metadata": {},
          "execution_count": 90
        }
      ],
      "source": [
        "np.concatenate([x,y])"
      ]
    },
    {
      "cell_type": "code",
      "execution_count": 91,
      "metadata": {
        "id": "S24K9uyvVr-K"
      },
      "outputs": [],
      "source": [
        "l=[9,0]"
      ]
    },
    {
      "cell_type": "code",
      "execution_count": 92,
      "metadata": {
        "id": "IBbGJs1eVr-L",
        "outputId": "1da5e926-6c24-4a73-ebdf-e906ff9d2434",
        "colab": {
          "base_uri": "https://localhost:8080/"
        }
      },
      "outputs": [
        {
          "output_type": "execute_result",
          "data": {
            "text/plain": [
              "array([4, 5, 6, 1, 2, 3, 9, 0])"
            ]
          },
          "metadata": {},
          "execution_count": 92
        }
      ],
      "source": [
        "np.concatenate([y,x,l])"
      ]
    },
    {
      "cell_type": "code",
      "execution_count": 93,
      "metadata": {
        "id": "sjJarUo-Vr-M",
        "outputId": "8e3c0cbb-8636-4903-ee6b-846a9c84fadb",
        "colab": {
          "base_uri": "https://localhost:8080/"
        }
      },
      "outputs": [
        {
          "output_type": "execute_result",
          "data": {
            "text/plain": [
              "array([[1, 2, 3],\n",
              "       [4, 5, 6]])"
            ]
          },
          "metadata": {},
          "execution_count": 93
        }
      ],
      "source": [
        "# iki boyutlu\n",
        "\n",
        "a= np.array([[1,2,3],[4,5,6]])\n",
        "a"
      ]
    },
    {
      "cell_type": "code",
      "execution_count": 94,
      "metadata": {
        "id": "YKZsNldfVr-M",
        "outputId": "e1ebb0bf-b891-47d6-98d6-400a46791be4",
        "colab": {
          "base_uri": "https://localhost:8080/"
        }
      },
      "outputs": [
        {
          "output_type": "execute_result",
          "data": {
            "text/plain": [
              "2"
            ]
          },
          "metadata": {},
          "execution_count": 94
        }
      ],
      "source": [
        "a.ndim"
      ]
    },
    {
      "cell_type": "code",
      "execution_count": 95,
      "metadata": {
        "id": "vuA69kc8Vr-N",
        "outputId": "32811abc-cf0e-46dc-b8c7-e18fb53af900",
        "colab": {
          "base_uri": "https://localhost:8080/"
        }
      },
      "outputs": [
        {
          "output_type": "execute_result",
          "data": {
            "text/plain": [
              "(2, 3)"
            ]
          },
          "metadata": {},
          "execution_count": 95
        }
      ],
      "source": [
        "a.shape"
      ]
    },
    {
      "cell_type": "code",
      "execution_count": 96,
      "metadata": {
        "id": "ElEBaewVVr-O",
        "outputId": "f222212c-d7f1-491a-c3ab-c62f71f7ce8d",
        "colab": {
          "base_uri": "https://localhost:8080/"
        }
      },
      "outputs": [
        {
          "output_type": "execute_result",
          "data": {
            "text/plain": [
              "array([[1, 2, 3],\n",
              "       [4, 5, 6],\n",
              "       [1, 2, 3],\n",
              "       [4, 5, 6]])"
            ]
          },
          "metadata": {},
          "execution_count": 96
        }
      ],
      "source": [
        "#dimensionların aynı olması gerekir\n",
        "m= np.concatenate([a,a])\n",
        "m"
      ]
    },
    {
      "cell_type": "code",
      "execution_count": 99,
      "metadata": {
        "id": "KtCi3fQ1Vr-Q",
        "outputId": "54f11e5e-6e78-4e91-c468-0a563b3a76c3",
        "colab": {
          "base_uri": "https://localhost:8080/"
        }
      },
      "outputs": [
        {
          "output_type": "execute_result",
          "data": {
            "text/plain": [
              "array([[1, 2, 3],\n",
              "       [4, 5, 6],\n",
              "       [1, 2, 3],\n",
              "       [4, 5, 6]])"
            ]
          },
          "metadata": {},
          "execution_count": 99
        }
      ],
      "source": [
        "#asis = 0 satır boyunca\n",
        "#yani satır altına yazar\n",
        "m= np.concatenate([a,a],axis=0)\n",
        "m"
      ]
    },
    {
      "cell_type": "code",
      "execution_count": 98,
      "metadata": {
        "id": "juYNvn_2Vr-R",
        "outputId": "e8cc4bb5-7322-4b49-aadb-2ec5fedef474",
        "colab": {
          "base_uri": "https://localhost:8080/"
        }
      },
      "outputs": [
        {
          "output_type": "execute_result",
          "data": {
            "text/plain": [
              "array([[1, 2, 3, 1, 2, 3],\n",
              "       [4, 5, 6, 4, 5, 6]])"
            ]
          },
          "metadata": {},
          "execution_count": 98
        }
      ],
      "source": [
        "#axis= 1 sutun boyunca işlem\n",
        "#yani satırda yana ekler\n",
        "m= np.concatenate([a,a],axis=1)\n",
        "m"
      ]
    },
    {
      "cell_type": "markdown",
      "metadata": {
        "id": "MzdpkQTxVr-S"
      },
      "source": [
        "# Splitting"
      ]
    },
    {
      "cell_type": "code",
      "execution_count": 100,
      "metadata": {
        "id": "r53AAO4HVr-S"
      },
      "outputs": [],
      "source": [
        "l=[10,20,30,40,50,60,70,80] #list"
      ]
    },
    {
      "cell_type": "code",
      "execution_count": 101,
      "metadata": {
        "id": "LI_DbosKVr-T",
        "outputId": "6b50b646-338f-438d-f32d-b76b1bbd7f85",
        "colab": {
          "base_uri": "https://localhost:8080/"
        }
      },
      "outputs": [
        {
          "output_type": "execute_result",
          "data": {
            "text/plain": [
              "[10, 20, 30, 40, 50]"
            ]
          },
          "metadata": {},
          "execution_count": 101
        }
      ],
      "source": [
        "l[0:5]"
      ]
    },
    {
      "cell_type": "code",
      "execution_count": 102,
      "metadata": {
        "id": "sHaf5YJGVr-U",
        "outputId": "c47e7d55-2e20-464c-a4f8-97ac16ee45e3",
        "colab": {
          "base_uri": "https://localhost:8080/"
        }
      },
      "outputs": [
        {
          "output_type": "execute_result",
          "data": {
            "text/plain": [
              "[10, 20, 30, 40, 50]"
            ]
          },
          "metadata": {},
          "execution_count": 102
        }
      ],
      "source": [
        "l[:5]"
      ]
    },
    {
      "cell_type": "code",
      "execution_count": 106,
      "metadata": {
        "id": "R7lCvfD0Vr-V",
        "outputId": "ae0e559b-1695-44e2-b34b-6aebf927f5c4",
        "colab": {
          "base_uri": "https://localhost:8080/"
        }
      },
      "outputs": [
        {
          "output_type": "execute_result",
          "data": {
            "text/plain": [
              "[array([10, 20]), array([30, 40, 50]), array([60, 70, 80])]"
            ]
          },
          "metadata": {},
          "execution_count": 106
        }
      ],
      "source": [
        "final=np.split(l,[2,5])\n",
        "final"
      ]
    },
    {
      "cell_type": "code",
      "execution_count": 107,
      "metadata": {
        "id": "vuZPE-eWVr-W"
      },
      "outputs": [],
      "source": [
        "a,b,c=final"
      ]
    },
    {
      "cell_type": "code",
      "execution_count": 108,
      "metadata": {
        "id": "QvEwliO0Vr-W"
      },
      "outputs": [],
      "source": [
        "a,b,c=np.split(l,[2,5])"
      ]
    },
    {
      "cell_type": "code",
      "execution_count": 109,
      "metadata": {
        "id": "ZjsGt0oVVr-X",
        "outputId": "31c09f0a-094b-42a3-d402-ba27481596dd",
        "colab": {
          "base_uri": "https://localhost:8080/"
        }
      },
      "outputs": [
        {
          "output_type": "execute_result",
          "data": {
            "text/plain": [
              "array([10, 20])"
            ]
          },
          "metadata": {},
          "execution_count": 109
        }
      ],
      "source": [
        "a"
      ]
    },
    {
      "cell_type": "code",
      "execution_count": 110,
      "metadata": {
        "id": "cwdERWkhVr-Z",
        "outputId": "67c1c201-a4d3-40c3-d5de-ddf6f0eb5ea0",
        "colab": {
          "base_uri": "https://localhost:8080/"
        }
      },
      "outputs": [
        {
          "output_type": "execute_result",
          "data": {
            "text/plain": [
              "array([30, 40, 50])"
            ]
          },
          "metadata": {},
          "execution_count": 110
        }
      ],
      "source": [
        "b"
      ]
    },
    {
      "cell_type": "code",
      "execution_count": 111,
      "metadata": {
        "id": "nkbEVd-yVr-c",
        "outputId": "14eb6eb0-cbf9-4718-a16a-c6ee9e026f96",
        "colab": {
          "base_uri": "https://localhost:8080/"
        }
      },
      "outputs": [
        {
          "output_type": "execute_result",
          "data": {
            "text/plain": [
              "array([60, 70, 80])"
            ]
          },
          "metadata": {},
          "execution_count": 111
        }
      ],
      "source": [
        "c"
      ]
    },
    {
      "cell_type": "markdown",
      "metadata": {
        "id": "b2GyAKWMVr-d"
      },
      "source": [
        "# Array elemanlarına erişmek"
      ]
    },
    {
      "cell_type": "code",
      "execution_count": 114,
      "metadata": {
        "id": "ydxB_m_2Vr-d",
        "outputId": "c4425c02-86d7-479a-ed17-268c602522dd",
        "colab": {
          "base_uri": "https://localhost:8080/"
        }
      },
      "outputs": [
        {
          "output_type": "execute_result",
          "data": {
            "text/plain": [
              "array([[ 1,  2,  3,  4],\n",
              "       [ 5,  6,  7,  8],\n",
              "       [ 9, 10, 11, 12]])"
            ]
          },
          "metadata": {},
          "execution_count": 114
        }
      ],
      "source": [
        "a=np.arange(1,13).reshape(3,4)\n",
        "a"
      ]
    },
    {
      "cell_type": "code",
      "execution_count": 115,
      "metadata": {
        "id": "BhVP20stVr-e",
        "outputId": "ca11f1ef-d291-488a-ab5f-fcc70f9f682d",
        "colab": {
          "base_uri": "https://localhost:8080/"
        }
      },
      "outputs": [
        {
          "output_type": "execute_result",
          "data": {
            "text/plain": [
              "array([1, 2, 3, 4])"
            ]
          },
          "metadata": {},
          "execution_count": 115
        }
      ],
      "source": [
        "#birinci satır\n",
        "a[0]"
      ]
    },
    {
      "cell_type": "code",
      "execution_count": 116,
      "metadata": {
        "id": "Zfqdz43gVr-f",
        "outputId": "38ce4bbc-4eb4-4650-c143-490fecd8a2d0",
        "colab": {
          "base_uri": "https://localhost:8080/"
        }
      },
      "outputs": [
        {
          "output_type": "execute_result",
          "data": {
            "text/plain": [
              "array([5, 6, 7, 8])"
            ]
          },
          "metadata": {},
          "execution_count": 116
        }
      ],
      "source": [
        "# ikinci satır\n",
        "a[1]"
      ]
    },
    {
      "cell_type": "code",
      "execution_count": 117,
      "metadata": {
        "id": "oK_LlS_NVr-f",
        "outputId": "be751493-b40f-4a42-efe0-445b88b33d04",
        "colab": {
          "base_uri": "https://localhost:8080/"
        }
      },
      "outputs": [
        {
          "output_type": "execute_result",
          "data": {
            "text/plain": [
              "np.int64(1)"
            ]
          },
          "metadata": {},
          "execution_count": 117
        }
      ],
      "source": [
        "#0.satır 0.kolon\n",
        "a[0,0]"
      ]
    },
    {
      "cell_type": "code",
      "execution_count": 118,
      "metadata": {
        "id": "DXdSrUUIVr-g",
        "outputId": "0600f71d-cf04-4966-b8c2-10299cec54ae",
        "colab": {
          "base_uri": "https://localhost:8080/"
        }
      },
      "outputs": [
        {
          "output_type": "execute_result",
          "data": {
            "text/plain": [
              "np.int64(1)"
            ]
          },
          "metadata": {},
          "execution_count": 118
        }
      ],
      "source": [
        "#0.satır 0.kolon\n",
        "a[0][0]"
      ]
    },
    {
      "cell_type": "code",
      "execution_count": 119,
      "metadata": {
        "id": "EEilvh0EVr-h",
        "outputId": "9f7180c2-18ac-4034-9e74-37fa83d94cdf",
        "colab": {
          "base_uri": "https://localhost:8080/"
        }
      },
      "outputs": [
        {
          "output_type": "execute_result",
          "data": {
            "text/plain": [
              "np.int64(2)"
            ]
          },
          "metadata": {},
          "execution_count": 119
        }
      ],
      "source": [
        "#0.satır 1.kolon\n",
        "a[0,1]"
      ]
    },
    {
      "cell_type": "code",
      "execution_count": 120,
      "metadata": {
        "id": "Xz-MvAXTVr-h",
        "outputId": "87af6082-383f-44c5-f9ad-51b2e125a4e3",
        "colab": {
          "base_uri": "https://localhost:8080/"
        }
      },
      "outputs": [
        {
          "output_type": "execute_result",
          "data": {
            "text/plain": [
              "np.int64(6)"
            ]
          },
          "metadata": {},
          "execution_count": 120
        }
      ],
      "source": [
        "a[1,1]"
      ]
    },
    {
      "cell_type": "code",
      "execution_count": 121,
      "metadata": {
        "id": "8aNGs0EMVr-i",
        "outputId": "eddfbe45-dc5e-4c15-ed38-df08becce948",
        "colab": {
          "base_uri": "https://localhost:8080/"
        }
      },
      "outputs": [
        {
          "output_type": "execute_result",
          "data": {
            "text/plain": [
              "np.int64(11)"
            ]
          },
          "metadata": {},
          "execution_count": 121
        }
      ],
      "source": [
        "#2.satır 2.kolon\n",
        "a[2,2]"
      ]
    },
    {
      "cell_type": "code",
      "execution_count": 122,
      "metadata": {
        "id": "XKjH-bu1Vr-i",
        "outputId": "af23c198-12f8-413c-f904-c91ecf8d7eb7",
        "colab": {
          "base_uri": "https://localhost:8080/"
        }
      },
      "outputs": [
        {
          "output_type": "execute_result",
          "data": {
            "text/plain": [
              "array([[  1,   2,   3,   4],\n",
              "       [  5,   6,   7,   8],\n",
              "       [  9,  10, 300,  12]])"
            ]
          },
          "metadata": {},
          "execution_count": 122
        }
      ],
      "source": [
        "#2.satır 2.kolon 300 olarak değiştirildi\n",
        "a[2,2]= 300\n",
        "a"
      ]
    },
    {
      "cell_type": "markdown",
      "metadata": {
        "id": "3Bc8KYpRVr-j"
      },
      "source": [
        "### Slice indeksing"
      ]
    },
    {
      "cell_type": "code",
      "execution_count": 123,
      "metadata": {
        "id": "d74mnnqzVr-j",
        "outputId": "2d8c99e3-e8fb-487e-a84c-75acafb0007f",
        "colab": {
          "base_uri": "https://localhost:8080/"
        }
      },
      "outputs": [
        {
          "output_type": "execute_result",
          "data": {
            "text/plain": [
              "array([[ 1,  2,  3,  4],\n",
              "       [ 5,  6,  7,  8],\n",
              "       [ 9, 10, 11, 12]])"
            ]
          },
          "metadata": {},
          "execution_count": 123
        }
      ],
      "source": [
        "a=np.arange(1,13).reshape(3,4)\n",
        "a"
      ]
    },
    {
      "cell_type": "code",
      "execution_count": 126,
      "metadata": {
        "id": "6xEZkKuaVr-k",
        "outputId": "14b5916a-4ed9-413c-8cdc-53253cb2c058",
        "colab": {
          "base_uri": "https://localhost:8080/"
        }
      },
      "outputs": [
        {
          "output_type": "execute_result",
          "data": {
            "text/plain": [
              "array([[1, 2, 3, 4],\n",
              "       [5, 6, 7, 8]])"
            ]
          },
          "metadata": {},
          "execution_count": 126
        }
      ],
      "source": [
        "# 0 satırı ile 2. satır arasındaki satırları yazdı. (2.satır dahil değil)\n",
        "a[0:2]"
      ]
    },
    {
      "cell_type": "code",
      "execution_count": 127,
      "metadata": {
        "id": "A0VOnbMJVr-l",
        "outputId": "a4b14c65-7300-4179-dcf2-e7bf5bbe5a4a",
        "colab": {
          "base_uri": "https://localhost:8080/"
        }
      },
      "outputs": [
        {
          "output_type": "execute_result",
          "data": {
            "text/plain": [
              "array([[ 1,  2,  3,  4],\n",
              "       [ 5,  6,  7,  8],\n",
              "       [ 9, 10, 11, 12]])"
            ]
          },
          "metadata": {},
          "execution_count": 127
        }
      ],
      "source": [
        "a[:] # bütün satır ve sütünu alır"
      ]
    },
    {
      "cell_type": "code",
      "execution_count": 128,
      "metadata": {
        "id": "3JEOTSXOVr-l",
        "outputId": "e8c746dc-5929-4060-db9b-62f13939ce02",
        "colab": {
          "base_uri": "https://localhost:8080/"
        }
      },
      "outputs": [
        {
          "output_type": "execute_result",
          "data": {
            "text/plain": [
              "array([ 3,  7, 11])"
            ]
          },
          "metadata": {},
          "execution_count": 128
        }
      ],
      "source": [
        "#bütün satırları al ama 2.indexteki kolonu al\n",
        "a[:,2]"
      ]
    },
    {
      "cell_type": "code",
      "execution_count": 129,
      "metadata": {
        "id": "vlMUZsHQVr-m",
        "outputId": "dbc6f76e-a7a5-4161-b857-c38ae60db470",
        "colab": {
          "base_uri": "https://localhost:8080/"
        }
      },
      "outputs": [
        {
          "output_type": "execute_result",
          "data": {
            "text/plain": [
              "array([[ 1,  2],\n",
              "       [ 5,  6],\n",
              "       [ 9, 10]])"
            ]
          },
          "metadata": {},
          "execution_count": 129
        }
      ],
      "source": [
        "#bütün satırları al ama 0'dan 2. kolona kadar olan sütünları al\n",
        "a[:,0:2]"
      ]
    },
    {
      "cell_type": "code",
      "execution_count": 130,
      "metadata": {
        "id": "hmL0EaZvVr-m",
        "outputId": "45cf2e2c-844e-42ae-8c7c-6f086ccba707",
        "colab": {
          "base_uri": "https://localhost:8080/"
        }
      },
      "outputs": [
        {
          "output_type": "execute_result",
          "data": {
            "text/plain": [
              "array([[1, 2],\n",
              "       [5, 6]])"
            ]
          },
          "metadata": {},
          "execution_count": 130
        }
      ],
      "source": [
        "a[0:2,0:2]"
      ]
    },
    {
      "cell_type": "code",
      "execution_count": 131,
      "metadata": {
        "id": "e219drJjVr-n",
        "outputId": "b88748f4-954e-4f91-9392-d1a6b929b580",
        "colab": {
          "base_uri": "https://localhost:8080/"
        }
      },
      "outputs": [
        {
          "output_type": "execute_result",
          "data": {
            "text/plain": [
              "array([[ 1,  2,  3,  4],\n",
              "       [ 5,  6,  7,  8],\n",
              "       [ 9, 10, 11, 12]])"
            ]
          },
          "metadata": {},
          "execution_count": 131
        }
      ],
      "source": [
        "#bütün satırları ve bütün kolonlaru al\n",
        "a[:,:]"
      ]
    },
    {
      "cell_type": "code",
      "execution_count": 132,
      "metadata": {
        "id": "GGnqXM9UVr-o",
        "outputId": "dd4d7028-7841-4268-e446-ac07c9deb3fe",
        "colab": {
          "base_uri": "https://localhost:8080/"
        }
      },
      "outputs": [
        {
          "output_type": "execute_result",
          "data": {
            "text/plain": [
              "array([3, 7])"
            ]
          },
          "metadata": {},
          "execution_count": 132
        }
      ],
      "source": [
        "a[0:2,2]"
      ]
    },
    {
      "cell_type": "markdown",
      "metadata": {
        "id": "vNbrIGfAVr-o"
      },
      "source": [
        "# filter"
      ]
    },
    {
      "cell_type": "code",
      "execution_count": 133,
      "metadata": {
        "id": "oNNNDHvdVr-p",
        "outputId": "7bf18288-fe6c-4b9b-b058-3de299903076",
        "colab": {
          "base_uri": "https://localhost:8080/"
        }
      },
      "outputs": [
        {
          "output_type": "execute_result",
          "data": {
            "text/plain": [
              "array([1, 2, 3, 4, 5, 6, 7, 8, 9])"
            ]
          },
          "metadata": {},
          "execution_count": 133
        }
      ],
      "source": [
        "a=np.arange(1,10)\n",
        "a"
      ]
    },
    {
      "cell_type": "code",
      "execution_count": 134,
      "metadata": {
        "id": "4FESBULfVr-p",
        "outputId": "0b9349ae-a978-45c7-e5b8-721b59108891",
        "colab": {
          "base_uri": "https://localhost:8080/"
        }
      },
      "outputs": [
        {
          "output_type": "execute_result",
          "data": {
            "text/plain": [
              "array([ True,  True,  True,  True,  True,  True, False, False, False])"
            ]
          },
          "metadata": {},
          "execution_count": 134
        }
      ],
      "source": [
        "a<7"
      ]
    },
    {
      "cell_type": "code",
      "execution_count": 135,
      "metadata": {
        "id": "MngHW5HqVr-r",
        "outputId": "2e29c217-94a0-417b-e6eb-a90192fb5dda",
        "colab": {
          "base_uri": "https://localhost:8080/"
        }
      },
      "outputs": [
        {
          "output_type": "execute_result",
          "data": {
            "text/plain": [
              "array([1, 2, 3, 4, 5, 6])"
            ]
          },
          "metadata": {},
          "execution_count": 135
        }
      ],
      "source": [
        "# 7 den küçük değerlere ulaştık\n",
        "a[a<7]"
      ]
    },
    {
      "cell_type": "code",
      "execution_count": 136,
      "metadata": {
        "id": "2ukYE8q4Vr-s"
      },
      "outputs": [],
      "source": [
        "filt= a<5"
      ]
    },
    {
      "cell_type": "code",
      "execution_count": 137,
      "metadata": {
        "id": "WgZrNBBYVr-t",
        "outputId": "51830ee3-c89d-4ef0-8cc1-66fe2e5206c6",
        "colab": {
          "base_uri": "https://localhost:8080/"
        }
      },
      "outputs": [
        {
          "output_type": "execute_result",
          "data": {
            "text/plain": [
              "array([1, 2, 3, 4])"
            ]
          },
          "metadata": {},
          "execution_count": 137
        }
      ],
      "source": [
        "a[filt]"
      ]
    },
    {
      "cell_type": "code",
      "execution_count": 138,
      "metadata": {
        "id": "-FnvvtwEVr-u"
      },
      "outputs": [],
      "source": [
        "#array tipinde and = &\n",
        "filt= (a>5) & (a<9)"
      ]
    },
    {
      "cell_type": "code",
      "execution_count": 139,
      "metadata": {
        "id": "A-_YqqaKVr-v",
        "outputId": "c0ace43a-cbb0-46af-94f4-82734d2238d9",
        "colab": {
          "base_uri": "https://localhost:8080/"
        }
      },
      "outputs": [
        {
          "output_type": "execute_result",
          "data": {
            "text/plain": [
              "array([6, 7, 8])"
            ]
          },
          "metadata": {},
          "execution_count": 139
        }
      ],
      "source": [
        "a[filt]"
      ]
    },
    {
      "cell_type": "code",
      "execution_count": 140,
      "metadata": {
        "id": "hNaiO5TuVr-v"
      },
      "outputs": [],
      "source": [
        "#array tipinde or = |\n",
        "filt= (a<5) | (a>8)"
      ]
    },
    {
      "cell_type": "code",
      "execution_count": 141,
      "metadata": {
        "id": "h9vL4cyzVr-w",
        "outputId": "ebf6a048-617f-4654-d4b3-cf8074abc342",
        "colab": {
          "base_uri": "https://localhost:8080/"
        }
      },
      "outputs": [
        {
          "output_type": "execute_result",
          "data": {
            "text/plain": [
              "array([1, 2, 3, 4, 9])"
            ]
          },
          "metadata": {},
          "execution_count": 141
        }
      ],
      "source": [
        "a[filt]"
      ]
    },
    {
      "cell_type": "code",
      "execution_count": 142,
      "metadata": {
        "id": "DROHz2YZVr-w"
      },
      "outputs": [],
      "source": [
        "#filtrenin değili (a<5 dışında kalanlar)\n",
        "filt= ~(a<5)"
      ]
    },
    {
      "cell_type": "code",
      "execution_count": 143,
      "metadata": {
        "id": "sPFHqPIrVr-x",
        "outputId": "3239fafb-0244-479f-ac09-23a9517f292e",
        "colab": {
          "base_uri": "https://localhost:8080/"
        }
      },
      "outputs": [
        {
          "output_type": "execute_result",
          "data": {
            "text/plain": [
              "array([5, 6, 7, 8, 9])"
            ]
          },
          "metadata": {},
          "execution_count": 143
        }
      ],
      "source": [
        "a[filt]"
      ]
    },
    {
      "cell_type": "code",
      "execution_count": 144,
      "metadata": {
        "id": "vcqwKto_Vr-y",
        "outputId": "28f683d6-e998-4ec0-c894-d5529e0fe4e5",
        "colab": {
          "base_uri": "https://localhost:8080/"
        }
      },
      "outputs": [
        {
          "output_type": "execute_result",
          "data": {
            "text/plain": [
              "array([[1, 2, 3],\n",
              "       [4, 5, 6],\n",
              "       [7, 8, 9]])"
            ]
          },
          "metadata": {},
          "execution_count": 144
        }
      ],
      "source": [
        "b=np.arange(1,10).reshape(3,3)\n",
        "b"
      ]
    },
    {
      "cell_type": "code",
      "execution_count": 145,
      "metadata": {
        "id": "jxiTxZF3Vr-y",
        "outputId": "c5ec44fd-a925-4b3a-848b-3eca73179f16",
        "colab": {
          "base_uri": "https://localhost:8080/"
        }
      },
      "outputs": [
        {
          "output_type": "execute_result",
          "data": {
            "text/plain": [
              "array([[ True,  True,  True],\n",
              "       [ True,  True,  True],\n",
              "       [False, False, False]])"
            ]
          },
          "metadata": {},
          "execution_count": 145
        }
      ],
      "source": [
        "b<7"
      ]
    },
    {
      "cell_type": "code",
      "execution_count": 146,
      "metadata": {
        "id": "pVZeJyzmVr-z",
        "outputId": "a4222bff-a519-41e6-a0ad-77628bf19a10",
        "colab": {
          "base_uri": "https://localhost:8080/"
        }
      },
      "outputs": [
        {
          "output_type": "execute_result",
          "data": {
            "text/plain": [
              "array([1, 2, 3, 4, 5, 6])"
            ]
          },
          "metadata": {},
          "execution_count": 146
        }
      ],
      "source": [
        "#filtre boyutu bozar. istenirse sonra tekrardan boyut eklenebilir.\n",
        "b[b<7]"
      ]
    },
    {
      "cell_type": "code",
      "execution_count": 147,
      "metadata": {
        "id": "X4bDxiXcVr-0",
        "outputId": "491d1575-3b8c-4e76-a53c-fd6e8097b28d",
        "colab": {
          "base_uri": "https://localhost:8080/"
        }
      },
      "outputs": [
        {
          "output_type": "execute_result",
          "data": {
            "text/plain": [
              "array([[1, 2, 3],\n",
              "       [4, 5, 6]])"
            ]
          },
          "metadata": {},
          "execution_count": 147
        }
      ],
      "source": [
        "b[b<7].reshape(2,3)"
      ]
    },
    {
      "cell_type": "code",
      "execution_count": 148,
      "metadata": {
        "id": "A4J-0k1ZVr-0"
      },
      "outputs": [],
      "source": [
        "# 7 den küçük elanlar ile oluşturulan altküme bir array\n",
        "x= b[b<7].reshape(2,3)"
      ]
    },
    {
      "cell_type": "code",
      "execution_count": 149,
      "metadata": {
        "id": "nmMM1axrVr-9",
        "outputId": "0425d1f1-b4cb-49f7-ac2b-b4cd1e25c89f",
        "colab": {
          "base_uri": "https://localhost:8080/"
        }
      },
      "outputs": [
        {
          "output_type": "execute_result",
          "data": {
            "text/plain": [
              "array([[1, 2, 3],\n",
              "       [4, 5, 6]])"
            ]
          },
          "metadata": {},
          "execution_count": 149
        }
      ],
      "source": [
        "x"
      ]
    },
    {
      "cell_type": "markdown",
      "metadata": {
        "id": "792rAE2jVr-9"
      },
      "source": [
        "# SUM"
      ]
    },
    {
      "cell_type": "code",
      "execution_count": 150,
      "metadata": {
        "id": "hOgNOr2nVr--",
        "outputId": "47c90520-eca8-461e-9074-8d230db2750f",
        "colab": {
          "base_uri": "https://localhost:8080/"
        }
      },
      "outputs": [
        {
          "output_type": "execute_result",
          "data": {
            "text/plain": [
              "array([[1, 2, 3],\n",
              "       [4, 5, 6],\n",
              "       [7, 8, 9]])"
            ]
          },
          "metadata": {},
          "execution_count": 150
        }
      ],
      "source": [
        "b=np.arange(1,10).reshape(3,3)\n",
        "b"
      ]
    },
    {
      "cell_type": "code",
      "execution_count": 151,
      "metadata": {
        "id": "RsexwnCdVr-_",
        "outputId": "98c968f5-d49e-46c5-c309-d225abb58747",
        "colab": {
          "base_uri": "https://localhost:8080/"
        }
      },
      "outputs": [
        {
          "output_type": "execute_result",
          "data": {
            "text/plain": [
              "np.int64(45)"
            ]
          },
          "metadata": {},
          "execution_count": 151
        }
      ],
      "source": [
        "#bütün elemanları topluyor.\n",
        "np.sum(b)"
      ]
    },
    {
      "cell_type": "code",
      "execution_count": 152,
      "metadata": {
        "id": "MyQzV1s2Vr_A",
        "outputId": "6b318851-3731-42c4-855b-704f666f3f6c",
        "colab": {
          "base_uri": "https://localhost:8080/"
        }
      },
      "outputs": [
        {
          "output_type": "execute_result",
          "data": {
            "text/plain": [
              "np.int64(21)"
            ]
          },
          "metadata": {},
          "execution_count": 152
        }
      ],
      "source": [
        "#7'den küçük olanların toplamı\n",
        "np.sum(b[b<7])"
      ]
    },
    {
      "cell_type": "code",
      "execution_count": 153,
      "metadata": {
        "id": "YGvsotPFVr_A",
        "outputId": "4dfe0f7d-2963-4cfc-96a6-8fe4e7aa48ec",
        "colab": {
          "base_uri": "https://localhost:8080/"
        }
      },
      "outputs": [
        {
          "output_type": "execute_result",
          "data": {
            "text/plain": [
              "array([12, 15, 18])"
            ]
          },
          "metadata": {},
          "execution_count": 153
        }
      ],
      "source": [
        "# sütunların toplamı\n",
        "np.sum(b,axis=0)"
      ]
    },
    {
      "cell_type": "code",
      "execution_count": 154,
      "metadata": {
        "id": "fyesJJkIVr_B",
        "outputId": "4eb65b34-86ed-49ee-d5f9-758507a5057d",
        "colab": {
          "base_uri": "https://localhost:8080/"
        }
      },
      "outputs": [
        {
          "output_type": "execute_result",
          "data": {
            "text/plain": [
              "array([ 6, 15, 24])"
            ]
          },
          "metadata": {},
          "execution_count": 154
        }
      ],
      "source": [
        "# satırların toplamı\n",
        "np.sum(b,axis=1)"
      ]
    }
  ],
  "metadata": {
    "kernelspec": {
      "display_name": "Python 3",
      "language": "python",
      "name": "python3"
    },
    "language_info": {
      "codemirror_mode": {
        "name": "ipython",
        "version": 3
      },
      "file_extension": ".py",
      "mimetype": "text/x-python",
      "name": "python",
      "nbconvert_exporter": "python",
      "pygments_lexer": "ipython3",
      "version": "3.7.6"
    },
    "colab": {
      "provenance": [],
      "include_colab_link": true
    }
  },
  "nbformat": 4,
  "nbformat_minor": 0
}